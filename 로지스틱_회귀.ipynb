{
  "nbformat": 4,
  "nbformat_minor": 0,
  "metadata": {
    "colab": {
      "name": "로지스틱 회귀",
      "provenance": [],
      "collapsed_sections": [],
      "authorship_tag": "ABX9TyNyllSg6yQC2Tc2jYNBw8VI",
      "include_colab_link": true
    },
    "kernelspec": {
      "name": "python3",
      "display_name": "Python 3"
    },
    "language_info": {
      "name": "python"
    }
  },
  "cells": [
    {
      "cell_type": "markdown",
      "metadata": {
        "id": "view-in-github",
        "colab_type": "text"
      },
      "source": [
        "<a href=\"https://colab.research.google.com/github/limdiny/ML/blob/main/%EB%A1%9C%EC%A7%80%EC%8A%A4%ED%8B%B1_%ED%9A%8C%EA%B7%80.ipynb\" target=\"_parent\"><img src=\"https://colab.research.google.com/assets/colab-badge.svg\" alt=\"Open In Colab\"/></a>"
      ]
    },
    {
      "cell_type": "markdown",
      "source": [
        "# 로지스틱 회귀\n",
        "* 로지스틱 회귀\n",
        "\n",
        "선형방정식을 사용한 분류 알고리즘이다. 시그모이드 함수나 소프트맥스 함수를 사용하여 클래스 확률을 출력할 수 있다.\n",
        "\n",
        "![](https://images.velog.io/images/oooops/post/358709b4-8a9c-4647-ae5c-0872cc141546/image.png)\n",
        "\n",
        "* 다중 분류\n",
        "\n",
        "타깃 클래스가 2개 이상인 분류문제이다. 로지스틱 회귀는 다중 분류를 위해 소프트맥스 함수를 사용하여 클래스를 예측한다.\n",
        "\n",
        "* 시그모이드 함수\n",
        "\n",
        "이진분류를 위해 사용하고, 선형방정식의 출력을 0~1 사이의 값으로 압축한다.\n",
        "\n",
        "* 소프트맥스 함수\n",
        "\n",
        "다중분류를 위해 사용하고, 여러 선형 방정식의 출력 결과를 정규화하여 합이 1이 되도록 만든다.\n",
        "\n",
        "* LogisticRegression\n",
        "\n",
        "선형 분류 알고리즘인 로지스틱 회귀를 위한 클래스이다.\n",
        "\n",
        "* predict_proba()\n",
        "\n",
        "예측 확률을 반환한다.\n",
        "\n",
        "* decision_function()\n",
        "\n",
        "모델이 학습한 선형 방정식의 출력을 반환한다.\n",
        "\n",
        "이진 분류일 경우 양성클래스의 확률이 반환된다.\n",
        "\n",
        "다중 분류일 경우 각 클래스마다 선형방정식을 계산해서 가장 큰 값의 클래스가 예측 클래스가  된다."
      ],
      "metadata": {
        "id": "aN9xCP11_9oR"
      }
    },
    {
      "cell_type": "code",
      "execution_count": null,
      "metadata": {
        "colab": {
          "base_uri": "https://localhost:8080/",
          "height": 206
        },
        "id": "XngwiljZ_7Ee",
        "outputId": "02ff65f9-b129-4715-b78d-4f9d2f027317"
      },
      "outputs": [
        {
          "output_type": "execute_result",
          "data": {
            "text/html": [
              "\n",
              "  <div id=\"df-e07b821d-2bb6-4fa4-bcfd-3bbf082e5fe7\">\n",
              "    <div class=\"colab-df-container\">\n",
              "      <div>\n",
              "<style scoped>\n",
              "    .dataframe tbody tr th:only-of-type {\n",
              "        vertical-align: middle;\n",
              "    }\n",
              "\n",
              "    .dataframe tbody tr th {\n",
              "        vertical-align: top;\n",
              "    }\n",
              "\n",
              "    .dataframe thead th {\n",
              "        text-align: right;\n",
              "    }\n",
              "</style>\n",
              "<table border=\"1\" class=\"dataframe\">\n",
              "  <thead>\n",
              "    <tr style=\"text-align: right;\">\n",
              "      <th></th>\n",
              "      <th>Species</th>\n",
              "      <th>Weight</th>\n",
              "      <th>Length</th>\n",
              "      <th>Diagonal</th>\n",
              "      <th>Height</th>\n",
              "      <th>Width</th>\n",
              "    </tr>\n",
              "  </thead>\n",
              "  <tbody>\n",
              "    <tr>\n",
              "      <th>0</th>\n",
              "      <td>Bream</td>\n",
              "      <td>242.0</td>\n",
              "      <td>25.4</td>\n",
              "      <td>30.0</td>\n",
              "      <td>11.5200</td>\n",
              "      <td>4.0200</td>\n",
              "    </tr>\n",
              "    <tr>\n",
              "      <th>1</th>\n",
              "      <td>Bream</td>\n",
              "      <td>290.0</td>\n",
              "      <td>26.3</td>\n",
              "      <td>31.2</td>\n",
              "      <td>12.4800</td>\n",
              "      <td>4.3056</td>\n",
              "    </tr>\n",
              "    <tr>\n",
              "      <th>2</th>\n",
              "      <td>Bream</td>\n",
              "      <td>340.0</td>\n",
              "      <td>26.5</td>\n",
              "      <td>31.1</td>\n",
              "      <td>12.3778</td>\n",
              "      <td>4.6961</td>\n",
              "    </tr>\n",
              "    <tr>\n",
              "      <th>3</th>\n",
              "      <td>Bream</td>\n",
              "      <td>363.0</td>\n",
              "      <td>29.0</td>\n",
              "      <td>33.5</td>\n",
              "      <td>12.7300</td>\n",
              "      <td>4.4555</td>\n",
              "    </tr>\n",
              "    <tr>\n",
              "      <th>4</th>\n",
              "      <td>Bream</td>\n",
              "      <td>430.0</td>\n",
              "      <td>29.0</td>\n",
              "      <td>34.0</td>\n",
              "      <td>12.4440</td>\n",
              "      <td>5.1340</td>\n",
              "    </tr>\n",
              "  </tbody>\n",
              "</table>\n",
              "</div>\n",
              "      <button class=\"colab-df-convert\" onclick=\"convertToInteractive('df-e07b821d-2bb6-4fa4-bcfd-3bbf082e5fe7')\"\n",
              "              title=\"Convert this dataframe to an interactive table.\"\n",
              "              style=\"display:none;\">\n",
              "        \n",
              "  <svg xmlns=\"http://www.w3.org/2000/svg\" height=\"24px\"viewBox=\"0 0 24 24\"\n",
              "       width=\"24px\">\n",
              "    <path d=\"M0 0h24v24H0V0z\" fill=\"none\"/>\n",
              "    <path d=\"M18.56 5.44l.94 2.06.94-2.06 2.06-.94-2.06-.94-.94-2.06-.94 2.06-2.06.94zm-11 1L8.5 8.5l.94-2.06 2.06-.94-2.06-.94L8.5 2.5l-.94 2.06-2.06.94zm10 10l.94 2.06.94-2.06 2.06-.94-2.06-.94-.94-2.06-.94 2.06-2.06.94z\"/><path d=\"M17.41 7.96l-1.37-1.37c-.4-.4-.92-.59-1.43-.59-.52 0-1.04.2-1.43.59L10.3 9.45l-7.72 7.72c-.78.78-.78 2.05 0 2.83L4 21.41c.39.39.9.59 1.41.59.51 0 1.02-.2 1.41-.59l7.78-7.78 2.81-2.81c.8-.78.8-2.07 0-2.86zM5.41 20L4 18.59l7.72-7.72 1.47 1.35L5.41 20z\"/>\n",
              "  </svg>\n",
              "      </button>\n",
              "      \n",
              "  <style>\n",
              "    .colab-df-container {\n",
              "      display:flex;\n",
              "      flex-wrap:wrap;\n",
              "      gap: 12px;\n",
              "    }\n",
              "\n",
              "    .colab-df-convert {\n",
              "      background-color: #E8F0FE;\n",
              "      border: none;\n",
              "      border-radius: 50%;\n",
              "      cursor: pointer;\n",
              "      display: none;\n",
              "      fill: #1967D2;\n",
              "      height: 32px;\n",
              "      padding: 0 0 0 0;\n",
              "      width: 32px;\n",
              "    }\n",
              "\n",
              "    .colab-df-convert:hover {\n",
              "      background-color: #E2EBFA;\n",
              "      box-shadow: 0px 1px 2px rgba(60, 64, 67, 0.3), 0px 1px 3px 1px rgba(60, 64, 67, 0.15);\n",
              "      fill: #174EA6;\n",
              "    }\n",
              "\n",
              "    [theme=dark] .colab-df-convert {\n",
              "      background-color: #3B4455;\n",
              "      fill: #D2E3FC;\n",
              "    }\n",
              "\n",
              "    [theme=dark] .colab-df-convert:hover {\n",
              "      background-color: #434B5C;\n",
              "      box-shadow: 0px 1px 3px 1px rgba(0, 0, 0, 0.15);\n",
              "      filter: drop-shadow(0px 1px 2px rgba(0, 0, 0, 0.3));\n",
              "      fill: #FFFFFF;\n",
              "    }\n",
              "  </style>\n",
              "\n",
              "      <script>\n",
              "        const buttonEl =\n",
              "          document.querySelector('#df-e07b821d-2bb6-4fa4-bcfd-3bbf082e5fe7 button.colab-df-convert');\n",
              "        buttonEl.style.display =\n",
              "          google.colab.kernel.accessAllowed ? 'block' : 'none';\n",
              "\n",
              "        async function convertToInteractive(key) {\n",
              "          const element = document.querySelector('#df-e07b821d-2bb6-4fa4-bcfd-3bbf082e5fe7');\n",
              "          const dataTable =\n",
              "            await google.colab.kernel.invokeFunction('convertToInteractive',\n",
              "                                                     [key], {});\n",
              "          if (!dataTable) return;\n",
              "\n",
              "          const docLinkHtml = 'Like what you see? Visit the ' +\n",
              "            '<a target=\"_blank\" href=https://colab.research.google.com/notebooks/data_table.ipynb>data table notebook</a>'\n",
              "            + ' to learn more about interactive tables.';\n",
              "          element.innerHTML = '';\n",
              "          dataTable['output_type'] = 'display_data';\n",
              "          await google.colab.output.renderOutput(dataTable, element);\n",
              "          const docLink = document.createElement('div');\n",
              "          docLink.innerHTML = docLinkHtml;\n",
              "          element.appendChild(docLink);\n",
              "        }\n",
              "      </script>\n",
              "    </div>\n",
              "  </div>\n",
              "  "
            ],
            "text/plain": [
              "  Species  Weight  Length  Diagonal   Height   Width\n",
              "0   Bream   242.0    25.4      30.0  11.5200  4.0200\n",
              "1   Bream   290.0    26.3      31.2  12.4800  4.3056\n",
              "2   Bream   340.0    26.5      31.1  12.3778  4.6961\n",
              "3   Bream   363.0    29.0      33.5  12.7300  4.4555\n",
              "4   Bream   430.0    29.0      34.0  12.4440  5.1340"
            ]
          },
          "metadata": {},
          "execution_count": 44
        }
      ],
      "source": [
        "import pandas as pd\n",
        "\n",
        "fish = pd.read_csv('https://bit.ly/fish_csv')\n",
        "fish.head()"
      ]
    },
    {
      "cell_type": "code",
      "source": [
        "print(pd.unique(fish['Species']))"
      ],
      "metadata": {
        "colab": {
          "base_uri": "https://localhost:8080/"
        },
        "id": "lUs1WLB6AZBV",
        "outputId": "0bb6def0-1e28-402b-cd2c-bb6987de0d01"
      },
      "execution_count": null,
      "outputs": [
        {
          "output_type": "stream",
          "name": "stdout",
          "text": [
            "['Bream' 'Roach' 'Whitefish' 'Parkki' 'Perch' 'Pike' 'Smelt']\n"
          ]
        }
      ]
    },
    {
      "cell_type": "markdown",
      "source": [
        "* pd.unique()를 사용하여 species의 고유한 값들을 출력한다(일종의 set 개념?)\n",
        "* 총  7개의 종이 있다. "
      ],
      "metadata": {
        "id": "aSurLafeAowY"
      }
    },
    {
      "cell_type": "code",
      "source": [
        "fish_input = fish[['Weight','Length','Diagonal','Height','Width']].to_numpy()\n",
        "fish_target = fish['Species'].to_numpy()\n"
      ],
      "metadata": {
        "id": "PFihAfmTA65a"
      },
      "execution_count": null,
      "outputs": []
    },
    {
      "cell_type": "markdown",
      "source": [
        "* input과 target을 numpy배열로 저장해줌"
      ],
      "metadata": {
        "id": "z7dLtIbhBsjB"
      }
    },
    {
      "cell_type": "code",
      "source": [
        "from sklearn.model_selection import train_test_split\n",
        "\n",
        "train_input, test_input, train_target, test_target = train_test_split(\n",
        "    fish_input, fish_target, random_state=42)\n",
        "\n",
        "from sklearn.preprocessing import StandardScaler\n",
        "\n",
        "ss = StandardScaler()\n",
        "ss.fit(train_input)\n",
        "train_scaled = ss.transform(train_input)\n",
        "test_scaled = ss.transform(test_input)"
      ],
      "metadata": {
        "id": "jnTZn33bBzMR"
      },
      "execution_count": null,
      "outputs": []
    },
    {
      "cell_type": "markdown",
      "source": [
        "* 데이터 분리와 데이터들의 정규화를 시켜줌"
      ],
      "metadata": {
        "id": "DCh-mXjUCpSN"
      }
    },
    {
      "cell_type": "markdown",
      "source": [
        "# 1. k 최근접 이웃 분류기의 확률 예측"
      ],
      "metadata": {
        "id": "BBoNJz85NXNq"
      }
    },
    {
      "cell_type": "code",
      "source": [
        "from sklearn.neighbors import KNeighborsClassifier\n",
        "\n",
        "kn = KNeighborsClassifier(n_neighbors=3)\n",
        "kn.fit(train_scaled, train_target)\n",
        "\n",
        "print(kn.score(train_scaled, train_target))\n",
        "print(kn.score(test_scaled, test_target))\n",
        "\n",
        "print(kn.classes_)"
      ],
      "metadata": {
        "id": "iAX9lsbkCvp4",
        "colab": {
          "base_uri": "https://localhost:8080/"
        },
        "outputId": "6e497344-203d-4bab-ba5b-9c2d74d3129f"
      },
      "execution_count": null,
      "outputs": [
        {
          "output_type": "stream",
          "name": "stdout",
          "text": [
            "0.8907563025210085\n",
            "0.85\n",
            "['Bream' 'Parkki' 'Perch' 'Pike' 'Roach' 'Smelt' 'Whitefish']\n"
          ]
        }
      ]
    },
    {
      "cell_type": "markdown",
      "source": [
        "* KNEighborsClassifier에 정렬된 타깃값은 class_의 속성에 저장되있음\n",
        "* print(pd.unique(fish['Species'])) 로 출력했던 순서와 달리 알파벳정렬이 되있음\n",
        "\n"
      ],
      "metadata": {
        "id": "FDBovwE5Jq0M"
      }
    },
    {
      "cell_type": "code",
      "source": [
        "print(kn.predict(test_scaled[:5]))"
      ],
      "metadata": {
        "colab": {
          "base_uri": "https://localhost:8080/"
        },
        "id": "x5ynAPB-Kuyf",
        "outputId": "78b56aa8-5f30-4b00-9cf1-376b2a3b1188"
      },
      "execution_count": null,
      "outputs": [
        {
          "output_type": "stream",
          "name": "stdout",
          "text": [
            "['Perch' 'Smelt' 'Pike' 'Perch' 'Perch']\n"
          ]
        }
      ]
    },
    {
      "cell_type": "markdown",
      "source": [
        "* 처음 5개 샘플에 대한 타깃값 예측"
      ],
      "metadata": {
        "id": "PNjBhC1GLCcr"
      }
    },
    {
      "cell_type": "code",
      "source": [
        "import numpy as np\n",
        "\n",
        "proba = kn.predict_proba(test_scaled[:5])\n",
        "print(np.round(proba, decimals=4))"
      ],
      "metadata": {
        "colab": {
          "base_uri": "https://localhost:8080/"
        },
        "id": "IDeG6bg1LKkr",
        "outputId": "4a941704-7abd-4d89-efc9-9f79ce967dca"
      },
      "execution_count": null,
      "outputs": [
        {
          "output_type": "stream",
          "name": "stdout",
          "text": [
            "[[0.     0.     1.     0.     0.     0.     0.    ]\n",
            " [0.     0.     0.     0.     0.     1.     0.    ]\n",
            " [0.     0.     0.     1.     0.     0.     0.    ]\n",
            " [0.     0.     0.6667 0.     0.3333 0.     0.    ]\n",
            " [0.     0.     0.6667 0.     0.3333 0.     0.    ]]\n"
          ]
        }
      ]
    },
    {
      "cell_type": "markdown",
      "source": [
        "* predict_proba 를 사용하여 각 클래스별 확률을 보여준다.\n",
        "* 행:5개의 샘플 / 열: 각각의 클래스\n",
        "* np.round(proba,decimals=4) 소수점 아래 5번째에서 반올림하여 4번째자리까지 표기한다."
      ],
      "metadata": {
        "id": "mShLMkI4LaHV"
      }
    },
    {
      "cell_type": "code",
      "source": [
        "distances, indexes = kn.kneighbors(test_scaled[3:4])\n",
        "print(train_target[indexes])"
      ],
      "metadata": {
        "colab": {
          "base_uri": "https://localhost:8080/"
        },
        "id": "Ai4BePi1SiaE",
        "outputId": "75a2b4c7-d9d5-4078-e9f2-e701b90402b3"
      },
      "execution_count": null,
      "outputs": [
        {
          "output_type": "stream",
          "name": "stdout",
          "text": [
            "[['Roach' 'Perch' 'Perch']]\n"
          ]
        }
      ]
    },
    {
      "cell_type": "markdown",
      "source": [
        "**잠깐 !!**\n",
        "* n_neighbors=3 으로 3개의 최근접이웃을 사용하면 확률이 0, 1/3, 2/3, 1 밖에 안나옴\n",
        "* 연속적인 확률을 표기하기위해 로지스틱 회귀를 사용함"
      ],
      "metadata": {
        "id": "MVoE239oM3h2"
      }
    },
    {
      "cell_type": "markdown",
      "source": [
        "# 2. 로지스틱 회귀 (이진분류)\n",
        "\n",
        "* 이름은 회귀지만 분류할 때 사용"
      ],
      "metadata": {
        "id": "-cOSBc07No0b"
      }
    },
    {
      "cell_type": "code",
      "source": [
        "bream_smelt_indexes = (train_target == 'Bream') | (train_target == 'Smelt')\n",
        "train_bream_smelt = train_scaled[bream_smelt_indexes]\n",
        "target_bream_smelt = train_target[bream_smelt_indexes]"
      ],
      "metadata": {
        "id": "8rUX9ipMNmgC"
      },
      "execution_count": null,
      "outputs": []
    },
    {
      "cell_type": "markdown",
      "source": [
        "* bream_smelt_indexes 배열은 도미와 빙어일 경우 true이고, 그 외 모두 false의 값이 들어있다.\n",
        "* bream_smelt_indexes 의 배열을 사용해서 train_scaled와 train_target 에서 도미와 빙어만 골라낼 수 있다."
      ],
      "metadata": {
        "id": "Qz0eBysxUuYE"
      }
    },
    {
      "cell_type": "code",
      "source": [
        "from sklearn.linear_model import LogisticRegression\n",
        "lr=LogisticRegression()\n",
        "lr.fit(train_bream_smelt,target_bream_smelt)"
      ],
      "metadata": {
        "colab": {
          "base_uri": "https://localhost:8080/"
        },
        "id": "L8KHTRvvVc0F",
        "outputId": "fd2f421f-bfac-4eae-c173-121ab6496c19"
      },
      "execution_count": null,
      "outputs": [
        {
          "output_type": "execute_result",
          "data": {
            "text/plain": [
              "LogisticRegression()"
            ]
          },
          "metadata": {},
          "execution_count": 54
        }
      ]
    },
    {
      "cell_type": "code",
      "source": [
        "print(lr.predict(train_bream_smelt[:5]))\n",
        "print(lr.predict_proba(train_bream_smelt[:5]))"
      ],
      "metadata": {
        "colab": {
          "base_uri": "https://localhost:8080/"
        },
        "id": "SScxSo9hV95v",
        "outputId": "b92fd961-6110-4260-e5da-6694f79b4dc1"
      },
      "execution_count": null,
      "outputs": [
        {
          "output_type": "stream",
          "name": "stdout",
          "text": [
            "['Bream' 'Smelt' 'Bream' 'Bream' 'Bream']\n",
            "[[0.99759855 0.00240145]\n",
            " [0.02735183 0.97264817]\n",
            " [0.99486072 0.00513928]\n",
            " [0.98584202 0.01415798]\n",
            " [0.99767269 0.00232731]]\n"
          ]
        }
      ]
    },
    {
      "cell_type": "markdown",
      "source": [
        "* 첫번째 열 : 음성클래스에 대한 비율(bream)\n",
        "* 두번째 열 : 양성클래스에 대한 비율(smelt)\n",
        "\n",
        "\n"
      ],
      "metadata": {
        "id": "Hrcx9MNyWIgJ"
      }
    },
    {
      "cell_type": "code",
      "source": [
        "print(lr.coef_,lr.intercept_)"
      ],
      "metadata": {
        "colab": {
          "base_uri": "https://localhost:8080/"
        },
        "id": "5Zr7ESh6WizE",
        "outputId": "43678c63-cb61-4cf8-9898-4d5a92e79024"
      },
      "execution_count": null,
      "outputs": [
        {
          "output_type": "stream",
          "name": "stdout",
          "text": [
            "[[-0.4037798  -0.57620209 -0.66280298 -1.01290277 -0.73168947]] [-2.16155132]\n"
          ]
        }
      ]
    },
    {
      "cell_type": "markdown",
      "source": [
        "![image.png](data:image/png;base64,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)"
      ],
      "metadata": {
        "id": "NRFW6FMwWtGo"
      }
    },
    {
      "cell_type": "code",
      "source": [
        "decisions = lr.decision_function(train_bream_smelt[:5])\n",
        "print(decisions)"
      ],
      "metadata": {
        "colab": {
          "base_uri": "https://localhost:8080/"
        },
        "id": "VXXS4akrW5NV",
        "outputId": "c8439e41-7e5f-442c-e5a0-797bec574b3f"
      },
      "execution_count": null,
      "outputs": [
        {
          "output_type": "stream",
          "name": "stdout",
          "text": [
            "[-6.02927744  3.57123907 -5.26568906 -4.24321775 -6.0607117 ]\n"
          ]
        }
      ]
    },
    {
      "cell_type": "markdown",
      "source": [
        "* train_bream_smelt 의 5개 샘플의 z값"
      ],
      "metadata": {
        "id": "a0xzxELhXOtv"
      }
    },
    {
      "cell_type": "code",
      "source": [
        "from scipy.special import expit\n",
        "print(expit(decisions))"
      ],
      "metadata": {
        "colab": {
          "base_uri": "https://localhost:8080/"
        },
        "id": "toI2kBNmXbDy",
        "outputId": "1cc7f3e4-d56f-4a26-b7d8-c0b10b943fae"
      },
      "execution_count": null,
      "outputs": [
        {
          "output_type": "stream",
          "name": "stdout",
          "text": [
            "[0.00240145 0.97264817 0.00513928 0.01415798 0.00232731]\n"
          ]
        }
      ]
    },
    {
      "cell_type": "markdown",
      "source": [
        "*  사이파이 라이브러리에서 시그모이드함수를 불러와 z값을 넣으면 그에 대한 확률로 변환된다.\n",
        "* 출력된 값을 보면 predict_proba의 두번째열의 확률과 동일하다\n",
        "* decision_function()은 양성클래스에 대한 z값을 반환하는 것이다."
      ],
      "metadata": {
        "id": "4oLub4c_XkOU"
      }
    },
    {
      "cell_type": "markdown",
      "source": [
        "# 3. 로지스틱 회귀 (다중분류)"
      ],
      "metadata": {
        "id": "0jmvb7lQYFEF"
      }
    },
    {
      "cell_type": "code",
      "source": [
        "lr=LogisticRegression(C=20,max_iter=1000)\n",
        "lr.fit(train_scaled,train_target)\n",
        "print(lr.score(train_scaled,train_target))\n",
        "print(lr.score(test_scaled,test_target))"
      ],
      "metadata": {
        "colab": {
          "base_uri": "https://localhost:8080/"
        },
        "id": "MojpC1jvYCMO",
        "outputId": "860868fd-c355-45b8-ad7d-e03d308d94f5"
      },
      "execution_count": null,
      "outputs": [
        {
          "output_type": "stream",
          "name": "stdout",
          "text": [
            "0.9327731092436975\n",
            "0.925\n"
          ]
        }
      ]
    },
    {
      "cell_type": "markdown",
      "source": [
        "* 로지스틱회귀는 기본적으로 반복적인 알고리즘을 사용한다(max_iter로 조절)\n",
        "* 로지스틱회귀에서 규제를 제어하는 매개변수는 C(작을수록 규제가 커짐)"
      ],
      "metadata": {
        "id": "RhkDyS5FZH6I"
      }
    },
    {
      "cell_type": "code",
      "source": [
        "print(lr.classes_)"
      ],
      "metadata": {
        "colab": {
          "base_uri": "https://localhost:8080/"
        },
        "id": "FYkR0H08Zy7q",
        "outputId": "200e011b-f00a-4394-d4e9-b2b9fd342d7d"
      },
      "execution_count": null,
      "outputs": [
        {
          "output_type": "stream",
          "name": "stdout",
          "text": [
            "['Bream' 'Parkki' 'Perch' 'Pike' 'Roach' 'Smelt' 'Whitefish']\n"
          ]
        }
      ]
    },
    {
      "cell_type": "code",
      "source": [
        "print(lr.predict(test_scaled[:5]))\n",
        "proba=lr.predict_proba(test_scaled[:5])\n",
        "print(np.round(proba,decimals=3))"
      ],
      "metadata": {
        "colab": {
          "base_uri": "https://localhost:8080/"
        },
        "id": "Ucoahwn3ZYHJ",
        "outputId": "89244385-f842-41a3-ca7f-1eb9da7b986a"
      },
      "execution_count": null,
      "outputs": [
        {
          "output_type": "stream",
          "name": "stdout",
          "text": [
            "['Perch' 'Smelt' 'Pike' 'Roach' 'Perch']\n",
            "[[0.    0.014 0.841 0.    0.136 0.007 0.003]\n",
            " [0.    0.003 0.044 0.    0.007 0.946 0.   ]\n",
            " [0.    0.    0.034 0.935 0.015 0.016 0.   ]\n",
            " [0.011 0.034 0.306 0.007 0.567 0.    0.076]\n",
            " [0.    0.    0.904 0.002 0.089 0.002 0.001]]\n"
          ]
        }
      ]
    },
    {
      "cell_type": "markdown",
      "source": [
        "* 5개 샘플에 대한 예측(행)\n",
        "* 7개 생선에 대한 확률(열)\n",
        "\n",
        "* K최근접이웃에서는 확률이 0, 1/3, 2/3, 1  이산적)\n",
        "\n",
        "* 로지스틱회귀 이중분류에서는 도미와 빙어에 대한 확률만 출력)"
      ],
      "metadata": {
        "id": "rhCXrEFGZ7ZS"
      }
    },
    {
      "cell_type": "code",
      "source": [
        "print(lr.coef_,lr.intercept_)\n",
        "print(lr.coef_.shape,lr.intercept_.shape)"
      ],
      "metadata": {
        "colab": {
          "base_uri": "https://localhost:8080/"
        },
        "id": "vKGn1tKiZ6Fw",
        "outputId": "912b36c8-7874-437d-ee2f-4816471257c0"
      },
      "execution_count": null,
      "outputs": [
        {
          "output_type": "stream",
          "name": "stdout",
          "text": [
            "[[-1.49002911 -1.02919221  2.59351113  7.70354318 -1.20068079]\n",
            " [ 0.19619256 -2.0106062  -3.77982687  6.50490143 -1.99486463]\n",
            " [ 3.56278472  6.34361428 -8.48973364 -5.75756295  3.79309039]\n",
            " [-0.10458533  3.60316654  3.93067417 -3.61731229 -1.75070607]\n",
            " [-1.40059104 -6.07505264  5.25967743 -0.87222909  1.86043657]\n",
            " [-1.38528628  1.49217379  1.3922839  -5.67732641 -4.40095877]\n",
            " [ 0.62151448 -2.32410356 -0.90658611  1.71598614  3.69368329]] [-0.09204845 -0.26290731  3.25101057 -0.14742485  2.65496057 -6.78780765\n",
            "  1.38421712]\n",
            "(7, 5) (7,)\n"
          ]
        }
      ]
    },
    {
      "cell_type": "markdown",
      "source": [
        "* 다중분류는 클래스마다 z값을 계산함\n"
      ],
      "metadata": {
        "id": "rbT2T5_ia0Tx"
      }
    },
    {
      "cell_type": "code",
      "source": [
        "decisions=lr.decision_function(test_scaled[:5])\n",
        "print(np.round(decisions,decimals=2))"
      ],
      "metadata": {
        "colab": {
          "base_uri": "https://localhost:8080/"
        },
        "id": "-ejP5s5SbZvm",
        "outputId": "b7e514d5-9d44-4bdd-8cad-499b428d3d63"
      },
      "execution_count": null,
      "outputs": [
        {
          "output_type": "stream",
          "name": "stdout",
          "text": [
            "[[ -6.5    1.03   5.16  -2.73   3.34   0.33  -0.63]\n",
            " [-10.86   1.93   4.77  -2.4    2.98   7.84  -4.26]\n",
            " [ -4.34  -6.23   3.17   6.49   2.36   2.42  -3.87]\n",
            " [ -0.68   0.45   2.65  -1.19   3.26  -5.75   1.26]\n",
            " [ -6.4   -1.99   5.82  -0.11   3.5   -0.11  -0.71]]\n"
          ]
        }
      ]
    },
    {
      "cell_type": "code",
      "source": [
        "from scipy.special import softmax\n",
        "proba=softmax(decisions,axis=1)\n",
        "print(np.round(proba,decimals=3))"
      ],
      "metadata": {
        "colab": {
          "base_uri": "https://localhost:8080/"
        },
        "id": "XiMst_AVbrdu",
        "outputId": "66f852a4-ad75-4735-93c4-6f7421a8eb1e"
      },
      "execution_count": null,
      "outputs": [
        {
          "output_type": "stream",
          "name": "stdout",
          "text": [
            "[[0.    0.014 0.841 0.    0.136 0.007 0.003]\n",
            " [0.    0.003 0.044 0.    0.007 0.946 0.   ]\n",
            " [0.    0.    0.034 0.935 0.015 0.016 0.   ]\n",
            " [0.011 0.034 0.306 0.007 0.567 0.    0.076]\n",
            " [0.    0.    0.904 0.002 0.089 0.002 0.001]]\n"
          ]
        }
      ]
    },
    {
      "cell_type": "markdown",
      "source": [
        "* 이진분류는 시그모이드함수를 사용하고,다중분류는 소프트맥스함수를 사용해서 z값을 변환한다.\n",
        "* axis=1 로 지정해서 각 행에 대해 소프트맥스를 계산한다.\n"
      ],
      "metadata": {
        "id": "QTKWOFlccG8j"
      }
    }
  ]
}