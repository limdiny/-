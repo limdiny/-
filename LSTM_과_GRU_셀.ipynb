{
  "nbformat": 4,
  "nbformat_minor": 0,
  "metadata": {
    "colab": {
      "name": "LSTM 과 GRU 셀",
      "provenance": [],
      "authorship_tag": "ABX9TyNWKNcDW7trGmgw7D6BuyYN",
      "include_colab_link": true
    },
    "kernelspec": {
      "name": "python3",
      "display_name": "Python 3"
    },
    "language_info": {
      "name": "python"
    }
  },
  "cells": [
    {
      "cell_type": "markdown",
      "metadata": {
        "id": "view-in-github",
        "colab_type": "text"
      },
      "source": [
        "<a href=\"https://colab.research.google.com/github/limdiny/ML/blob/main/LSTM_%EA%B3%BC_GRU_%EC%85%80.ipynb\" target=\"_parent\"><img src=\"https://colab.research.google.com/assets/colab-badge.svg\" alt=\"Open In Colab\"/></a>"
      ]
    },
    {
      "cell_type": "markdown",
      "source": [
        "# LSTM 과 GRU 셀\n",
        "* LSTM\n",
        "\n",
        "  * 타임스텝이 긴 데이터를 효과적으로 학습하기위해 고안된 순환층이다. 입력/삭제/출력 게이트 역할을 하는 작은 셀이 포함되있다.\n",
        "  * LSTM은닉상태와 셀상태를 출력한다. 셀상태는 다음층으로 전달되지않으며 현재 셀에서만 순환한다.\n",
        "\n",
        "* GRU\n",
        "\n",
        "  LSTM의 간소화 버전으로 성능도 조오타~!\n",
        "\n",
        "## LSTM 신경망 훈련하기"
      ],
      "metadata": {
        "id": "jJvvO5YSVDxf"
      }
    },
    {
      "cell_type": "code",
      "execution_count": 8,
      "metadata": {
        "id": "PQ2yk8lGU-9j"
      },
      "outputs": [],
      "source": [
        "from tensorflow.keras.datasets import imdb\n",
        "from sklearn.model_selection import train_test_split\n",
        "\n",
        "(train_input, train_target), (test_input, test_target) = imdb.load_data(\n",
        "    num_words=500)\n",
        "\n",
        "train_input, val_input, train_target, val_target = train_test_split(\n",
        "    train_input, train_target, test_size=0.2, random_state=42)"
      ]
    },
    {
      "cell_type": "code",
      "source": [
        "from tensorflow.keras.preprocessing.sequence import pad_sequences\n",
        "\n",
        "train_seq = pad_sequences(train_input, maxlen=100)\n",
        "val_seq = pad_sequences(val_input, maxlen=100)"
      ],
      "metadata": {
        "id": "rA6QrKmSV9t_"
      },
      "execution_count": 9,
      "outputs": []
    },
    {
      "cell_type": "code",
      "source": [
        "from tensorflow import keras\n",
        "\n",
        "model = keras.Sequential()\n",
        "model.add(keras.layers.Embedding(500,16,input_length=100))\n",
        "model.add(keras.layers.LSTM(8))\n",
        "model.add(keras.layers.Dense(1,activation='sigmoid'))"
      ],
      "metadata": {
        "id": "9IXUEqrQXDnl"
      },
      "execution_count": 10,
      "outputs": []
    },
    {
      "cell_type": "code",
      "source": [
        "model.summary()"
      ],
      "metadata": {
        "colab": {
          "base_uri": "https://localhost:8080/"
        },
        "id": "zIW8U32VXfzG",
        "outputId": "d7987004-971f-4240-f161-75c31bafedd6"
      },
      "execution_count": 11,
      "outputs": [
        {
          "output_type": "stream",
          "name": "stdout",
          "text": [
            "Model: \"sequential\"\n",
            "_________________________________________________________________\n",
            " Layer (type)                Output Shape              Param #   \n",
            "=================================================================\n",
            " embedding (Embedding)       (None, 100, 16)           8000      \n",
            "                                                                 \n",
            " lstm (LSTM)                 (None, 8)                 800       \n",
            "                                                                 \n",
            " dense (Dense)               (None, 1)                 9         \n",
            "                                                                 \n",
            "=================================================================\n",
            "Total params: 8,809\n",
            "Trainable params: 8,809\n",
            "Non-trainable params: 0\n",
            "_________________________________________________________________\n"
          ]
        }
      ]
    },
    {
      "cell_type": "markdown",
      "source": [
        "* simpleRNN의 파라미터 개수는 200개였으나 LSTM셀에는 작은 셀이 4개나 있으므로 800개"
      ],
      "metadata": {
        "id": "KCeX-XgMXi6V"
      }
    },
    {
      "cell_type": "code",
      "source": [
        "rmsprop = keras.optimizers.RMSprop(learning_rate=1e-4)\n",
        "\n",
        "model.compile(optimizer=rmsprop,loss='binary_crossentropy',metrics=['accuracy'])\n",
        "\n",
        "checkpoint_cb = keras.callbacks.ModelCheckpoint('best-lstm-model.h5',save_best_only=True)\n",
        "early_stopping_cb = keras.callbacks.EarlyStopping(patience=3,restore_best_weights=True)\n",
        "\n",
        "history = model.fit(train_seq,train_target,epochs=100,batch_size=64,validation_data=(val_seq,val_target),callbacks=[checkpoint_cb,early_stopping_cb])"
      ],
      "metadata": {
        "colab": {
          "base_uri": "https://localhost:8080/"
        },
        "id": "KNjcLlRFYdMo",
        "outputId": "dd863ebc-6d93-42d9-dab0-5d7f828bc07a"
      },
      "execution_count": 12,
      "outputs": [
        {
          "output_type": "stream",
          "name": "stdout",
          "text": [
            "Epoch 1/100\n",
            "313/313 [==============================] - 14s 37ms/step - loss: 0.6920 - accuracy: 0.5547 - val_loss: 0.6908 - val_accuracy: 0.5940\n",
            "Epoch 2/100\n",
            "313/313 [==============================] - 13s 41ms/step - loss: 0.6886 - accuracy: 0.6166 - val_loss: 0.6859 - val_accuracy: 0.6414\n",
            "Epoch 3/100\n",
            "313/313 [==============================] - 15s 49ms/step - loss: 0.6790 - accuracy: 0.6546 - val_loss: 0.6686 - val_accuracy: 0.6576\n",
            "Epoch 4/100\n",
            "313/313 [==============================] - 20s 64ms/step - loss: 0.6255 - accuracy: 0.6841 - val_loss: 0.6015 - val_accuracy: 0.7318\n",
            "Epoch 5/100\n",
            "313/313 [==============================] - 16s 52ms/step - loss: 0.5816 - accuracy: 0.7435 - val_loss: 0.5745 - val_accuracy: 0.7450\n",
            "Epoch 6/100\n",
            "313/313 [==============================] - 17s 54ms/step - loss: 0.5566 - accuracy: 0.7563 - val_loss: 0.5530 - val_accuracy: 0.7556\n",
            "Epoch 7/100\n",
            "313/313 [==============================] - 12s 38ms/step - loss: 0.5348 - accuracy: 0.7666 - val_loss: 0.5324 - val_accuracy: 0.7602\n",
            "Epoch 8/100\n",
            "313/313 [==============================] - 11s 34ms/step - loss: 0.5144 - accuracy: 0.7740 - val_loss: 0.5134 - val_accuracy: 0.7718\n",
            "Epoch 9/100\n",
            "313/313 [==============================] - 11s 34ms/step - loss: 0.4958 - accuracy: 0.7816 - val_loss: 0.4985 - val_accuracy: 0.7690\n",
            "Epoch 10/100\n",
            "313/313 [==============================] - 11s 34ms/step - loss: 0.4807 - accuracy: 0.7865 - val_loss: 0.4878 - val_accuracy: 0.7840\n",
            "Epoch 11/100\n",
            "313/313 [==============================] - 11s 36ms/step - loss: 0.4690 - accuracy: 0.7922 - val_loss: 0.4760 - val_accuracy: 0.7806\n",
            "Epoch 12/100\n",
            "313/313 [==============================] - 11s 34ms/step - loss: 0.4599 - accuracy: 0.7931 - val_loss: 0.4720 - val_accuracy: 0.7876\n",
            "Epoch 13/100\n",
            "313/313 [==============================] - 12s 37ms/step - loss: 0.4527 - accuracy: 0.7969 - val_loss: 0.4643 - val_accuracy: 0.7864\n",
            "Epoch 14/100\n",
            "313/313 [==============================] - 11s 35ms/step - loss: 0.4471 - accuracy: 0.8007 - val_loss: 0.4615 - val_accuracy: 0.7882\n",
            "Epoch 15/100\n",
            "313/313 [==============================] - 15s 47ms/step - loss: 0.4422 - accuracy: 0.8008 - val_loss: 0.4576 - val_accuracy: 0.7892\n",
            "Epoch 16/100\n",
            "313/313 [==============================] - 18s 58ms/step - loss: 0.4376 - accuracy: 0.8057 - val_loss: 0.4515 - val_accuracy: 0.7932\n",
            "Epoch 17/100\n",
            "313/313 [==============================] - 13s 42ms/step - loss: 0.4337 - accuracy: 0.8059 - val_loss: 0.4491 - val_accuracy: 0.7908\n",
            "Epoch 18/100\n",
            "313/313 [==============================] - 17s 56ms/step - loss: 0.4302 - accuracy: 0.8082 - val_loss: 0.4466 - val_accuracy: 0.7944\n",
            "Epoch 19/100\n",
            "313/313 [==============================] - 16s 51ms/step - loss: 0.4268 - accuracy: 0.8113 - val_loss: 0.4448 - val_accuracy: 0.7934\n",
            "Epoch 20/100\n",
            "313/313 [==============================] - 15s 49ms/step - loss: 0.4243 - accuracy: 0.8100 - val_loss: 0.4425 - val_accuracy: 0.7956\n",
            "Epoch 21/100\n",
            "313/313 [==============================] - 12s 40ms/step - loss: 0.4220 - accuracy: 0.8114 - val_loss: 0.4412 - val_accuracy: 0.7958\n",
            "Epoch 22/100\n",
            "313/313 [==============================] - 12s 39ms/step - loss: 0.4198 - accuracy: 0.8113 - val_loss: 0.4385 - val_accuracy: 0.7970\n",
            "Epoch 23/100\n",
            "313/313 [==============================] - 13s 41ms/step - loss: 0.4174 - accuracy: 0.8124 - val_loss: 0.4404 - val_accuracy: 0.7958\n",
            "Epoch 24/100\n",
            "313/313 [==============================] - 11s 36ms/step - loss: 0.4160 - accuracy: 0.8126 - val_loss: 0.4404 - val_accuracy: 0.7924\n",
            "Epoch 25/100\n",
            "313/313 [==============================] - 11s 35ms/step - loss: 0.4142 - accuracy: 0.8145 - val_loss: 0.4341 - val_accuracy: 0.8004\n",
            "Epoch 26/100\n",
            "313/313 [==============================] - 11s 34ms/step - loss: 0.4131 - accuracy: 0.8152 - val_loss: 0.4360 - val_accuracy: 0.7940\n",
            "Epoch 27/100\n",
            "313/313 [==============================] - 11s 35ms/step - loss: 0.4113 - accuracy: 0.8162 - val_loss: 0.4338 - val_accuracy: 0.7962\n",
            "Epoch 28/100\n",
            "313/313 [==============================] - 11s 35ms/step - loss: 0.4106 - accuracy: 0.8148 - val_loss: 0.4334 - val_accuracy: 0.7988\n",
            "Epoch 29/100\n",
            "313/313 [==============================] - 11s 36ms/step - loss: 0.4091 - accuracy: 0.8153 - val_loss: 0.4306 - val_accuracy: 0.8008\n",
            "Epoch 30/100\n",
            "313/313 [==============================] - 11s 34ms/step - loss: 0.4079 - accuracy: 0.8159 - val_loss: 0.4309 - val_accuracy: 0.8008\n",
            "Epoch 31/100\n",
            "313/313 [==============================] - 11s 34ms/step - loss: 0.4066 - accuracy: 0.8177 - val_loss: 0.4303 - val_accuracy: 0.8032\n",
            "Epoch 32/100\n",
            "313/313 [==============================] - 11s 34ms/step - loss: 0.4060 - accuracy: 0.8173 - val_loss: 0.4285 - val_accuracy: 0.8050\n",
            "Epoch 33/100\n",
            "313/313 [==============================] - 11s 34ms/step - loss: 0.4050 - accuracy: 0.8182 - val_loss: 0.4286 - val_accuracy: 0.8032\n",
            "Epoch 34/100\n",
            "313/313 [==============================] - 11s 34ms/step - loss: 0.4040 - accuracy: 0.8187 - val_loss: 0.4275 - val_accuracy: 0.7996\n",
            "Epoch 35/100\n",
            "313/313 [==============================] - 11s 34ms/step - loss: 0.4032 - accuracy: 0.8187 - val_loss: 0.4273 - val_accuracy: 0.8036\n",
            "Epoch 36/100\n",
            "313/313 [==============================] - 11s 34ms/step - loss: 0.4024 - accuracy: 0.8190 - val_loss: 0.4262 - val_accuracy: 0.8028\n",
            "Epoch 37/100\n",
            "313/313 [==============================] - 11s 34ms/step - loss: 0.4013 - accuracy: 0.8208 - val_loss: 0.4313 - val_accuracy: 0.8052\n",
            "Epoch 38/100\n",
            "313/313 [==============================] - 11s 35ms/step - loss: 0.4006 - accuracy: 0.8194 - val_loss: 0.4251 - val_accuracy: 0.8014\n",
            "Epoch 39/100\n",
            "313/313 [==============================] - 11s 34ms/step - loss: 0.3991 - accuracy: 0.8196 - val_loss: 0.4285 - val_accuracy: 0.7980\n",
            "Epoch 40/100\n",
            "313/313 [==============================] - 11s 34ms/step - loss: 0.3990 - accuracy: 0.8219 - val_loss: 0.4267 - val_accuracy: 0.8064\n",
            "Epoch 41/100\n",
            "313/313 [==============================] - 11s 35ms/step - loss: 0.3984 - accuracy: 0.8221 - val_loss: 0.4251 - val_accuracy: 0.8026\n"
          ]
        }
      ]
    },
    {
      "cell_type": "code",
      "source": [
        "import matplotlib.pyplot as plt\n",
        "plt.plot(history.history['loss'])\n",
        "plt.plot(history.history['val_loss'])\n",
        "plt.xlabel('epochs')\n",
        "plt.ylabel('loss')\n",
        "plt.legend(['train','val'])\n",
        "plt.show()"
      ],
      "metadata": {
        "colab": {
          "base_uri": "https://localhost:8080/",
          "height": 279
        },
        "id": "34R10hyHZdes",
        "outputId": "fde6eb78-2289-4598-cabe-2136585e866a"
      },
      "execution_count": 13,
      "outputs": [
        {
          "output_type": "display_data",
          "data": {
            "image/png": "[encoded data removed]",
            "text/plain": [
              "<Figure size 432x288 with 1 Axes>"
            ]
          },
          "metadata": {
            "needs_background": "light"
          }
        }
      ]
    },
    {
      "cell_type": "markdown",
      "source": [
        "* 기본 순환층보다 LSTM이 과대적합을 억제하면서 훈련을 잘 수행함\n",
        "* 경우에 따라서 과대적합을 더 강하게 제어할 필요가 있음 (규제, 드롭아웃 등을 활용하여)\n",
        "## 순환층에 드롭아웃 적용하기"
      ],
      "metadata": {
        "id": "8O2MYHc-Zywn"
      }
    },
    {
      "cell_type": "code",
      "source": [
        "model2 = keras.Sequential()\n",
        "model2.add(keras.layers.Embedding(500,16,input_length=100))\n",
        "model2.add(keras.layers.LSTM(8,dropout=0.3))\n",
        "model2.add(keras.layers.Dense(1,activation='sigmoid'))"
      ],
      "metadata": {
        "id": "sCCy572BaD-p"
      },
      "execution_count": 14,
      "outputs": []
    },
    {
      "cell_type": "code",
      "source": [
        "rmsprop = keras.optimizers.RMSprop(learning_rate=1e-4)\n",
        "\n",
        "model2.compile(optimizer=rmsprop,loss='binary_crossentropy',metrics=['accuracy'])\n",
        "\n",
        "checkpoint_cb = keras.callbacks.ModelCheckpoint('best-lstm-model.h5',save_best_only=True)\n",
        "early_stopping_cb = keras.callbacks.EarlyStopping(patience=3,restore_best_weights=True)\n",
        "\n",
        "history = model2.fit(train_seq,train_target,epochs=100,batch_size=64,validation_data=(val_seq,val_target),callbacks=[checkpoint_cb,early_stopping_cb])"
      ],
      "metadata": {
        "colab": {
          "base_uri": "https://localhost:8080/"
        },
        "id": "HVDUxKiRahSd",
        "outputId": "704653b0-90b7-43fd-89bb-1fd5f80eab14"
      },
      "execution_count": 20,
      "outputs": [
        {
          "output_type": "stream",
          "name": "stdout",
          "text": [
            "Epoch 1/100\n",
            "313/313 [==============================] - 17s 46ms/step - loss: 0.6925 - accuracy: 0.5282 - val_loss: 0.6914 - val_accuracy: 0.5638\n",
            "Epoch 2/100\n",
            "313/313 [==============================] - 17s 55ms/step - loss: 0.6902 - accuracy: 0.5825 - val_loss: 0.6881 - val_accuracy: 0.6210\n",
            "Epoch 3/100\n",
            "313/313 [==============================] - 13s 42ms/step - loss: 0.6829 - accuracy: 0.6428 - val_loss: 0.6738 - val_accuracy: 0.6748\n",
            "Epoch 4/100\n",
            "313/313 [==============================] - 11s 35ms/step - loss: 0.6352 - accuracy: 0.6953 - val_loss: 0.6071 - val_accuracy: 0.7018\n",
            "Epoch 5/100\n",
            "313/313 [==============================] - 11s 36ms/step - loss: 0.5905 - accuracy: 0.7120 - val_loss: 0.5808 - val_accuracy: 0.7200\n",
            "Epoch 6/100\n",
            "313/313 [==============================] - 11s 36ms/step - loss: 0.5674 - accuracy: 0.7336 - val_loss: 0.5589 - val_accuracy: 0.7376\n",
            "Epoch 7/100\n",
            "313/313 [==============================] - 11s 36ms/step - loss: 0.5484 - accuracy: 0.7474 - val_loss: 0.5403 - val_accuracy: 0.7576\n",
            "Epoch 8/100\n",
            "313/313 [==============================] - 11s 35ms/step - loss: 0.5310 - accuracy: 0.7588 - val_loss: 0.5245 - val_accuracy: 0.7654\n",
            "Epoch 9/100\n",
            "313/313 [==============================] - 11s 36ms/step - loss: 0.5142 - accuracy: 0.7706 - val_loss: 0.5138 - val_accuracy: 0.7712\n",
            "Epoch 10/100\n",
            "313/313 [==============================] - 11s 36ms/step - loss: 0.5003 - accuracy: 0.7775 - val_loss: 0.4966 - val_accuracy: 0.7834\n",
            "Epoch 11/100\n",
            "313/313 [==============================] - 11s 36ms/step - loss: 0.4885 - accuracy: 0.7843 - val_loss: 0.4859 - val_accuracy: 0.7866\n",
            "Epoch 12/100\n",
            "313/313 [==============================] - 11s 36ms/step - loss: 0.4771 - accuracy: 0.7885 - val_loss: 0.4791 - val_accuracy: 0.7880\n",
            "Epoch 13/100\n",
            "313/313 [==============================] - 11s 36ms/step - loss: 0.4679 - accuracy: 0.7936 - val_loss: 0.4701 - val_accuracy: 0.7932\n",
            "Epoch 14/100\n",
            "313/313 [==============================] - 12s 38ms/step - loss: 0.4621 - accuracy: 0.7944 - val_loss: 0.4654 - val_accuracy: 0.7910\n",
            "Epoch 15/100\n",
            "313/313 [==============================] - 13s 43ms/step - loss: 0.4560 - accuracy: 0.7962 - val_loss: 0.4600 - val_accuracy: 0.7990\n",
            "Epoch 16/100\n",
            "313/313 [==============================] - 14s 45ms/step - loss: 0.4498 - accuracy: 0.7976 - val_loss: 0.4551 - val_accuracy: 0.7984\n",
            "Epoch 17/100\n",
            "313/313 [==============================] - 12s 40ms/step - loss: 0.4440 - accuracy: 0.8030 - val_loss: 0.4511 - val_accuracy: 0.7972\n",
            "Epoch 18/100\n",
            "313/313 [==============================] - 12s 37ms/step - loss: 0.4414 - accuracy: 0.8003 - val_loss: 0.4478 - val_accuracy: 0.7984\n",
            "Epoch 19/100\n",
            "313/313 [==============================] - 11s 36ms/step - loss: 0.4398 - accuracy: 0.8041 - val_loss: 0.4455 - val_accuracy: 0.7968\n",
            "Epoch 20/100\n",
            "313/313 [==============================] - 11s 36ms/step - loss: 0.4355 - accuracy: 0.8044 - val_loss: 0.4428 - val_accuracy: 0.7996\n",
            "Epoch 21/100\n",
            "313/313 [==============================] - 11s 36ms/step - loss: 0.4328 - accuracy: 0.8074 - val_loss: 0.4403 - val_accuracy: 0.7978\n",
            "Epoch 22/100\n",
            "313/313 [==============================] - 11s 36ms/step - loss: 0.4300 - accuracy: 0.8051 - val_loss: 0.4387 - val_accuracy: 0.7998\n",
            "Epoch 23/100\n",
            "313/313 [==============================] - 11s 36ms/step - loss: 0.4277 - accuracy: 0.8078 - val_loss: 0.4372 - val_accuracy: 0.7982\n",
            "Epoch 24/100\n",
            "313/313 [==============================] - 11s 36ms/step - loss: 0.4252 - accuracy: 0.8080 - val_loss: 0.4388 - val_accuracy: 0.8016\n",
            "Epoch 25/100\n",
            "313/313 [==============================] - 11s 36ms/step - loss: 0.4245 - accuracy: 0.8082 - val_loss: 0.4350 - val_accuracy: 0.7958\n",
            "Epoch 26/100\n",
            "313/313 [==============================] - 11s 36ms/step - loss: 0.4240 - accuracy: 0.8073 - val_loss: 0.4345 - val_accuracy: 0.7962\n",
            "Epoch 27/100\n",
            "313/313 [==============================] - 11s 36ms/step - loss: 0.4226 - accuracy: 0.8076 - val_loss: 0.4336 - val_accuracy: 0.8016\n",
            "Epoch 28/100\n",
            "313/313 [==============================] - 11s 36ms/step - loss: 0.4212 - accuracy: 0.8082 - val_loss: 0.4327 - val_accuracy: 0.7992\n",
            "Epoch 29/100\n",
            "313/313 [==============================] - 11s 36ms/step - loss: 0.4195 - accuracy: 0.8084 - val_loss: 0.4322 - val_accuracy: 0.7998\n",
            "Epoch 30/100\n",
            "313/313 [==============================] - 11s 36ms/step - loss: 0.4193 - accuracy: 0.8095 - val_loss: 0.4311 - val_accuracy: 0.8020\n",
            "Epoch 31/100\n",
            "313/313 [==============================] - 11s 36ms/step - loss: 0.4188 - accuracy: 0.8089 - val_loss: 0.4328 - val_accuracy: 0.7960\n",
            "Epoch 32/100\n",
            "313/313 [==============================] - 11s 36ms/step - loss: 0.4181 - accuracy: 0.8094 - val_loss: 0.4308 - val_accuracy: 0.7972\n",
            "Epoch 33/100\n",
            "313/313 [==============================] - 11s 36ms/step - loss: 0.4170 - accuracy: 0.8110 - val_loss: 0.4324 - val_accuracy: 0.8042\n",
            "Epoch 34/100\n",
            "313/313 [==============================] - 11s 36ms/step - loss: 0.4149 - accuracy: 0.8105 - val_loss: 0.4296 - val_accuracy: 0.7998\n",
            "Epoch 35/100\n",
            "313/313 [==============================] - 11s 36ms/step - loss: 0.4152 - accuracy: 0.8101 - val_loss: 0.4289 - val_accuracy: 0.8000\n",
            "Epoch 36/100\n",
            "313/313 [==============================] - 11s 36ms/step - loss: 0.4140 - accuracy: 0.8113 - val_loss: 0.4314 - val_accuracy: 0.8006\n",
            "Epoch 37/100\n",
            "313/313 [==============================] - 11s 36ms/step - loss: 0.4138 - accuracy: 0.8096 - val_loss: 0.4289 - val_accuracy: 0.7998\n",
            "Epoch 38/100\n",
            "313/313 [==============================] - 11s 36ms/step - loss: 0.4118 - accuracy: 0.8105 - val_loss: 0.4283 - val_accuracy: 0.8030\n",
            "Epoch 39/100\n",
            "313/313 [==============================] - 11s 36ms/step - loss: 0.4119 - accuracy: 0.8109 - val_loss: 0.4287 - val_accuracy: 0.7988\n",
            "Epoch 40/100\n",
            "313/313 [==============================] - 11s 36ms/step - loss: 0.4135 - accuracy: 0.8115 - val_loss: 0.4295 - val_accuracy: 0.8036\n",
            "Epoch 41/100\n",
            "313/313 [==============================] - 11s 36ms/step - loss: 0.4122 - accuracy: 0.8125 - val_loss: 0.4283 - val_accuracy: 0.8016\n",
            "Epoch 42/100\n",
            "313/313 [==============================] - 11s 36ms/step - loss: 0.4119 - accuracy: 0.8124 - val_loss: 0.4274 - val_accuracy: 0.8020\n",
            "Epoch 43/100\n",
            "313/313 [==============================] - 11s 36ms/step - loss: 0.4109 - accuracy: 0.8116 - val_loss: 0.4280 - val_accuracy: 0.8052\n",
            "Epoch 44/100\n",
            "313/313 [==============================] - 11s 36ms/step - loss: 0.4107 - accuracy: 0.8123 - val_loss: 0.4284 - val_accuracy: 0.8038\n",
            "Epoch 45/100\n",
            "313/313 [==============================] - 11s 36ms/step - loss: 0.4094 - accuracy: 0.8138 - val_loss: 0.4279 - val_accuracy: 0.8008\n"
          ]
        }
      ]
    },
    {
      "cell_type": "code",
      "source": [
        "plt.plot(history.history['loss'])\n",
        "plt.plot(history.history['val_loss'])\n",
        "plt.xlabel('epochs')\n",
        "plt.ylabel('loss')\n",
        "plt.legend(['train','val'])\n",
        "plt.show()"
      ],
      "metadata": {
        "colab": {
          "base_uri": "https://localhost:8080/",
          "height": 279
        },
        "id": "9iE1wGn3amNB",
        "outputId": "210cf54c-4685-4145-d190-5b4c3616205a"
      },
      "execution_count": 21,
      "outputs": [
        {
          "output_type": "display_data",
          "data": {
            "image/png": "[encoded data removed]",
            "text/plain": [
              "<Figure size 432x288 with 1 Axes>"
            ]
          },
          "metadata": {
            "needs_background": "light"
          }
        }
      ]
    },
    {
      "cell_type": "markdown",
      "source": [
        "* 드롭아웃을 통해 훈련손실과 검증손실의 차이가 좁혀짐\n",
        "\n",
        "## 2개의 층을 연결하기"
      ],
      "metadata": {
        "id": "VBAZ8JLsaqbH"
      }
    },
    {
      "cell_type": "code",
      "source": [
        "model3 = keras.Sequential()\n",
        "model3.add(keras.layers.Embedding(500,16,input_length=100))\n",
        "model3.add(keras.layers.LSTM(8,dropout=0.3,return_sequences=True))\n",
        "model3.add(keras.layers.LSTM(8,dropout=0.3))\n",
        "model3.add(keras.layers.Dense(1,activation='sigmoid'))\n",
        "\n",
        "model.summary()"
      ],
      "metadata": {
        "id": "zRc7--R6a3KZ"
      },
      "execution_count": 22,
      "outputs": []
    },
    {
      "cell_type": "markdown",
      "source": [
        "* 앞쪽의 순환층이 모든 타임스텝에 대한 은닉상태를 출력해야함\n",
        "* 마지막 순환층만 마지막 타임스텝의 은닉상태를 출력함!!\n",
        "* 마지막을 제외한 다른 모든 순환층에  return_sequence = True로 지정한다."
      ],
      "metadata": {
        "id": "rd-YUHn_dh22"
      }
    },
    {
      "cell_type": "code",
      "source": [
        "rmsprop = keras.optimizers.RMSprop(learning_rate=1e-4)\n",
        "\n",
        "model3.compile(optimizer=rmsprop,loss='binary_crossentropy',metrics=['accuracy'])\n",
        "\n",
        "checkpoint_cb = keras.callbacks.ModelCheckpoint('best-lstm-model.h5',save_best_only=True)\n",
        "early_stopping_cb = keras.callbacks.EarlyStopping(patience=3,restore_best_weights=True)\n",
        "\n",
        "history = model3.fit(train_seq,train_target,epochs=100,batch_size=64,validation_data=(val_seq,val_target),callbacks=[checkpoint_cb,early_stopping_cb])"
      ],
      "metadata": {
        "colab": {
          "base_uri": "https://localhost:8080/"
        },
        "id": "23ayhaPgd_7v",
        "outputId": "8462731b-10f5-4c03-ecc1-81c0f2370919"
      },
      "execution_count": 23,
      "outputs": [
        {
          "output_type": "stream",
          "name": "stdout",
          "text": [
            "Epoch 1/100\n",
            "313/313 [==============================] - 26s 70ms/step - loss: 0.6921 - accuracy: 0.5465 - val_loss: 0.6907 - val_accuracy: 0.5766\n",
            "Epoch 2/100\n",
            "313/313 [==============================] - 21s 68ms/step - loss: 0.6852 - accuracy: 0.6332 - val_loss: 0.6756 - val_accuracy: 0.6742\n",
            "Epoch 3/100\n",
            "313/313 [==============================] - 21s 67ms/step - loss: 0.6411 - accuracy: 0.6819 - val_loss: 0.5936 - val_accuracy: 0.7096\n",
            "Epoch 4/100\n",
            "313/313 [==============================] - 21s 67ms/step - loss: 0.5631 - accuracy: 0.7219 - val_loss: 0.5382 - val_accuracy: 0.7380\n",
            "Epoch 5/100\n",
            "313/313 [==============================] - 21s 67ms/step - loss: 0.5294 - accuracy: 0.7426 - val_loss: 0.5132 - val_accuracy: 0.7542\n",
            "Epoch 6/100\n",
            "313/313 [==============================] - 21s 68ms/step - loss: 0.5077 - accuracy: 0.7569 - val_loss: 0.4914 - val_accuracy: 0.7662\n",
            "Epoch 7/100\n",
            "313/313 [==============================] - 21s 67ms/step - loss: 0.4916 - accuracy: 0.7689 - val_loss: 0.4798 - val_accuracy: 0.7782\n",
            "Epoch 8/100\n",
            "313/313 [==============================] - 21s 68ms/step - loss: 0.4805 - accuracy: 0.7754 - val_loss: 0.4712 - val_accuracy: 0.7810\n",
            "Epoch 9/100\n",
            "313/313 [==============================] - 21s 67ms/step - loss: 0.4730 - accuracy: 0.7750 - val_loss: 0.4676 - val_accuracy: 0.7828\n",
            "Epoch 10/100\n",
            "313/313 [==============================] - 23s 72ms/step - loss: 0.4641 - accuracy: 0.7847 - val_loss: 0.4581 - val_accuracy: 0.7876\n",
            "Epoch 11/100\n",
            "313/313 [==============================] - 26s 82ms/step - loss: 0.4588 - accuracy: 0.7883 - val_loss: 0.4603 - val_accuracy: 0.7844\n",
            "Epoch 12/100\n",
            "313/313 [==============================] - 25s 80ms/step - loss: 0.4530 - accuracy: 0.7926 - val_loss: 0.4502 - val_accuracy: 0.7908\n",
            "Epoch 13/100\n",
            "313/313 [==============================] - 21s 68ms/step - loss: 0.4488 - accuracy: 0.7934 - val_loss: 0.4536 - val_accuracy: 0.7892\n",
            "Epoch 14/100\n",
            "313/313 [==============================] - 21s 68ms/step - loss: 0.4453 - accuracy: 0.7929 - val_loss: 0.4518 - val_accuracy: 0.7852\n",
            "Epoch 15/100\n",
            "313/313 [==============================] - 21s 68ms/step - loss: 0.4436 - accuracy: 0.7954 - val_loss: 0.4454 - val_accuracy: 0.7936\n",
            "Epoch 16/100\n",
            "313/313 [==============================] - 21s 68ms/step - loss: 0.4410 - accuracy: 0.7972 - val_loss: 0.4429 - val_accuracy: 0.7944\n",
            "Epoch 17/100\n",
            "313/313 [==============================] - 21s 68ms/step - loss: 0.4360 - accuracy: 0.7997 - val_loss: 0.4408 - val_accuracy: 0.7968\n",
            "Epoch 18/100\n",
            "313/313 [==============================] - 22s 69ms/step - loss: 0.4373 - accuracy: 0.8010 - val_loss: 0.4415 - val_accuracy: 0.7988\n",
            "Epoch 19/100\n",
            "313/313 [==============================] - 26s 83ms/step - loss: 0.4338 - accuracy: 0.7990 - val_loss: 0.4397 - val_accuracy: 0.7934\n",
            "Epoch 20/100\n",
            "313/313 [==============================] - 23s 75ms/step - loss: 0.4330 - accuracy: 0.8025 - val_loss: 0.4389 - val_accuracy: 0.7994\n",
            "Epoch 21/100\n",
            "313/313 [==============================] - 21s 68ms/step - loss: 0.4324 - accuracy: 0.8015 - val_loss: 0.4408 - val_accuracy: 0.7898\n",
            "Epoch 22/100\n",
            "313/313 [==============================] - 21s 68ms/step - loss: 0.4309 - accuracy: 0.8020 - val_loss: 0.4416 - val_accuracy: 0.7900\n",
            "Epoch 23/100\n",
            "313/313 [==============================] - 21s 68ms/step - loss: 0.4283 - accuracy: 0.8052 - val_loss: 0.4370 - val_accuracy: 0.7946\n",
            "Epoch 24/100\n",
            "313/313 [==============================] - 22s 69ms/step - loss: 0.4285 - accuracy: 0.8032 - val_loss: 0.4387 - val_accuracy: 0.7986\n",
            "Epoch 25/100\n",
            "313/313 [==============================] - 21s 68ms/step - loss: 0.4278 - accuracy: 0.8044 - val_loss: 0.4350 - val_accuracy: 0.7964\n",
            "Epoch 26/100\n",
            "313/313 [==============================] - 21s 68ms/step - loss: 0.4248 - accuracy: 0.8051 - val_loss: 0.4365 - val_accuracy: 0.8002\n",
            "Epoch 27/100\n",
            "313/313 [==============================] - 21s 68ms/step - loss: 0.4253 - accuracy: 0.8046 - val_loss: 0.4365 - val_accuracy: 0.8018\n",
            "Epoch 28/100\n",
            "313/313 [==============================] - 21s 69ms/step - loss: 0.4257 - accuracy: 0.8063 - val_loss: 0.4339 - val_accuracy: 0.7968\n",
            "Epoch 29/100\n",
            "313/313 [==============================] - 21s 68ms/step - loss: 0.4228 - accuracy: 0.8079 - val_loss: 0.4332 - val_accuracy: 0.8010\n",
            "Epoch 30/100\n",
            "313/313 [==============================] - 21s 69ms/step - loss: 0.4238 - accuracy: 0.8066 - val_loss: 0.4336 - val_accuracy: 0.8008\n",
            "Epoch 31/100\n",
            "313/313 [==============================] - 22s 69ms/step - loss: 0.4234 - accuracy: 0.8051 - val_loss: 0.4347 - val_accuracy: 0.7968\n",
            "Epoch 32/100\n",
            "313/313 [==============================] - 22s 69ms/step - loss: 0.4225 - accuracy: 0.8083 - val_loss: 0.4325 - val_accuracy: 0.8044\n",
            "Epoch 33/100\n",
            "313/313 [==============================] - 22s 69ms/step - loss: 0.4194 - accuracy: 0.8069 - val_loss: 0.4336 - val_accuracy: 0.8044\n",
            "Epoch 34/100\n",
            "313/313 [==============================] - 22s 69ms/step - loss: 0.4202 - accuracy: 0.8069 - val_loss: 0.4320 - val_accuracy: 0.8040\n",
            "Epoch 35/100\n",
            "313/313 [==============================] - 22s 70ms/step - loss: 0.4199 - accuracy: 0.8079 - val_loss: 0.4315 - val_accuracy: 0.8008\n",
            "Epoch 36/100\n",
            "313/313 [==============================] - 22s 69ms/step - loss: 0.4180 - accuracy: 0.8113 - val_loss: 0.4336 - val_accuracy: 0.8032\n",
            "Epoch 37/100\n",
            "313/313 [==============================] - 22s 69ms/step - loss: 0.4194 - accuracy: 0.8072 - val_loss: 0.4304 - val_accuracy: 0.8014\n",
            "Epoch 38/100\n",
            "313/313 [==============================] - 22s 70ms/step - loss: 0.4167 - accuracy: 0.8096 - val_loss: 0.4298 - val_accuracy: 0.8026\n",
            "Epoch 39/100\n",
            "313/313 [==============================] - 22s 69ms/step - loss: 0.4161 - accuracy: 0.8115 - val_loss: 0.4314 - val_accuracy: 0.8010\n",
            "Epoch 40/100\n",
            "313/313 [==============================] - 22s 69ms/step - loss: 0.4176 - accuracy: 0.8073 - val_loss: 0.4327 - val_accuracy: 0.7976\n",
            "Epoch 41/100\n",
            "313/313 [==============================] - 21s 68ms/step - loss: 0.4159 - accuracy: 0.8106 - val_loss: 0.4298 - val_accuracy: 0.8034\n",
            "Epoch 42/100\n",
            "313/313 [==============================] - 22s 70ms/step - loss: 0.4169 - accuracy: 0.8094 - val_loss: 0.4336 - val_accuracy: 0.7994\n",
            "Epoch 43/100\n",
            "313/313 [==============================] - 22s 69ms/step - loss: 0.4143 - accuracy: 0.8109 - val_loss: 0.4283 - val_accuracy: 0.8042\n",
            "Epoch 44/100\n",
            "313/313 [==============================] - 22s 69ms/step - loss: 0.4151 - accuracy: 0.8122 - val_loss: 0.4300 - val_accuracy: 0.8002\n",
            "Epoch 45/100\n",
            "313/313 [==============================] - 22s 69ms/step - loss: 0.4145 - accuracy: 0.8109 - val_loss: 0.4293 - val_accuracy: 0.8038\n",
            "Epoch 46/100\n",
            "313/313 [==============================] - 22s 69ms/step - loss: 0.4152 - accuracy: 0.8105 - val_loss: 0.4282 - val_accuracy: 0.8062\n",
            "Epoch 47/100\n",
            "313/313 [==============================] - 22s 69ms/step - loss: 0.4134 - accuracy: 0.8107 - val_loss: 0.4287 - val_accuracy: 0.8046\n",
            "Epoch 48/100\n",
            "313/313 [==============================] - 22s 69ms/step - loss: 0.4117 - accuracy: 0.8129 - val_loss: 0.4321 - val_accuracy: 0.8048\n",
            "Epoch 49/100\n",
            "313/313 [==============================] - 22s 69ms/step - loss: 0.4136 - accuracy: 0.8093 - val_loss: 0.4295 - val_accuracy: 0.8022\n"
          ]
        }
      ]
    },
    {
      "cell_type": "code",
      "source": [
        "plt.plot(history.history['loss'])\n",
        "plt.plot(history.history['val_loss'])\n",
        "plt.xlabel('epochs')\n",
        "plt.ylabel('loss')\n",
        "plt.legend(['train','val'])\n",
        "plt.show()"
      ],
      "metadata": {
        "colab": {
          "base_uri": "https://localhost:8080/",
          "height": 279
        },
        "id": "tleVBHtHeHdU",
        "outputId": "528e23dd-a88a-451b-911a-622bbddd77c3"
      },
      "execution_count": 24,
      "outputs": [
        {
          "output_type": "display_data",
          "data": {
            "image/png": "[encoded data removed]",
            "text/plain": [
              "<Figure size 432x288 with 1 Axes>"
            ]
          },
          "metadata": {
            "needs_background": "light"
          }
        }
      ]
    },
    {
      "cell_type": "markdown",
      "source": [
        "## GRU 구조"
      ],
      "metadata": {
        "id": "d3MH-qvGeJPt"
      }
    },
    {
      "cell_type": "code",
      "source": [
        "model4 = keras.Sequential()\n",
        "model4.add(keras.layers.Embedding(500,16,input_length=100))\n",
        "model4.add(keras.layers.GRU(8))\n",
        "model4.add(keras.layers.Dense(1,activation='sigmoid'))\n",
        "\n",
        "model.summary()"
      ],
      "metadata": {
        "colab": {
          "base_uri": "https://localhost:8080/"
        },
        "id": "vc-GNCDzeNPF",
        "outputId": "72917fd7-10ba-4dcc-b091-4e47f2410742"
      },
      "execution_count": 25,
      "outputs": [
        {
          "output_type": "stream",
          "name": "stdout",
          "text": [
            "Model: \"sequential\"\n",
            "_________________________________________________________________\n",
            " Layer (type)                Output Shape              Param #   \n",
            "=================================================================\n",
            " embedding (Embedding)       (None, 100, 16)           8000      \n",
            "                                                                 \n",
            " lstm (LSTM)                 (None, 8)                 800       \n",
            "                                                                 \n",
            " dense (Dense)               (None, 1)                 9         \n",
            "                                                                 \n",
            "=================================================================\n",
            "Total params: 8,809\n",
            "Trainable params: 8,809\n",
            "Non-trainable params: 0\n",
            "_________________________________________________________________\n"
          ]
        }
      ]
    },
    {
      "cell_type": "markdown",
      "source": [
        "* GRU 셀에는 3개의 셀이 있다.\n",
        "* 3 x (16x8 + 8x8 + 8 )= 600\n",
        "* 어라? 요약에는 624개 인데??\n",
        "* 실제로 작은 셀마다 하나의 절편이 추가되고 8개의 뉴런이 있으므로 24개가 더해짐"
      ],
      "metadata": {
        "id": "L8zC3RqNgY7P"
      }
    },
    {
      "cell_type": "code",
      "source": [
        "rmsprop = keras.optimizers.RMSprop(learning_rate=1e-4)\n",
        "\n",
        "model4.compile(optimizer=rmsprop,loss='binary_crossentropy',metrics=['accuracy'])\n",
        "\n",
        "checkpoint_cb = keras.callbacks.ModelCheckpoint('best-lstm-model.h5',save_best_only=True)\n",
        "early_stopping_cb = keras.callbacks.EarlyStopping(patience=3,restore_best_weights=True)\n",
        "\n",
        "history = model4.fit(train_seq,train_target,epochs=100,batch_size=64,validation_data=(val_seq,val_target),callbacks=[checkpoint_cb,early_stopping_cb])"
      ],
      "metadata": {
        "colab": {
          "base_uri": "https://localhost:8080/"
        },
        "id": "l88u4TyOg5RN",
        "outputId": "21fa48a4-d694-46b0-838f-5528dc88af3e"
      },
      "execution_count": 26,
      "outputs": [
        {
          "output_type": "stream",
          "name": "stdout",
          "text": [
            "Epoch 1/100\n",
            "313/313 [==============================] - 15s 40ms/step - loss: 0.6927 - accuracy: 0.5215 - val_loss: 0.6923 - val_accuracy: 0.5292\n",
            "Epoch 2/100\n",
            "313/313 [==============================] - 12s 39ms/step - loss: 0.6912 - accuracy: 0.5576 - val_loss: 0.6907 - val_accuracy: 0.5474\n",
            "Epoch 3/100\n",
            "313/313 [==============================] - 12s 39ms/step - loss: 0.6889 - accuracy: 0.5867 - val_loss: 0.6881 - val_accuracy: 0.5738\n",
            "Epoch 4/100\n",
            "313/313 [==============================] - 12s 39ms/step - loss: 0.6854 - accuracy: 0.6062 - val_loss: 0.6842 - val_accuracy: 0.5896\n",
            "Epoch 5/100\n",
            "313/313 [==============================] - 12s 39ms/step - loss: 0.6802 - accuracy: 0.6175 - val_loss: 0.6788 - val_accuracy: 0.6006\n",
            "Epoch 6/100\n",
            "313/313 [==============================] - 12s 39ms/step - loss: 0.6730 - accuracy: 0.6284 - val_loss: 0.6710 - val_accuracy: 0.6124\n",
            "Epoch 7/100\n",
            "313/313 [==============================] - 12s 39ms/step - loss: 0.6631 - accuracy: 0.6349 - val_loss: 0.6607 - val_accuracy: 0.6234\n",
            "Epoch 8/100\n",
            "313/313 [==============================] - 12s 39ms/step - loss: 0.6499 - accuracy: 0.6453 - val_loss: 0.6471 - val_accuracy: 0.6306\n",
            "Epoch 9/100\n",
            "313/313 [==============================] - 12s 38ms/step - loss: 0.6317 - accuracy: 0.6600 - val_loss: 0.6280 - val_accuracy: 0.6552\n",
            "Epoch 10/100\n",
            "313/313 [==============================] - 12s 39ms/step - loss: 0.6066 - accuracy: 0.6805 - val_loss: 0.6005 - val_accuracy: 0.6816\n",
            "Epoch 11/100\n",
            "313/313 [==============================] - 12s 39ms/step - loss: 0.5685 - accuracy: 0.7094 - val_loss: 0.5560 - val_accuracy: 0.7212\n",
            "Epoch 12/100\n",
            "313/313 [==============================] - 12s 39ms/step - loss: 0.5212 - accuracy: 0.7466 - val_loss: 0.5237 - val_accuracy: 0.7454\n",
            "Epoch 13/100\n",
            "313/313 [==============================] - 12s 39ms/step - loss: 0.4992 - accuracy: 0.7620 - val_loss: 0.5069 - val_accuracy: 0.7552\n",
            "Epoch 14/100\n",
            "313/313 [==============================] - 12s 39ms/step - loss: 0.4871 - accuracy: 0.7693 - val_loss: 0.4966 - val_accuracy: 0.7644\n",
            "Epoch 15/100\n",
            "313/313 [==============================] - 12s 39ms/step - loss: 0.4776 - accuracy: 0.7752 - val_loss: 0.4900 - val_accuracy: 0.7684\n",
            "Epoch 16/100\n",
            "313/313 [==============================] - 13s 40ms/step - loss: 0.4697 - accuracy: 0.7813 - val_loss: 0.4836 - val_accuracy: 0.7740\n",
            "Epoch 17/100\n",
            "313/313 [==============================] - 14s 43ms/step - loss: 0.4633 - accuracy: 0.7860 - val_loss: 0.4777 - val_accuracy: 0.7750\n",
            "Epoch 18/100\n",
            "313/313 [==============================] - 12s 39ms/step - loss: 0.4581 - accuracy: 0.7907 - val_loss: 0.4747 - val_accuracy: 0.7794\n",
            "Epoch 19/100\n",
            "313/313 [==============================] - 12s 39ms/step - loss: 0.4531 - accuracy: 0.7942 - val_loss: 0.4695 - val_accuracy: 0.7812\n",
            "Epoch 20/100\n",
            "313/313 [==============================] - 12s 39ms/step - loss: 0.4490 - accuracy: 0.7966 - val_loss: 0.4699 - val_accuracy: 0.7778\n",
            "Epoch 21/100\n",
            "313/313 [==============================] - 12s 38ms/step - loss: 0.4451 - accuracy: 0.7990 - val_loss: 0.4658 - val_accuracy: 0.7804\n",
            "Epoch 22/100\n",
            "313/313 [==============================] - 12s 39ms/step - loss: 0.4415 - accuracy: 0.8019 - val_loss: 0.4618 - val_accuracy: 0.7836\n",
            "Epoch 23/100\n",
            "313/313 [==============================] - 12s 39ms/step - loss: 0.4386 - accuracy: 0.8031 - val_loss: 0.4600 - val_accuracy: 0.7844\n",
            "Epoch 24/100\n",
            "313/313 [==============================] - 12s 39ms/step - loss: 0.4358 - accuracy: 0.8047 - val_loss: 0.4579 - val_accuracy: 0.7878\n",
            "Epoch 25/100\n",
            "313/313 [==============================] - 12s 39ms/step - loss: 0.4336 - accuracy: 0.8062 - val_loss: 0.4568 - val_accuracy: 0.7864\n",
            "Epoch 26/100\n",
            "313/313 [==============================] - 12s 39ms/step - loss: 0.4316 - accuracy: 0.8062 - val_loss: 0.4592 - val_accuracy: 0.7830\n",
            "Epoch 27/100\n",
            "313/313 [==============================] - 12s 39ms/step - loss: 0.4298 - accuracy: 0.8073 - val_loss: 0.4548 - val_accuracy: 0.7860\n",
            "Epoch 28/100\n",
            "313/313 [==============================] - 13s 41ms/step - loss: 0.4278 - accuracy: 0.8091 - val_loss: 0.4559 - val_accuracy: 0.7896\n",
            "Epoch 29/100\n",
            "313/313 [==============================] - 13s 42ms/step - loss: 0.4264 - accuracy: 0.8105 - val_loss: 0.4528 - val_accuracy: 0.7860\n",
            "Epoch 30/100\n",
            "313/313 [==============================] - 13s 41ms/step - loss: 0.4252 - accuracy: 0.8109 - val_loss: 0.4528 - val_accuracy: 0.7868\n",
            "Epoch 31/100\n",
            "313/313 [==============================] - 13s 41ms/step - loss: 0.4235 - accuracy: 0.8112 - val_loss: 0.4507 - val_accuracy: 0.7862\n",
            "Epoch 32/100\n",
            "313/313 [==============================] - 13s 41ms/step - loss: 0.4223 - accuracy: 0.8134 - val_loss: 0.4508 - val_accuracy: 0.7872\n",
            "Epoch 33/100\n",
            "313/313 [==============================] - 13s 41ms/step - loss: 0.4216 - accuracy: 0.8126 - val_loss: 0.4497 - val_accuracy: 0.7890\n",
            "Epoch 34/100\n",
            "313/313 [==============================] - 13s 42ms/step - loss: 0.4209 - accuracy: 0.8134 - val_loss: 0.4483 - val_accuracy: 0.7910\n",
            "Epoch 35/100\n",
            "313/313 [==============================] - 13s 41ms/step - loss: 0.4198 - accuracy: 0.8143 - val_loss: 0.4560 - val_accuracy: 0.7844\n",
            "Epoch 36/100\n",
            "313/313 [==============================] - 13s 41ms/step - loss: 0.4190 - accuracy: 0.8147 - val_loss: 0.4476 - val_accuracy: 0.7916\n",
            "Epoch 37/100\n",
            "313/313 [==============================] - 13s 42ms/step - loss: 0.4182 - accuracy: 0.8142 - val_loss: 0.4484 - val_accuracy: 0.7930\n",
            "Epoch 38/100\n",
            "313/313 [==============================] - 13s 41ms/step - loss: 0.4178 - accuracy: 0.8142 - val_loss: 0.4454 - val_accuracy: 0.7918\n",
            "Epoch 39/100\n",
            "313/313 [==============================] - 13s 42ms/step - loss: 0.4172 - accuracy: 0.8156 - val_loss: 0.4454 - val_accuracy: 0.7950\n",
            "Epoch 40/100\n",
            "313/313 [==============================] - 13s 41ms/step - loss: 0.4165 - accuracy: 0.8158 - val_loss: 0.4446 - val_accuracy: 0.7936\n",
            "Epoch 41/100\n",
            "313/313 [==============================] - 13s 41ms/step - loss: 0.4156 - accuracy: 0.8151 - val_loss: 0.4439 - val_accuracy: 0.7944\n",
            "Epoch 42/100\n",
            "313/313 [==============================] - 13s 40ms/step - loss: 0.4154 - accuracy: 0.8156 - val_loss: 0.4440 - val_accuracy: 0.7928\n",
            "Epoch 43/100\n",
            "313/313 [==============================] - 13s 41ms/step - loss: 0.4145 - accuracy: 0.8165 - val_loss: 0.4438 - val_accuracy: 0.7928\n",
            "Epoch 44/100\n",
            "313/313 [==============================] - 13s 41ms/step - loss: 0.4141 - accuracy: 0.8171 - val_loss: 0.4418 - val_accuracy: 0.7940\n",
            "Epoch 45/100\n",
            "313/313 [==============================] - 13s 41ms/step - loss: 0.4138 - accuracy: 0.8171 - val_loss: 0.4455 - val_accuracy: 0.7898\n",
            "Epoch 46/100\n",
            "313/313 [==============================] - 13s 41ms/step - loss: 0.4135 - accuracy: 0.8157 - val_loss: 0.4409 - val_accuracy: 0.7940\n",
            "Epoch 47/100\n",
            "313/313 [==============================] - 13s 41ms/step - loss: 0.4126 - accuracy: 0.8163 - val_loss: 0.4453 - val_accuracy: 0.7948\n",
            "Epoch 48/100\n",
            "313/313 [==============================] - 13s 42ms/step - loss: 0.4125 - accuracy: 0.8172 - val_loss: 0.4398 - val_accuracy: 0.7960\n",
            "Epoch 49/100\n",
            "313/313 [==============================] - 13s 41ms/step - loss: 0.4119 - accuracy: 0.8183 - val_loss: 0.4487 - val_accuracy: 0.7866\n",
            "Epoch 50/100\n",
            "313/313 [==============================] - 13s 41ms/step - loss: 0.4114 - accuracy: 0.8163 - val_loss: 0.4398 - val_accuracy: 0.7960\n",
            "Epoch 51/100\n",
            "313/313 [==============================] - 13s 42ms/step - loss: 0.4115 - accuracy: 0.8166 - val_loss: 0.4401 - val_accuracy: 0.7924\n"
          ]
        }
      ]
    },
    {
      "cell_type": "code",
      "source": [
        "plt.plot(history.history['loss'])\n",
        "plt.plot(history.history['val_loss'])\n",
        "plt.xlabel('epochs')\n",
        "plt.ylabel('loss')\n",
        "plt.legend(['train','val'])\n",
        "plt.show()"
      ],
      "metadata": {
        "colab": {
          "base_uri": "https://localhost:8080/",
          "height": 279
        },
        "id": "CHdsK3O2hA6o",
        "outputId": "c8331cb0-6816-4c8b-feda-e5fbd48c7e79"
      },
      "execution_count": 27,
      "outputs": [
        {
          "output_type": "display_data",
          "data": {
            "image/png": "[encoded data removed]",
            "text/plain": [
              "<Figure size 432x288 with 1 Axes>"
            ]
          },
          "metadata": {
            "needs_background": "light"
          }
        }
      ]
    },
    {
      "cell_type": "markdown",
      "source": [
        "* LSTM 보다 작은 가중치이지만 좋은 성능을 내고 있음"
      ],
      "metadata": {
        "id": "EmaunMn3hCUu"
      }
    }
  ]
}