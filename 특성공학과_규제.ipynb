{
  "nbformat": 4,
  "nbformat_minor": 0,
  "metadata": {
    "colab": {
      "name": " 특성공학과 규제.ipynb",
      "provenance": [],
      "collapsed_sections": [],
      "authorship_tag": "ABX9TyOQAFftF4OPPX/cYUIc0bek",
      "include_colab_link": true
    },
    "kernelspec": {
      "name": "python3",
      "display_name": "Python 3"
    },
    "language_info": {
      "name": "python"
    }
  },
  "cells": [
    {
      "cell_type": "markdown",
      "metadata": {
        "id": "view-in-github",
        "colab_type": "text"
      },
      "source": [
        "<a href=\"https://colab.research.google.com/github/limdiny/ML/blob/main/%ED%8A%B9%EC%84%B1%EA%B3%B5%ED%95%99%EA%B3%BC_%EA%B7%9C%EC%A0%9C.ipynb\" target=\"_parent\"><img src=\"https://colab.research.google.com/assets/colab-badge.svg\" alt=\"Open In Colab\"/></a>"
      ]
    },
    {
      "cell_type": "markdown",
      "source": [
        "# 특성공학과 규제\n",
        "* 다중회귀\n",
        "\n",
        "여러개의 특성을 사용하는 회귀모델이다. 특성이 많을수록 선형 모델의 성능이 좋아진다.\n",
        "\n",
        "* 특성 공학\n",
        "\n",
        "주어진 특성을 조합해서 새로운 특성을 만드는 일련의 작업과정이다.\n",
        "\n",
        "* 릿지\n",
        "\n",
        "규제가 있는 선형 회귀 모델이다. 선형 모델의 계수를 작게 만들어 과대적합을 완화시킨다. 보통 릿자 규제를 많이 쓴다.\n",
        "\n",
        "* 라쏘\n",
        "\n",
        "릿지처럼 규제가 있는 선형 회귀모델이다. 릿지와 달리 계수를 0으로 만들 수도 있다.\n",
        "\n",
        "* 하이퍼파라미터\n",
        "\n",
        "머신러닝 알고리즘이 학습하지 않는 파라미터이다. (사전에 직접 설정해줘야함)\n",
        "대표적으로 릿지와 라쏘의 규제강도 alpha 파라미터이다.\n",
        "\n",
        "* read_csv() : csv파일을 판다스 데이터프레임으로 변환하는 함수이다.\n",
        "  * sep: 파일의 구분자/ 기본값은 콤마(,)\n",
        "  * header: 데이터프레임의 열 이름으로 사용할 csv 파일의 행 번호를 지정한다. 기본적으론 첫번째 행을 열 이름으로 사용한다.\n",
        "  * skiprows: 파일 읽기전 건너뛸 행의 개수\n",
        "  * nrow: 파일에서 읽을 행의 개수\n",
        "  \n",
        "* PolynomialFeatures : 주어진 특성을 조합하여 새로운 특성을 만든다.\n",
        "  * degree: 최고 차수를 정함/ 기본값은 2\n",
        "  * intersection_only=True 로 지정하면 거듭제곱항은 제외,특성간의 곱셈항만 추가됨\n",
        "  * include_bias=False 로 지정하면 절편의 특성이 제외된다.\n",
        "  \n",
        "* Ridge\n",
        "\n",
        "규제가 있는 회귀 알고리즘인 릿지 회귀 모델을 훈련한다.\n",
        "\n",
        "매개변수 alpha로 강도를 조절하고 값이 클수록 규제가 세진다.(기본값=1)\n",
        "\n",
        "매개변수 solver로 최적의 모델을 찾을 수 있다.(기본값=auto)\n",
        "\n",
        "solver=sag,saga 이면 확률적 평균 경사 하강법 알고리즘을 쓴다.( 특성과 샘플 수가 많을 때 좋음)(이때, random_state도 설정할 수 있음)\n",
        "\n",
        "* Lasso\n",
        "\n",
        "규제가 있는 회귀 알고리즘인 라쏘 회귀 모델을 훈련한다.\n",
        "\n",
        "최적의 모델을 찾기 위해 좌표 하강법을 사용한다.\n",
        "\n",
        "max_iter는 알고리즘의 수행반복횟수를 지정한다( 기본값=1000)"
      ],
      "metadata": {
        "id": "NS8tvZqIBpAu"
      }
    },
    {
      "cell_type": "code",
      "execution_count": null,
      "metadata": {
        "colab": {
          "base_uri": "https://localhost:8080/"
        },
        "id": "eJficSNoA0Y6",
        "outputId": "4964ea67-6a1e-4243-b43b-d75a56a38c14"
      },
      "outputs": [
        {
          "output_type": "stream",
          "name": "stdout",
          "text": [
            "[[ 8.4   2.11  1.41]\n",
            " [13.7   3.53  2.  ]\n",
            " [15.    3.82  2.43]\n",
            " [16.2   4.59  2.63]\n",
            " [17.4   4.59  2.94]\n",
            " [18.    5.22  3.32]\n",
            " [18.7   5.2   3.12]\n",
            " [19.    5.64  3.05]\n",
            " [19.6   5.14  3.04]\n",
            " [20.    5.08  2.77]\n",
            " [21.    5.69  3.56]\n",
            " [21.    5.92  3.31]\n",
            " [21.    5.69  3.67]\n",
            " [21.3   6.38  3.53]\n",
            " [22.    6.11  3.41]\n",
            " [22.    5.64  3.52]\n",
            " [22.    6.11  3.52]\n",
            " [22.    5.88  3.52]\n",
            " [22.    5.52  4.  ]\n",
            " [22.5   5.86  3.62]\n",
            " [22.5   6.79  3.62]\n",
            " [22.7   5.95  3.63]\n",
            " [23.    5.22  3.63]\n",
            " [23.5   6.28  3.72]\n",
            " [24.    7.29  3.72]\n",
            " [24.    6.38  3.82]\n",
            " [24.6   6.73  4.17]\n",
            " [25.    6.44  3.68]\n",
            " [25.6   6.56  4.24]\n",
            " [26.5   7.17  4.14]\n",
            " [27.3   8.32  5.14]\n",
            " [27.5   7.17  4.34]\n",
            " [27.5   7.05  4.34]\n",
            " [27.5   7.28  4.57]\n",
            " [28.    7.82  4.2 ]\n",
            " [28.7   7.59  4.64]\n",
            " [30.    7.62  4.77]\n",
            " [32.8  10.03  6.02]\n",
            " [34.5  10.26  6.39]\n",
            " [35.   11.49  7.8 ]\n",
            " [36.5  10.88  6.86]\n",
            " [36.   10.61  6.74]\n",
            " [37.   10.84  6.26]\n",
            " [37.   10.57  6.37]\n",
            " [39.   11.14  7.49]\n",
            " [39.   11.14  6.  ]\n",
            " [39.   12.43  7.35]\n",
            " [40.   11.93  7.11]\n",
            " [40.   11.73  7.22]\n",
            " [40.   12.38  7.46]\n",
            " [40.   11.14  6.63]\n",
            " [42.   12.8   6.87]\n",
            " [43.   11.93  7.28]\n",
            " [43.   12.51  7.42]\n",
            " [43.5  12.6   8.14]\n",
            " [44.   12.49  7.6 ]]\n"
          ]
        }
      ],
      "source": [
        "import pandas as pd\n",
        "df=pd.read_csv('https://bit.ly/perch_csv')\n",
        "perch_full=df.to_numpy()\n",
        "print(perch_full)"
      ]
    },
    {
      "cell_type": "markdown",
      "source": [
        ".to_numpy() 또는 .values 를 사용해서 DataFrame을 numpy배열로 변환할 수 있다."
      ],
      "metadata": {
        "id": "qu4N5yWsBKlq"
      }
    },
    {
      "cell_type": "code",
      "source": [
        "import numpy as np\n",
        "\n",
        "perch_weight = np.array(\n",
        "    [5.9, 32.0, 40.0, 51.5, 70.0, 100.0, 78.0, 80.0, 85.0, 85.0, \n",
        "     110.0, 115.0, 125.0, 130.0, 120.0, 120.0, 130.0, 135.0, 110.0, \n",
        "     130.0, 150.0, 145.0, 150.0, 170.0, 225.0, 145.0, 188.0, 180.0, \n",
        "     197.0, 218.0, 300.0, 260.0, 265.0, 250.0, 250.0, 300.0, 320.0, \n",
        "     514.0, 556.0, 840.0, 685.0, 700.0, 700.0, 690.0, 900.0, 650.0, \n",
        "     820.0, 850.0, 900.0, 1015.0, 820.0, 1100.0, 1000.0, 1100.0, \n",
        "     1000.0, 1000.0]\n",
        "     )\n",
        "\n",
        "from sklearn.model_selection import train_test_split\n",
        "train_input,test_input,train_target,test_target = train_test_split(perch_full,perch_weight,random_state=42)"
      ],
      "metadata": {
        "id": "IPCS08yiBuKB"
      },
      "execution_count": null,
      "outputs": []
    },
    {
      "cell_type": "code",
      "source": [
        "from sklearn.preprocessing import PolynomialFeatures\n",
        "poly=PolynomialFeatures(include_bias=False)\n",
        "poly.fit(train_input)\n",
        "train_poly=poly.transform(train_input)\n",
        "print(train_poly.shape)"
      ],
      "metadata": {
        "colab": {
          "base_uri": "https://localhost:8080/"
        },
        "id": "L3iLLVVaCfqT",
        "outputId": "4742d233-c119-4305-932a-ceb75a15ec9b"
      },
      "execution_count": null,
      "outputs": [
        {
          "output_type": "stream",
          "name": "stdout",
          "text": [
            "(42, 9)\n"
          ]
        }
      ]
    },
    {
      "cell_type": "markdown",
      "source": [
        "특성을 만들거나 전처리하기위해 필요한 클래스를 변환기라고 부름\n",
        "\n",
        "변환기  메서드 : fit(),transform()\n",
        "\n",
        "* poly.transform([[2,3]]) = [[1. 2. 3. 4. 6. 9.]]\n",
        "\n",
        "   [절편 , 2 , 3 , 2^2, 2*3 , 3^2]\n",
        "\n",
        "* include_bias=False는  절편 무시( 사실 기본값도 False라서 지정안해줘도됨 )\n"
      ],
      "metadata": {
        "id": "IJ2MiuJ9DBpT"
      }
    },
    {
      "cell_type": "code",
      "source": [
        "print(train_poly.shape)\n",
        "poly.get_feature_names()\n",
        "\n",
        "test_poly=poly.transform(test_input)"
      ],
      "metadata": {
        "colab": {
          "base_uri": "https://localhost:8080/"
        },
        "id": "FPwpFZTyFKOG",
        "outputId": "a7737800-3277-4c57-af78-97f0714c222e"
      },
      "execution_count": null,
      "outputs": [
        {
          "output_type": "stream",
          "name": "stdout",
          "text": [
            "(42, 9)\n"
          ]
        },
        {
          "output_type": "stream",
          "name": "stderr",
          "text": [
            "/usr/local/lib/python3.7/dist-packages/sklearn/utils/deprecation.py:87: FutureWarning: Function get_feature_names is deprecated; get_feature_names is deprecated in 1.0 and will be removed in 1.2. Please use get_feature_names_out instead.\n",
            "  warnings.warn(msg, category=FutureWarning)\n"
          ]
        }
      ]
    },
    {
      "cell_type": "markdown",
      "source": [
        "* train_poly.shape 가 (42,9)인 이유"
      ],
      "metadata": {
        "id": "dyCFU5NvFXT2"
      }
    },
    {
      "cell_type": "code",
      "source": [
        "from sklearn.linear_model import LinearRegression\n",
        "lr=LinearRegression()\n",
        "lr.fit(train_poly,train_target)\n",
        "print(lr.score(test_poly,test_target))\n",
        "print(lr.score(train_poly,train_target))"
      ],
      "metadata": {
        "colab": {
          "base_uri": "https://localhost:8080/"
        },
        "id": "UqhcXYNmFalE",
        "outputId": "d794f90b-c539-427d-8bc8-8b966eb8f3d2"
      },
      "execution_count": null,
      "outputs": [
        {
          "output_type": "stream",
          "name": "stdout",
          "text": [
            "0.9714559911594132\n",
            "0.9903183436982124\n"
          ]
        }
      ]
    },
    {
      "cell_type": "markdown",
      "source": [
        "특성을 늘리니 과소적합 문제 해결!"
      ],
      "metadata": {
        "id": "ye07-CdiIf6k"
      }
    },
    {
      "cell_type": "code",
      "source": [
        "poly=PolynomialFeatures(degree=5,include_bias=False)\n",
        "poly.fit(train_input)\n",
        "train_poly=poly.transform(train_input)\n",
        "test_poly=poly.transform(test_input)\n",
        "\n",
        "print(train_poly.shape)\n",
        "\n",
        "lr.fit(train_poly,train_target)\n",
        "print(lr.score(test_poly,test_target))\n",
        "print(lr.score(train_poly,train_target))"
      ],
      "metadata": {
        "colab": {
          "base_uri": "https://localhost:8080/"
        },
        "id": "_j4EU_heInoZ",
        "outputId": "f7303794-d1d6-4046-8754-68f258da05fc"
      },
      "execution_count": null,
      "outputs": [
        {
          "output_type": "stream",
          "name": "stdout",
          "text": [
            "(42, 55)\n",
            "-144.40579242335605\n",
            "0.9999999999991096\n"
          ]
        }
      ]
    },
    {
      "cell_type": "markdown",
      "source": [
        "* degree 기본값은 2\n",
        "\n",
        "* 특성의 개수를 데이터의 양에 비해 크게 설정을 한다면 과대적합됨\n"
      ],
      "metadata": {
        "id": "EIZNZYGeJY1N"
      }
    },
    {
      "cell_type": "code",
      "source": [
        "from sklearn.preprocessing import StandardScaler\n",
        "ss=StandardScaler()\n",
        "ss.fit(train_poly)\n",
        "train_scaled=ss.transform(train_poly)\n",
        "test_scaled=ss.transform(test_poly)"
      ],
      "metadata": {
        "id": "vQmH7-vWJxmq"
      },
      "execution_count": null,
      "outputs": []
    },
    {
      "cell_type": "markdown",
      "source": [
        "* 규제하기전에 특성과 스케일을 정규화시켜야함\n",
        "* 표준점수로 변환한 train_scaled 와 test_scaled"
      ],
      "metadata": {
        "id": "mEFmv793K34d"
      }
    },
    {
      "cell_type": "code",
      "source": [
        "# 릿지 회귀\n",
        "from sklearn.linear_model import Ridge\n",
        "ridge=Ridge()\n",
        "ridge.fit(train_scaled,train_target)\n",
        "print(ridge.score(train_scaled,train_target))\n",
        "print(ridge.score(test_scaled,test_target))"
      ],
      "metadata": {
        "colab": {
          "base_uri": "https://localhost:8080/"
        },
        "id": "l_Zoso0AK_Bs",
        "outputId": "9d55515b-66c9-40f7-b6f0-a28ed7bdd3e6"
      },
      "execution_count": null,
      "outputs": [
        {
          "output_type": "stream",
          "name": "stdout",
          "text": [
            "0.9896101671037343\n",
            "0.9790693977615397\n"
          ]
        }
      ]
    },
    {
      "cell_type": "markdown",
      "source": [
        "과대적합 릿지모델로 해결"
      ],
      "metadata": {
        "id": "gyruR0zMMdQn"
      }
    },
    {
      "cell_type": "code",
      "source": [
        "import matplotlib.pyplot as plt\n",
        "train_score=[]\n",
        "test_score=[]\n",
        "\n",
        "alpha_list=[0.001,0.01,0.1,1,10,100]\n",
        "for alpha in alpha_list:\n",
        "  ridge=Ridge(alpha=alpha)\n",
        "  ridge.fit(train_scaled,train_target)\n",
        "  train_score.append(ridge.score(train_scaled,train_target))\n",
        "  test_score.append(ridge.score(test_scaled,test_target))\n",
        "\n",
        "plt.plot(np.log10(alpha_list),train_score)\n",
        "plt.plot(np.log10(alpha_list),test_score)\n",
        "plt.xlabel('alpha')\n",
        "plt.ylabel('R^')\n",
        "plt.show()"
      ],
      "metadata": {
        "colab": {
          "base_uri": "https://localhost:8080/",
          "height": 279
        },
        "id": "V84eJNQPL905",
        "outputId": "c2b485bc-5ef2-4791-ad0f-baa3d5d634cf"
      },
      "execution_count": null,
      "outputs": [
        {
          "output_type": "display_data",
          "data": {
            "image/png": "[encoded data removed]",
            "text/plain": [
              "<Figure size 432x288 with 1 Axes>"
            ]
          },
          "metadata": {
            "needs_background": "light"
          }
        }
      ]
    },
    {
      "cell_type": "markdown",
      "source": [
        "* 릿지모델로 얼마나 규제할 것인가는 alpha로 정할 수 있음\n",
        "* 적절한 alpha값을 찾는 방법은 alpha에 따른 결정계수값의 그래프를 그려보는것\n",
        "* 훈련세트와 테스트세트의 점수가 가장 가까운 지점이 good alpha!!\n",
        "* alpha가 -1 즉,10^-1=0.1 일때 규제하기 최고의 alpha값"
      ],
      "metadata": {
        "id": "u_BF_BAbNHQQ"
      }
    },
    {
      "cell_type": "code",
      "source": [
        "ridge=Ridge(alpha=0.1)\n",
        "ridge.fit(train_scaled,train_target)\n",
        "print(ridge.score(train_scaled,train_target))\n",
        "print(ridge.score(test_scaled,test_target))"
      ],
      "metadata": {
        "colab": {
          "base_uri": "https://localhost:8080/"
        },
        "id": "iSLtFlV2M4gj",
        "outputId": "0208bbdd-1d81-45d9-b1ab-af131f68fb15"
      },
      "execution_count": null,
      "outputs": [
        {
          "output_type": "stream",
          "name": "stdout",
          "text": [
            "0.9903815817570366\n",
            "0.9827976465386927\n"
          ]
        }
      ]
    },
    {
      "cell_type": "markdown",
      "source": [
        "굿!!"
      ],
      "metadata": {
        "id": "y1XkmSJ1PDXT"
      }
    },
    {
      "cell_type": "code",
      "source": [
        "# 라쏘 회귀\n",
        "from sklearn.linear_model import Lasso\n",
        "lasso=Lasso()\n",
        "\n",
        "train_score=[]\n",
        "test_score=[]\n",
        "alpha_list=[0.001,0.01,0.1,1,10,1000]\n",
        "\n",
        "for alpha in alpha_list:\n",
        "  lasso=Lasso(alpha=alpha,max_iter=30000)\n",
        "  lasso.fit(train_scaled,train_target)\n",
        "  train_score.append(lasso.score(train_scaled,train_target))\n",
        "  test_score.append(lasso.score(test_scaled,test_target))\n",
        "\n",
        "plt.plot(np.log10(alpha_list),train_score)\n",
        "plt.plot(np.log10(alpha_list),test_score)\n",
        "plt.xlabel('alpha')\n",
        "plt.ylabel('R^2')\n",
        "plt.show()"
      ],
      "metadata": {
        "colab": {
          "base_uri": "https://localhost:8080/",
          "height": 371
        },
        "id": "n68-NXvXPFDx",
        "outputId": "abdcb186-81f6-47b3-b360-5387f5652d99"
      },
      "execution_count": null,
      "outputs": [
        {
          "output_type": "stream",
          "name": "stderr",
          "text": [
            "/usr/local/lib/python3.7/dist-packages/sklearn/linear_model/_coordinate_descent.py:648: ConvergenceWarning: Objective did not converge. You might want to increase the number of iterations, check the scale of the features or consider increasing regularisation. Duality gap: 1.645e+04, tolerance: 5.183e+02\n",
            "  coef_, l1_reg, l2_reg, X, y, max_iter, tol, rng, random, positive\n",
            "/usr/local/lib/python3.7/dist-packages/sklearn/linear_model/_coordinate_descent.py:648: ConvergenceWarning: Objective did not converge. You might want to increase the number of iterations, check the scale of the features or consider increasing regularisation. Duality gap: 5.015e+03, tolerance: 5.183e+02\n",
            "  coef_, l1_reg, l2_reg, X, y, max_iter, tol, rng, random, positive\n"
          ]
        },
        {
          "output_type": "display_data",
          "data": {
            "image/png": "[encoded data removed]",
            "text/plain": [
              "<Figure size 432x288 with 1 Axes>"
            ]
          },
          "metadata": {
            "needs_background": "light"
          }
        }
      ]
    },
    {
      "cell_type": "markdown",
      "source": [
        "* 라쏘 모델을 훈련할때는 최적의 계수를 찾기 위해 반복적인 계산을 수행한다. max_iter값을 충분히 늘려줬다.\n",
        "* 최적의 alpha 값은 1 즉 10^1=10 일때다"
      ],
      "metadata": {
        "id": "V9kAob1wRWUW"
      }
    },
    {
      "cell_type": "code",
      "source": [
        "lasso=Lasso(alpha=10)\n",
        "lasso.fit(train_scaled,train_target)\n",
        "print(lasso.score(train_scaled,train_target))\n",
        "print(lasso.score(test_scaled,test_target))"
      ],
      "metadata": {
        "colab": {
          "base_uri": "https://localhost:8080/"
        },
        "id": "tfOuSyYWRq7p",
        "outputId": "ed389822-411e-4ed5-e7ac-1b7d957a5a52"
      },
      "execution_count": null,
      "outputs": [
        {
          "output_type": "stream",
          "name": "stdout",
          "text": [
            "0.9888067471131867\n",
            "0.9824470598706695\n"
          ]
        }
      ]
    },
    {
      "cell_type": "markdown",
      "source": [
        "good!!"
      ],
      "metadata": {
        "id": "hA9nzRmFSDNg"
      }
    }
  ]
}