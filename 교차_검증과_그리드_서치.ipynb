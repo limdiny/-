{
  "nbformat": 4,
  "nbformat_minor": 0,
  "metadata": {
    "colab": {
      "name": "교차 검증과 그리드 서치",
      "provenance": [],
      "authorship_tag": "ABX9TyNzUbtvYp4VxcrRNDXbmRXO",
      "include_colab_link": true
    },
    "kernelspec": {
      "name": "python3",
      "display_name": "Python 3"
    },
    "language_info": {
      "name": "python"
    }
  },
  "cells": [
    {
      "cell_type": "markdown",
      "metadata": {
        "id": "view-in-github",
        "colab_type": "text"
      },
      "source": [
        "<a href=\"https://colab.research.google.com/github/limdiny/ML/blob/main/%EA%B5%90%EC%B0%A8_%EA%B2%80%EC%A6%9D%EA%B3%BC_%EA%B7%B8%EB%A6%AC%EB%93%9C_%EC%84%9C%EC%B9%98.ipynb\" target=\"_parent\"><img src=\"https://colab.research.google.com/assets/colab-badge.svg\" alt=\"Open In Colab\"/></a>"
      ]
    },
    {
      "cell_type": "markdown",
      "source": [
        "# 교차 검증과 그리드 서치\n",
        "* 검증 세트\n",
        "\n",
        "하이퍼파라미터 튜닝을 위해 모델을 평가할 때, 테스트 세트를 사용하지 않기 위해 훈련 세트에서 다시 떼어 낸 데이터 세트\n",
        "\n",
        "* 교차 검증\n",
        "\n",
        "훈련세트를 여러 폴드로 나눈 다음 한 폴드가 검증세트의 역할을 하고 나머지 폴드에서는 모델 훈련을 한다. 모든 폴드에 대해서 검증 점수를 얻어 평균하는 방법이다. \n",
        "\n",
        "![](https://images.velog.io/images/oooops/post/f03ff14d-8e81-4ec1-9d12-fbbd5b950b5a/image.png)\n",
        "\n",
        "* 그리드 서치\n",
        "\n",
        "하이퍼파라미터 탐색을 자동화해주는 도구이다. 탐색할 매개변수를 나열하면 교차검증을 수행하여 가장 좋은 검증 점수의 매개변수의 조합을 선택한다. 마지막으로 이 매개변수의 조합으로 최종모델을 훈련한다.\n",
        "\n",
        "* 랜덤 서치\n",
        "\n",
        "연속된 매개변수의 값을 탐색할 때 유용하다. 탐색할 값을 직접 나열하는 것이 아닌 샘플링할 수 있는 확률 분포 객체를 전달한다. 지정된 횟수만큼 샘플링하여 교차검증을 수행하기때문에 탐색량을 조절할 수 있다.\n",
        "\n",
        "* cross_validate()\n",
        "\n",
        "교차검증을 수행하는 함수이다. \n",
        "\n",
        "* GridSearchCV\n",
        "\n",
        "교차검증으로 하이퍼파라미터 탐색을 수행한다. 최상의 모델을 찾은 후 훈련세트 전체를 사용해 최종모델을 훈련한다.\n",
        "\n",
        "* RandomizedSearchCV\n",
        "\n",
        "교차검증으로 랜덤한 하이퍼파라미터 탐색을 수행한다. 최상의 모델을 찾은 후 훈련세트 전체를 사용해 최종모델을 훈련한다.\n"
      ],
      "metadata": {
        "id": "kKJrb9z1T2VL"
      }
    },
    {
      "cell_type": "markdown",
      "source": [
        "# 검증 세트"
      ],
      "metadata": {
        "id": "3Tid2jcgPq14"
      }
    },
    {
      "cell_type": "code",
      "execution_count": null,
      "metadata": {
        "id": "cTu3a7RWA82V"
      },
      "outputs": [],
      "source": [
        "import pandas as pd\n",
        "wine = pd.read_csv('https://bit.ly/wine-date')\n",
        "\n",
        "data = wine[['alcohol', 'sugar', 'pH']].to_numpy()\n",
        "target = wine['class'].to_numpy()\n",
        "\n",
        "from sklearn.model_selection import train_test_split\n",
        "train_input, test_input, train_target, test_target = train_test_split(data, target, test_size=0.2, random_state=42)\n",
        "sub_input,val_input,sub_target,val_target=train_test_split(train_input,train_target,test_size=0.2,random_state=42)"
      ]
    },
    {
      "cell_type": "markdown",
      "source": [
        "* 훈련/ 테스트 데이터 분리\n",
        "* 훈련데이터 안에서 검증 데이터를 또 분리"
      ],
      "metadata": {
        "id": "Ecs_8zIxDXwT"
      }
    },
    {
      "cell_type": "code",
      "source": [
        "from sklearn.tree import DecisionTreeClassifier\n",
        "\n",
        "dt = DecisionTreeClassifier(random_state=42)\n",
        "dt.fit(sub_input, sub_target)\n",
        "\n",
        "print(dt.score(sub_input, sub_target))\n",
        "print(dt.score(val_input, val_target))"
      ],
      "metadata": {
        "colab": {
          "base_uri": "https://localhost:8080/"
        },
        "id": "-Mtf7MgVC-WN",
        "outputId": "dd49d5e4-105d-4e15-83da-6174eefcf02c"
      },
      "execution_count": null,
      "outputs": [
        {
          "output_type": "stream",
          "name": "stdout",
          "text": [
            "0.9971133028626413\n",
            "0.864423076923077\n"
          ]
        }
      ]
    },
    {
      "cell_type": "markdown",
      "source": [
        "* 과대적합\n",
        "* 검증세트를 만드느라 훈련세트가 줄었음\n",
        "* 해결법: 교차검증\n",
        "\n",
        "# 교차검증"
      ],
      "metadata": {
        "id": "HMuFQnE_EYuN"
      }
    },
    {
      "cell_type": "code",
      "source": [
        "from sklearn.model_selection import cross_validate\n",
        "scores=cross_validate(dt,train_input,train_target)\n",
        "print(scores)"
      ],
      "metadata": {
        "colab": {
          "base_uri": "https://localhost:8080/"
        },
        "id": "MxFK1aYjESot",
        "outputId": "c3443a7d-596a-4969-b5c5-4682b8fdc0a9"
      },
      "execution_count": null,
      "outputs": [
        {
          "output_type": "stream",
          "name": "stdout",
          "text": [
            "{'fit_time': array([0.00982141, 0.00836158, 0.00792265, 0.00817561, 0.00855398]), 'score_time': array([0.00090289, 0.00123334, 0.00085711, 0.00085998, 0.00088453]), 'test_score': array([0.86923077, 0.84615385, 0.87680462, 0.84889317, 0.83541867])}\n"
          ]
        }
      ]
    },
    {
      "cell_type": "markdown",
      "source": [
        "* cross_validate를 사용하면 직접 검증세트를 지정안해줘도됨\n",
        "* 기본값은 5번 교차검증\n",
        "* fit_time : 훈련시간\n",
        "* score_time : 검증시간\n",
        "* test_score : 검증 폴드의 점수(테스트 점수 아님!!)\n"
      ],
      "metadata": {
        "id": "14YqBGDFE3Un"
      }
    },
    {
      "cell_type": "code",
      "source": [
        "import numpy as np\n",
        "print(np.mean(scores['test_score']))"
      ],
      "metadata": {
        "colab": {
          "base_uri": "https://localhost:8080/"
        },
        "id": "IbmjhdD0FbMC",
        "outputId": "430f32f4-009d-4e4e-c5ad-79b1cb4baa79"
      },
      "execution_count": null,
      "outputs": [
        {
          "output_type": "stream",
          "name": "stdout",
          "text": [
            "0.855300214703487\n"
          ]
        }
      ]
    },
    {
      "cell_type": "code",
      "source": [
        "from sklearn.model_selection import StratifiedKFold\n",
        "scores=cross_validate(dt,train_input,train_target,cv=StratifiedKFold())\n",
        "print(np.mean(scores['test_score']))"
      ],
      "metadata": {
        "colab": {
          "base_uri": "https://localhost:8080/"
        },
        "id": "cNW_3FxBHmtQ",
        "outputId": "d989d39b-205e-4528-9460-f5e5f81cf937"
      },
      "execution_count": null,
      "outputs": [
        {
          "output_type": "stream",
          "name": "stdout",
          "text": [
            "0.855300214703487\n"
          ]
        }
      ]
    },
    {
      "cell_type": "markdown",
      "source": [
        "* 앞서 전체 데이터를 섞은 후 나눠줬기때문에 섞을 필요가 없긴함\n",
        "* 근데 교차검증을 할때 훈련세트를 섞으려면 분할기를 지정해줘야함\n",
        "* 회귀모델의 경우 KFold, 분류모델의 경우 StratifiedKFold를 사용"
      ],
      "metadata": {
        "id": "jZFNASLQIG_a"
      }
    },
    {
      "cell_type": "code",
      "source": [
        "splitter=StratifiedKFold(n_splits=10,shuffle=True,random_state=42)\n",
        "scores=cross_validate(dt,train_input,train_target,cv=splitter)\n",
        "print(np.mean(scores['test_score']))"
      ],
      "metadata": {
        "colab": {
          "base_uri": "https://localhost:8080/"
        },
        "id": "znwbiSd6Iohf",
        "outputId": "f552a4db-8b97-472f-eeb9-0055062d6c40"
      },
      "execution_count": null,
      "outputs": [
        {
          "output_type": "stream",
          "name": "stdout",
          "text": [
            "0.8574181117533719\n"
          ]
        }
      ]
    },
    {
      "cell_type": "markdown",
      "source": [
        "* 만약 10-폴드 교차검증을 하고싶다면 splitter에 저장한 후 넣어준다.\n",
        "# 그리드서치(1)"
      ],
      "metadata": {
        "id": "IlwUtuX6I7IA"
      }
    },
    {
      "cell_type": "code",
      "source": [
        "from sklearn.model_selection import GridSearchCV\n",
        "params={'min_impurity_decrease':[0.0001,0.0002,0.0003,0.0004,0.0005]}"
      ],
      "metadata": {
        "id": "p6GMmSzgJITn"
      },
      "execution_count": null,
      "outputs": []
    },
    {
      "cell_type": "markdown",
      "source": [
        "* 그리드서치 클래스를 임포트하고 탐색할 매개변수의 값의 리스트를 딕셔너리로 만든다.\n"
      ],
      "metadata": {
        "id": "BenqB1sWJ2CD"
      }
    },
    {
      "cell_type": "code",
      "source": [
        "gs=GridSearchCV(DecisionTreeClassifier(random_state=42),params,n_jobs=-1)"
      ],
      "metadata": {
        "id": "1cEoP64xKOrD"
      },
      "execution_count": null,
      "outputs": []
    },
    {
      "cell_type": "markdown",
      "source": [
        "* 그리드서치 클래스에 탐색대상모델과 params의 변수를 전달하여 그리드서치 객체를 만든다.\n",
        "* n_jobs에 -1을 지정하면 시스템의 모든 코어를 사용한다."
      ],
      "metadata": {
        "id": "8_XXSR35KVTw"
      }
    },
    {
      "cell_type": "code",
      "source": [
        "gs.fit(train_input,train_target)\n",
        "\n",
        "dt=gs.best_estimator_\n",
        "\n",
        "print(dt.score(train_input,train_target))\n",
        "print(gs.best_params_)"
      ],
      "metadata": {
        "colab": {
          "base_uri": "https://localhost:8080/"
        },
        "id": "AQIVbXnvKVGb",
        "outputId": "c8011f2a-aa7b-4db4-85c4-3b6a09aa3d0b"
      },
      "execution_count": null,
      "outputs": [
        {
          "output_type": "stream",
          "name": "stdout",
          "text": [
            "0.9615162593804117\n",
            "{'min_impurity_decrease': 0.0001}\n"
          ]
        }
      ]
    },
    {
      "cell_type": "markdown",
      "source": [
        "* gs 객체에 fit 메서드를 호출하면 min_impurity_decrease (5) * 교차검증(5) =25개의 모델을 훈련하게 된다.\n",
        "* 검증 점수가 가장 높은 하이퍼파라미터로 훈련한 모델은 best_estimator_에 저장되어있고 따로 훈련을 하지않아도 바로 score를 확인할 수 있음\n",
        "* 최적의 매개변수는 best_params_에 저장되어있음\n",
        "\n",
        "\n"
      ],
      "metadata": {
        "id": "aMQQbFFbMmxU"
      }
    },
    {
      "cell_type": "code",
      "source": [
        "print(gs.cv_results_['mean_test_score'])"
      ],
      "metadata": {
        "colab": {
          "base_uri": "https://localhost:8080/"
        },
        "id": "vB6qiTXpN8xU",
        "outputId": "1b1f2ab7-96d5-4e32-bae1-67cee8992515"
      },
      "execution_count": null,
      "outputs": [
        {
          "output_type": "stream",
          "name": "stdout",
          "text": [
            "[0.86819297 0.86453617 0.86492226 0.86780891 0.86761605]\n"
          ]
        }
      ]
    },
    {
      "cell_type": "markdown",
      "source": [
        "* 5번의 교차 검증으로 얻은 점수 \n",
        "* 최적의 하이퍼파라미터인 0.0001 에 있는 위치의 점수가 역시 가장 높음"
      ],
      "metadata": {
        "id": "ijJ9_udEOEuE"
      }
    },
    {
      "cell_type": "code",
      "source": [
        "best_index=np.argmax(gs.cv_results_['mean_test_score'])\n",
        "print(gs.cv_results_['params'][best_index])"
      ],
      "metadata": {
        "colab": {
          "base_uri": "https://localhost:8080/"
        },
        "id": "u4VL9P6IN3Pb",
        "outputId": "d11bab2c-f4ff-4d48-c837-e8b4bb22761d"
      },
      "execution_count": null,
      "outputs": [
        {
          "output_type": "stream",
          "name": "stdout",
          "text": [
            "{'min_impurity_decrease': 0.0001}\n"
          ]
        }
      ]
    },
    {
      "cell_type": "markdown",
      "source": [
        "* argmax를 사용하면 가장 큰 값의 인덱스를 추출할 수있음\n",
        "* argmin를 사용하면 가장 작은 값의 인덱스를 추출할 수있음\n",
        "\n",
        "# 그리드서치(2)"
      ],
      "metadata": {
        "id": "fm9wZrOSOtGE"
      }
    },
    {
      "cell_type": "code",
      "source": [
        "params = {'min_impurity_decrease': np.arange(0.0001, 0.001, 0.0001),\n",
        "          'max_depth': range(5, 20, 1),\n",
        "          'min_samples_split': range(2, 100, 10)\n",
        "          }"
      ],
      "metadata": {
        "id": "-fD4sV-nO2u4"
      },
      "execution_count": null,
      "outputs": []
    },
    {
      "cell_type": "markdown",
      "source": [
        "* arange 함수는 첫번째 매개변수값을 시작으로 두번째 매개변수에 도달할때까지 세번째 매개변수만큼 계속 더한 배열을 만든다.\n",
        "* range 함수는 정수만 사용할 수있고, arange 처럼 마찬가지로 보면 된다.\n",
        "* 교차검증횟수는 9 * 15 * 10 = 1350 번이고 , 5-폴드 검증을 수행하므로 만들어지는 모델은 1350 * 5 =6750 개이다.\n"
      ],
      "metadata": {
        "id": "Thwp_5LgQeCs"
      }
    },
    {
      "cell_type": "code",
      "source": [
        "gs=GridSearchCV(DecisionTreeClassifier(random_state=42),params,n_jobs=-1)\n",
        "gs.fit(train_input,train_target)\n",
        "print(gs.best_params_)\n",
        "print(np.max(gs.cv_results_['mean_test_score']))"
      ],
      "metadata": {
        "colab": {
          "base_uri": "https://localhost:8080/"
        },
        "id": "ue64gub_RfVU",
        "outputId": "b7b90403-d54a-4b7b-ded4-5412f8217070"
      },
      "execution_count": null,
      "outputs": [
        {
          "output_type": "stream",
          "name": "stdout",
          "text": [
            "{'max_depth': 14, 'min_impurity_decrease': 0.0004, 'min_samples_split': 12}\n",
            "0.8683865773302731\n"
          ]
        }
      ]
    },
    {
      "cell_type": "markdown",
      "source": [
        "# 랜덤 서치"
      ],
      "metadata": {
        "id": "KyAMKhx5TbuM"
      }
    },
    {
      "cell_type": "code",
      "source": [
        "from scipy.stats import uniform,randint\n",
        "\n",
        "params = {'min_impurity_decrease': uniform(0.0001, 0.001),\n",
        "          'max_depth': randint(20, 50),\n",
        "          'min_samples_split': randint(2, 25),\n",
        "          'min_samples_leaf': randint(1, 25),\n",
        "          }"
      ],
      "metadata": {
        "id": "eZwqnO7iTWUS"
      },
      "execution_count": null,
      "outputs": []
    },
    {
      "cell_type": "markdown",
      "source": [
        "* randint 정수로 숫자를 뽑음\n",
        "* uniform 실수로 숫자를 뽑음"
      ],
      "metadata": {
        "id": "Im_1fh99VT0n"
      }
    },
    {
      "cell_type": "code",
      "source": [
        "from sklearn.model_selection import RandomizedSearchCV\n",
        "\n",
        "gs = RandomizedSearchCV(DecisionTreeClassifier(random_state=42), params, n_iter=100, n_jobs=-1, random_state=42)\n",
        "gs.fit(train_input, train_target)\n",
        "print(gs.best_params_)"
      ],
      "metadata": {
        "colab": {
          "base_uri": "https://localhost:8080/"
        },
        "id": "MQrpDJObU2SX",
        "outputId": "8460d092-34b8-4279-ba7c-fcb7bb2809ef"
      },
      "execution_count": null,
      "outputs": [
        {
          "output_type": "stream",
          "name": "stdout",
          "text": [
            "{'max_depth': 39, 'min_impurity_decrease': 0.00034102546602601173, 'min_samples_leaf': 7, 'min_samples_split': 13}\n"
          ]
        }
      ]
    },
    {
      "cell_type": "markdown",
      "source": [
        "* n_iter로 샘플링 횟수를 지정할 수 있다. 샘플링 횟수는 시스템 자원이 허락하는 범위내에서 최대한 클 수록 좋다.\n"
      ],
      "metadata": {
        "id": "Pq87UCC_WTRE"
      }
    },
    {
      "cell_type": "code",
      "source": [
        "print(np.max(gs.cv_results_['mean_test_score']))"
      ],
      "metadata": {
        "colab": {
          "base_uri": "https://localhost:8080/"
        },
        "id": "GzrARtdsWjfe",
        "outputId": "f96ae801-3635-4073-ab6c-98784e4f38b3"
      },
      "execution_count": null,
      "outputs": [
        {
          "output_type": "stream",
          "name": "stdout",
          "text": [
            "0.8695428296438884\n"
          ]
        }
      ]
    },
    {
      "cell_type": "code",
      "source": [
        "dt=gs.best_estimator_\n",
        "print(dt.score(test_input,test_target))"
      ],
      "metadata": {
        "colab": {
          "base_uri": "https://localhost:8080/"
        },
        "id": "hgDV4DzQW3Y2",
        "outputId": "5c9d8d79-ad5d-4bbf-ab14-b2190624b017"
      },
      "execution_count": null,
      "outputs": [
        {
          "output_type": "stream",
          "name": "stdout",
          "text": [
            "0.86\n"
          ]
        }
      ]
    },
    {
      "cell_type": "markdown",
      "source": [
        "* 최적의 파라미터로 훈련한 모델로 테스트를 함"
      ],
      "metadata": {
        "id": "Inl7V1_ZXA8Y"
      }
    }
  ]
}