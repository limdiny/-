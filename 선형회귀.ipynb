{
  "nbformat": 4,
  "nbformat_minor": 0,
  "metadata": {
    "colab": {
      "name": "선형회귀.ipynb",
      "provenance": [],
      "collapsed_sections": [],
      "authorship_tag": "ABX9TyNAbhm5NuopnFNiWB2GbPij",
      "include_colab_link": true
    },
    "kernelspec": {
      "name": "python3",
      "display_name": "Python 3"
    },
    "language_info": {
      "name": "python"
    }
  },
  "cells": [
    {
      "cell_type": "markdown",
      "metadata": {
        "id": "view-in-github",
        "colab_type": "text"
      },
      "source": [
        "<a href=\"https://colab.research.google.com/github/limdiny/ML/blob/main/%EC%84%A0%ED%98%95%ED%9A%8C%EA%B7%80.ipynb\" target=\"_parent\"><img src=\"https://colab.research.google.com/assets/colab-badge.svg\" alt=\"Open In Colab\"/></a>"
      ]
    },
    {
      "cell_type": "markdown",
      "source": [
        "# 선형 회귀\n",
        "* 선형 회귀\n",
        "\n",
        "특성과 타깃 사이의 관계를 가장 잘 나타내는 선형방정식을 찾는다.\n",
        "\n",
        "특성이 한개면 직선 방정식이 된다.\n",
        "\n",
        "특성과 타킷 사이의 관계는 선형방정식의 계수 또는 가중치에 저장된다.\n",
        "\n",
        "+ 모델 파라미터\n",
        "\n",
        "머신러닝 모델이 특성에서 학습한 파라미터를 말한다.\n",
        "\n",
        "* 다항 회귀\n",
        "\n",
        "다항식을 사용해 특성과 타깃 사이의 관계를 나타낸다. 비선형일수도 있지만 선형회귀로도 표현한다. \n",
        "\n",
        "* LinearRegression\n",
        "\n",
        "사이킷런의 선형 회귀 클래스이다.\n",
        "\n",
        "fit_intercept=False로 지정하면 절편은 학습하지 않는다.\n",
        "\n",
        "coef를 출력한 결과값은 특성의 개수와도 같다.\n",
        "\n",
        "intercept 에는 절편이 포함되어있다."
      ],
      "metadata": {
        "id": "Y8MmcMHkagrp"
      }
    },
    {
      "cell_type": "code",
      "execution_count": null,
      "metadata": {
        "id": "Xmh0CmMsXQht",
        "colab": {
          "base_uri": "https://localhost:8080/"
        },
        "outputId": "96598e68-4462-4211-a912-003a6aeee5d8"
      },
      "outputs": [
        {
          "output_type": "execute_result",
          "data": {
            "text/plain": [
              "KNeighborsRegressor(n_neighbors=3)"
            ]
          },
          "metadata": {},
          "execution_count": 2
        }
      ],
      "source": [
        "import numpy as np\n",
        "\n",
        "perch_length = np.array(\n",
        "    [8.4, 13.7, 15.0, 16.2, 17.4, 18.0, 18.7, 19.0, 19.6, 20.0, \n",
        "     21.0, 21.0, 21.0, 21.3, 22.0, 22.0, 22.0, 22.0, 22.0, 22.5, \n",
        "     22.5, 22.7, 23.0, 23.5, 24.0, 24.0, 24.6, 25.0, 25.6, 26.5, \n",
        "     27.3, 27.5, 27.5, 27.5, 28.0, 28.7, 30.0, 32.8, 34.5, 35.0, \n",
        "     36.5, 36.0, 37.0, 37.0, 39.0, 39.0, 39.0, 40.0, 40.0, 40.0, \n",
        "     40.0, 42.0, 43.0, 43.0, 43.5, 44.0]\n",
        "     )\n",
        "perch_weight = np.array(\n",
        "    [5.9, 32.0, 40.0, 51.5, 70.0, 100.0, 78.0, 80.0, 85.0, 85.0, \n",
        "     110.0, 115.0, 125.0, 130.0, 120.0, 120.0, 130.0, 135.0, 110.0, \n",
        "     130.0, 150.0, 145.0, 150.0, 170.0, 225.0, 145.0, 188.0, 180.0, \n",
        "     197.0, 218.0, 300.0, 260.0, 265.0, 250.0, 250.0, 300.0, 320.0, \n",
        "     514.0, 556.0, 840.0, 685.0, 700.0, 700.0, 690.0, 900.0, 650.0, \n",
        "     820.0, 850.0, 900.0, 1015.0, 820.0, 1100.0, 1000.0, 1100.0, \n",
        "     1000.0, 1000.0]\n",
        "     )\n",
        "# 훈력/테스트 나누기\n",
        "from sklearn.model_selection import train_test_split\n",
        "\n",
        "train_input, test_input, train_target, test_target = train_test_split(\n",
        "    perch_length, perch_weight, random_state=42)\n",
        "# 입력데이터 reshape\n",
        "train_input = train_input.reshape(-1, 1)\n",
        "test_input = test_input.reshape(-1, 1)\n",
        "#k-최근접 이웃 회귀모델 훈련\n",
        "from sklearn.neighbors import KNeighborsRegressor\n",
        "\n",
        "knr = KNeighborsRegressor(n_neighbors=3)\n",
        "knr.fit(train_input, train_target)\n"
      ]
    },
    {
      "cell_type": "code",
      "source": [
        "# 농어 50cm의 무게 예측\n",
        "print(knr.predict([[50]]))"
      ],
      "metadata": {
        "colab": {
          "base_uri": "https://localhost:8080/"
        },
        "id": "78y5T27ibbtG",
        "outputId": "99fd1b44-306f-4cdc-bbeb-dde6a882d6b4"
      },
      "execution_count": null,
      "outputs": [
        {
          "output_type": "stream",
          "name": "stdout",
          "text": [
            "[1033.33333333]\n"
          ]
        }
      ]
    },
    {
      "cell_type": "code",
      "source": [
        "import matplotlib.pyplot as plt\n",
        "plt.scatter(train_input,train_target)\n",
        "#50cm 농어의 이웃 3마리를 구한다.\n",
        "distance,indexs=knr.kneighbors([[50]])\n",
        "plt.scatter(train_input[indexs],train_target[indexs],marker='D')\n",
        "#50cm 농어의 위치\n",
        "plt.scatter(50,1033,marker='^')\n",
        "plt.xlabel('length')\n",
        "plt.ylabel('weight')\n",
        "plt.show()"
      ],
      "metadata": {
        "colab": {
          "base_uri": "https://localhost:8080/",
          "height": 279
        },
        "id": "BvQBPAlZa5hd",
        "outputId": "843d2b8f-3bca-4910-d49d-8dca6350134a"
      },
      "execution_count": null,
      "outputs": [
        {
          "output_type": "display_data",
          "data": {
            "image/png": "[encoded data removed]",
            "text/plain": [
              "<Figure size 432x288 with 1 Axes>"
            ]
          },
          "metadata": {
            "needs_background": "light"
          }
        }
      ]
    },
    {
      "cell_type": "markdown",
      "source": [
        "n_neighbors=3으로 지정해줬고,\n",
        "\n",
        "50cm 농어 근처에 있는 3마리를 D로 마커, 50cm 농어에는 ^로 마커\n",
        "\n",
        "여기서k최근접 이웃 알고리즘 모델의 문제점이 생김!! \n",
        "\n",
        "이웃 샘플로만 평균을 구해서 예측값을 구함"
      ],
      "metadata": {
        "id": "B2et5llEeEhE"
      }
    },
    {
      "cell_type": "code",
      "source": [
        "# k-최근접 이웃 회귀 모델의 한계 >> 선형회귀를 배워보자\n",
        "from sklearn.linear_model import LinearRegression\n",
        "lr=LinearRegression()\n",
        "# 선형회귀모델 훈련\n",
        "lr.fit(train_input,train_target)\n",
        "print(lr.predict([[50]]))"
      ],
      "metadata": {
        "colab": {
          "base_uri": "https://localhost:8080/"
        },
        "id": "hRTTTjvVfsrz",
        "outputId": "d2881913-4f16-44be-fca9-a24acd87ec49"
      },
      "execution_count": null,
      "outputs": [
        {
          "output_type": "stream",
          "name": "stdout",
          "text": [
            "[1241.83860323]\n"
          ]
        }
      ]
    },
    {
      "cell_type": "markdown",
      "source": [
        "k최근접이웃회귀모델보다 선형회귀를 쓰니 더 그럴싸한 예측값이 나왔다."
      ],
      "metadata": {
        "id": "yhMOfcB-ihYi"
      }
    },
    {
      "cell_type": "code",
      "source": [
        "print(lr.coef_,lr.intercept_)"
      ],
      "metadata": {
        "colab": {
          "base_uri": "https://localhost:8080/"
        },
        "id": "NU92O3Lxio8O",
        "outputId": "adbd8b7c-45b2-45c1-fb75-a6394a797502"
      },
      "execution_count": null,
      "outputs": [
        {
          "output_type": "stream",
          "name": "stdout",
          "text": [
            "[39.01714496] -709.0186449535477\n"
          ]
        }
      ]
    },
    {
      "cell_type": "markdown",
      "source": [
        "coef(기울기)와 intecept(절편)는 머신러닝 알고리즘이 찾은 값으로 모델 파라미터라고 부른다.\n",
        "\n",
        "선형회귀는 모델 기반 학습, k최근접 이웃 모델은 사례 기반 학습"
      ],
      "metadata": {
        "id": "OscIewC1i6U7"
      }
    },
    {
      "cell_type": "code",
      "source": [
        "plt.scatter(train_input,train_target)\n",
        "\n",
        "plt.plot([15,50],[15*lr.coef_+lr.intercept_,50*lr.coef_+lr.intercept_])\n",
        "plt.scatter(50,1241.8,marker='^')\n",
        "plt.xlabel='length'\n",
        "plt.ylabel='weight'\n",
        "plt.show()"
      ],
      "metadata": {
        "colab": {
          "base_uri": "https://localhost:8080/",
          "height": 265
        },
        "id": "Zz8Xcn5cjXIR",
        "outputId": "2ae6fcae-0599-4ed8-a280-0b72b2856e5f"
      },
      "execution_count": null,
      "outputs": [
        {
          "output_type": "display_data",
          "data": {
            "image/png": "[encoded data removed]",
            "text/plain": [
              "<Figure size 432x288 with 1 Axes>"
            ]
          },
          "metadata": {
            "needs_background": "light"
          }
        }
      ]
    },
    {
      "cell_type": "markdown",
      "source": [
        "y = 39.01714496  x - -709.0186449535477\n",
        "\n",
        "x=[15,50] "
      ],
      "metadata": {
        "id": "VsJCgP9NjzG2"
      }
    },
    {
      "cell_type": "code",
      "source": [
        "print(lr.score(train_input,train_target))\n",
        "print(lr.score(test_input,test_target))"
      ],
      "metadata": {
        "colab": {
          "base_uri": "https://localhost:8080/"
        },
        "id": "MC4KNTxakBjw",
        "outputId": "00986d4b-faf1-457e-f3ad-ffb4e1ad1fe1"
      },
      "execution_count": null,
      "outputs": [
        {
          "output_type": "stream",
          "name": "stdout",
          "text": [
            "0.939846333997604\n",
            "0.8247503123313558\n"
          ]
        }
      ]
    },
    {
      "cell_type": "markdown",
      "source": [
        "둘다 성능 별로 안좋은 과소적합으로 볼 수 있음"
      ],
      "metadata": {
        "id": "1RVYby6Vkio1"
      }
    },
    {
      "cell_type": "code",
      "source": [
        "# 선형회귀를 보자니 농어의 값이 음수가 나올수도있다 >> 2차 방정식처럼 곡선을 그려주는 다항 회귀를 배워보자(이것또한 선형회귀로 볼 수 있음)\n",
        "train_poly=np.column_stack((train_input**2,train_input))\n",
        "test_poly=np.column_stack((test_input**2,test_input))\n",
        "\n",
        "print(train_poly.shape,test_poly.shape)"
      ],
      "metadata": {
        "colab": {
          "base_uri": "https://localhost:8080/"
        },
        "id": "6OF-mk5kkm32",
        "outputId": "007ed29e-f3e6-4b81-8f16-eb64605e9a4c"
      },
      "execution_count": null,
      "outputs": [
        {
          "output_type": "stream",
          "name": "stdout",
          "text": [
            "(42, 2) (14, 2)\n"
          ]
        }
      ]
    },
    {
      "cell_type": "markdown",
      "source": [
        "길이를 제곱해서 특성을 추가한다.\n",
        "\n",
        " column_stack() 함수를 사용하면 배열을 나란히 붙일 수 있다.\n",
        "\n",
        " "
      ],
      "metadata": {
        "id": "pdaRdkhBl8Rf"
      }
    },
    {
      "cell_type": "code",
      "source": [
        "lr=LinearRegression()\n",
        "lr.fit(train_poly,train_target)\n",
        "\n",
        "print(lr.predict([[50**2,50]]))\n",
        "print(lr.coef_,lr.intercept_)"
      ],
      "metadata": {
        "colab": {
          "base_uri": "https://localhost:8080/"
        },
        "id": "wJE2qFlNmnxZ",
        "outputId": "f123c18f-6e78-4ecc-a0db-4d796fae958c"
      },
      "execution_count": null,
      "outputs": [
        {
          "output_type": "stream",
          "name": "stdout",
          "text": [
            "[1573.98423528]\n",
            "[  1.01433211 -21.55792498] 116.05021078278276\n"
          ]
        }
      ]
    },
    {
      "cell_type": "markdown",
      "source": [
        "predict를 할때 길이만 넣어주는게 아니라, 길이 제곱의 특성도 추가 되었기때문에 넣어줘야함"
      ],
      "metadata": {
        "id": "YiI1L15vnH0d"
      }
    },
    {
      "cell_type": "code",
      "source": [
        "plt.scatter(train_input,train_target)\n",
        "point=np.arange(15,50)\n",
        "plt.plot(point,1.01*point**2+-21.6*point+116.05)\n",
        "\n",
        "plt.scatter([50],[1574],marker='^')\n",
        "plt.xlabel='length'\n",
        "plt.ylabel='weight'\n",
        "plt.show()"
      ],
      "metadata": {
        "colab": {
          "base_uri": "https://localhost:8080/",
          "height": 265
        },
        "id": "7RtUIqUwnGol",
        "outputId": "d837d3de-f744-4dc7-adba-f207208e884a"
      },
      "execution_count": null,
      "outputs": [
        {
          "output_type": "display_data",
          "data": {
            "image/png": "[encoded data removed]",
            "text/plain": [
              "<Figure size 432x288 with 1 Axes>"
            ]
          },
          "metadata": {
            "needs_background": "light"
          }
        }
      ]
    },
    {
      "cell_type": "code",
      "source": [
        "print(lr.score(train_poly,train_target))\n",
        "print(lr.score(test_poly,test_target))"
      ],
      "metadata": {
        "colab": {
          "base_uri": "https://localhost:8080/"
        },
        "id": "8B0k5JNsoCm2",
        "outputId": "9dfc7b72-33a4-4b4f-e712-29d81c6dd637"
      },
      "execution_count": null,
      "outputs": [
        {
          "output_type": "stream",
          "name": "stdout",
          "text": [
            "0.9706807451768623\n",
            "0.9775935108325121\n"
          ]
        }
      ]
    },
    {
      "cell_type": "markdown",
      "source": [
        "성능은 좋아진듯하나\n",
        "\n",
        " 테스트 성능이 더 좋은 여전히 과소적합임"
      ],
      "metadata": {
        "id": "oHyspVnYoNer"
      }
    }
  ]
}