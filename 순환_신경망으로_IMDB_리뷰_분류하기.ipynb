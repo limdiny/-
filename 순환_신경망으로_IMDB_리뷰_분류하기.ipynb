{
  "nbformat": 4,
  "nbformat_minor": 0,
  "metadata": {
    "colab": {
      "name": "순환 신경망으로 IMDB 리뷰 분류하기",
      "provenance": [],
      "authorship_tag": "ABX9TyOsQe7sbtiWaqYXlx3Q1u90",
      "include_colab_link": true
    },
    "kernelspec": {
      "name": "python3",
      "display_name": "Python 3"
    },
    "language_info": {
      "name": "python"
    }
  },
  "cells": [
    {
      "cell_type": "markdown",
      "metadata": {
        "id": "view-in-github",
        "colab_type": "text"
      },
      "source": [
        "<a href=\"https://colab.research.google.com/github/limdiny/ML/blob/main/%EC%88%9C%ED%99%98_%EC%8B%A0%EA%B2%BD%EB%A7%9D%EC%9C%BC%EB%A1%9C_IMDB_%EB%A6%AC%EB%B7%B0_%EB%B6%84%EB%A5%98%ED%95%98%EA%B8%B0.ipynb\" target=\"_parent\"><img src=\"https://colab.research.google.com/assets/colab-badge.svg\" alt=\"Open In Colab\"/></a>"
      ]
    },
    {
      "cell_type": "markdown",
      "source": [
        "# 순환 신경망으로 IMDB 리뷰 분류하기\n",
        "* 순차 데이터 \n",
        "  \n",
        "  텍스트나 시계열 데이터와 같이 순서에 의미가 있는 데이터이다. 대표적으로 글, 대화, 일자별 날씨 등이 있다.\n",
        "* 순환 신경망\n",
        "  \n",
        "  순차 데이터에 잘맞는 인공신경망의 한 종류이다. 순환층을 **셀**이라고 부르고 셀의 출력을 **은닉 상태**라고 부른다. 은닉상태는 다음층으로 전달될 뿐만 아니라 셀이 다음 타임스텝의 데이터를 처리할 때 재사용된다.\n",
        "* 말뭉치\n",
        "\n",
        "  자연어 처리에서 사용하는 텍스트 데이터의 모음, 즉 훈련 데이터셋을 일컫는다.\n",
        "* 토큰\n",
        "\n",
        "  텍스트에서 공백으로 구분되는 문자열을 말한다. 종종 소문자로 변환하고 구둣점은 삭제한다.\n",
        "\n",
        "* 원-핫 인코딩\n",
        "\n",
        "  어떤 클래스에 해당하는 원소만 1이고 나머지는 모두 0인 벡터이다. 정수로 변환된 토큰을 원-핫 인코딩으로 변환하려면 어휘사전 크기의 벡터가 만들어진다.\n",
        "\n",
        "* 단어 임베딩\n",
        "\n",
        "  정수로 변환된 토큰을 비교적 작은 크기의 실수 밀집 벡터로 변환한다. 밀집 벡터는 단어 사이의 관계를 표현할 수 있어서 자연어 처리에서 좋은 성능을 발휘한다."
      ],
      "metadata": {
        "id": "F7FmubcwZ7QA"
      }
    },
    {
      "cell_type": "code",
      "execution_count": 3,
      "metadata": {
        "colab": {
          "base_uri": "https://localhost:8080/"
        },
        "id": "u2vZxCMQhCLo",
        "outputId": "9dffa226-f91f-4707-e5b4-a63db70bf097"
      },
      "outputs": [
        {
          "output_type": "stream",
          "name": "stdout",
          "text": [
            "Downloading data from https://storage.googleapis.com/tensorflow/tf-keras-datasets/imdb.npz\n",
            "17465344/17464789 [==============================] - 0s 0us/step\n",
            "17473536/17464789 [==============================] - 0s 0us/step\n"
          ]
        }
      ],
      "source": [
        "from tensorflow.keras.datasets import imdb\n",
        "(train_input,train_target),(test_input,test_target) = imdb.load_data(num_words=500)\n"
      ]
    },
    {
      "cell_type": "markdown",
      "source": [
        "* 전체 데이터셋에서 가장 자주 등장하는 단어 500개만 사용"
      ],
      "metadata": {
        "id": "8btvP5aQhTTF"
      }
    },
    {
      "cell_type": "code",
      "source": [
        "print(train_input.shape,test_input.shape)"
      ],
      "metadata": {
        "colab": {
          "base_uri": "https://localhost:8080/"
        },
        "id": "6Si8GJRyhmAN",
        "outputId": "71dbd65b-8220-4591-bee7-fecb8acfa3fc"
      },
      "execution_count": 4,
      "outputs": [
        {
          "output_type": "stream",
          "name": "stdout",
          "text": [
            "(25000,) (25000,)\n"
          ]
        }
      ]
    },
    {
      "cell_type": "markdown",
      "source": [
        "* 배열이 1차원인 이유\n",
        "\n",
        "  imdb 리뷰텍스트의 길이는 제각각임\n",
        "\n",
        "  ->고정된 2차원 배열에 담기보다 리뷰마다 별도의 파이썬 리스트로 담아야 메모리를 효율적으로 사용할 수 있음"
      ],
      "metadata": {
        "id": "b3Jy38jvhxxV"
      }
    },
    {
      "cell_type": "code",
      "source": [
        "print(len(train_input[0]))\n",
        "print(len(train_input[1]))"
      ],
      "metadata": {
        "colab": {
          "base_uri": "https://localhost:8080/"
        },
        "id": "AtoeySrtiD5-",
        "outputId": "9f626332-7e55-44c8-ab98-41e93584e9ae"
      },
      "execution_count": 5,
      "outputs": [
        {
          "output_type": "stream",
          "name": "stdout",
          "text": [
            "218\n",
            "189\n"
          ]
        }
      ]
    },
    {
      "cell_type": "markdown",
      "source": [
        "* 첫번째 리뷰의 길이는 218개의 토큰으로 이루어짐\n",
        "* 두번째 리뷰의 길이는 189개의 토큰으로 이루어짐\n",
        "\n",
        "-> 리뷰의 길이는 제각각이다.\n",
        "\n",
        "\n"
      ],
      "metadata": {
        "id": "TOitFZcyiYAm"
      }
    },
    {
      "cell_type": "code",
      "source": [
        "print(train_input[0])"
      ],
      "metadata": {
        "colab": {
          "base_uri": "https://localhost:8080/"
        },
        "id": "2946K5pSilxV",
        "outputId": "d2a8c199-ea08-4289-c2a1-a698d73ecf1b"
      },
      "execution_count": 6,
      "outputs": [
        {
          "output_type": "stream",
          "name": "stdout",
          "text": [
            "[1, 14, 22, 16, 43, 2, 2, 2, 2, 65, 458, 2, 66, 2, 4, 173, 36, 256, 5, 25, 100, 43, 2, 112, 50, 2, 2, 9, 35, 480, 284, 5, 150, 4, 172, 112, 167, 2, 336, 385, 39, 4, 172, 2, 2, 17, 2, 38, 13, 447, 4, 192, 50, 16, 6, 147, 2, 19, 14, 22, 4, 2, 2, 469, 4, 22, 71, 87, 12, 16, 43, 2, 38, 76, 15, 13, 2, 4, 22, 17, 2, 17, 12, 16, 2, 18, 2, 5, 62, 386, 12, 8, 316, 8, 106, 5, 4, 2, 2, 16, 480, 66, 2, 33, 4, 130, 12, 16, 38, 2, 5, 25, 124, 51, 36, 135, 48, 25, 2, 33, 6, 22, 12, 215, 28, 77, 52, 5, 14, 407, 16, 82, 2, 8, 4, 107, 117, 2, 15, 256, 4, 2, 7, 2, 5, 2, 36, 71, 43, 2, 476, 26, 400, 317, 46, 7, 4, 2, 2, 13, 104, 88, 4, 381, 15, 297, 98, 32, 2, 56, 26, 141, 6, 194, 2, 18, 4, 226, 22, 21, 134, 476, 26, 480, 5, 144, 30, 2, 18, 51, 36, 28, 224, 92, 25, 104, 4, 226, 65, 16, 38, 2, 88, 12, 16, 283, 5, 16, 2, 113, 103, 32, 15, 16, 2, 19, 178, 32]\n"
          ]
        }
      ]
    },
    {
      "cell_type": "markdown",
      "source": [
        "* 첫번째 리뷰에 담긴 내용 (218개의 토큰)\n",
        "\n",
        "* 앞서 num_words를 500으로 설정했기에 어휘사전에 포함되지않은 단어는 2로 표시됨\n",
        " \n",
        "**※ 0 : 패딩 / 1 : 시작 / 2 : 어휘사전에 없는 단어**"
      ],
      "metadata": {
        "id": "_kjazL9piv3B"
      }
    },
    {
      "cell_type": "code",
      "source": [
        "print(train_target[:20])"
      ],
      "metadata": {
        "colab": {
          "base_uri": "https://localhost:8080/"
        },
        "id": "A3vud4mui0FQ",
        "outputId": "8003e8d7-4989-4f7b-e770-a79221978227"
      },
      "execution_count": 7,
      "outputs": [
        {
          "output_type": "stream",
          "name": "stdout",
          "text": [
            "[1 0 0 1 0 0 1 0 1 0 1 0 0 0 0 0 1 1 0 1]\n"
          ]
        }
      ]
    },
    {
      "cell_type": "markdown",
      "source": [
        "* 해결할 문제는 리뷰가 부정(0)인지 긍정(1)인지 판단하는 것이다. (이진분류)"
      ],
      "metadata": {
        "id": "H0FNtIJnjkoO"
      }
    },
    {
      "cell_type": "code",
      "source": [
        "from sklearn.model_selection import train_test_split\n",
        "train_input,val_input,train_target,val_target = train_test_split(train_input,train_target,test_size=0.2,random_state=42)"
      ],
      "metadata": {
        "id": "agKSXTbAjueF"
      },
      "execution_count": 8,
      "outputs": []
    },
    {
      "cell_type": "markdown",
      "source": [
        "* 훈련세트에서 검증세트 20% 로 떼어냄\n",
        "# 훈련세트 파악하기"
      ],
      "metadata": {
        "id": "2nuUXiBBkALJ"
      }
    },
    {
      "cell_type": "code",
      "source": [
        "import numpy as np\n",
        "lengths = np.array([len(x) for x in train_input])"
      ],
      "metadata": {
        "id": "FLeSd2C3kH8u"
      },
      "execution_count": 9,
      "outputs": []
    },
    {
      "cell_type": "code",
      "source": [
        "print(np.mean(lengths),np.median(lengths))"
      ],
      "metadata": {
        "colab": {
          "base_uri": "https://localhost:8080/"
        },
        "id": "9iUl42RcC2e_",
        "outputId": "9ce5eb38-ece8-4033-9ca6-8a195de7580e"
      },
      "execution_count": 10,
      "outputs": [
        {
          "output_type": "stream",
          "name": "stdout",
          "text": [
            "239.00925 178.0\n"
          ]
        }
      ]
    },
    {
      "cell_type": "markdown",
      "source": [
        "* 리뷰의 평균 단어 개수는 239개, 중간값은 178개\n",
        "\n",
        "-> 한쪽으로 치우침을 예상할 수 있다.\n"
      ],
      "metadata": {
        "id": "gKugjF06CxUp"
      }
    },
    {
      "cell_type": "code",
      "source": [
        "import matplotlib.pyplot as plt\n",
        "plt.hist(lengths)\n",
        "plt.xlabel('lengths')\n",
        "plt.ylabel('frequency')\n",
        "plt.show()"
      ],
      "metadata": {
        "colab": {
          "base_uri": "https://localhost:8080/",
          "height": 279
        },
        "id": "-YmuvU6aDMB8",
        "outputId": "b3bfbc82-57d8-464f-d313-66f782a399c5"
      },
      "execution_count": 11,
      "outputs": [
        {
          "output_type": "display_data",
          "data": {
            "image/png": "[encoded data removed]",
            "text/plain": [
              "<Figure size 432x288 with 1 Axes>"
            ]
          },
          "metadata": {
            "needs_background": "light"
          }
        }
      ]
    },
    {
      "cell_type": "markdown",
      "source": [
        "* 대부분의 리뷰 길이는 300미만\n",
        "* 평균이 중간값보다 높은 이유는 1000개 이상의 단어도 있기때문이다."
      ],
      "metadata": {
        "id": "QBZ8pGd2DfEI"
      }
    },
    {
      "cell_type": "code",
      "source": [
        "from tensorflow.keras.preprocessing.sequence import pad_sequences\n",
        "train_seq = pad_sequences(train_input,maxlen=100)"
      ],
      "metadata": {
        "id": "XQ8BW7SCDy_8"
      },
      "execution_count": 12,
      "outputs": []
    },
    {
      "cell_type": "markdown",
      "source": [
        "* 대부분의 리뷰길이가 짧아서 중간값보다 훨씬 짧은 100개의 단어만 사용해보자\n",
        "* pad_sequence로 시퀀스의 길이를 맞춰줄 수 있음 ( 길이를 잘라내거나 패딩으로 추가하거나)"
      ],
      "metadata": {
        "id": "tkGfzF11D9EM"
      }
    },
    {
      "cell_type": "code",
      "source": [
        "print(train_seq.shape)"
      ],
      "metadata": {
        "colab": {
          "base_uri": "https://localhost:8080/"
        },
        "id": "byvd3UK_EMmb",
        "outputId": "0624590e-ae74-4100-ba16-677fa6a35651"
      },
      "execution_count": 14,
      "outputs": [
        {
          "output_type": "stream",
          "name": "stdout",
          "text": [
            "(20000, 100)\n"
          ]
        }
      ]
    },
    {
      "cell_type": "code",
      "source": [
        "print(train_seq[0])"
      ],
      "metadata": {
        "colab": {
          "base_uri": "https://localhost:8080/"
        },
        "id": "l6btojzvEWDm",
        "outputId": "b9df5616-ba51-4e20-e815-12274c449c28"
      },
      "execution_count": 15,
      "outputs": [
        {
          "output_type": "stream",
          "name": "stdout",
          "text": [
            "[ 10   4  20   9   2 364 352   5  45   6   2   2  33 269   8   2 142   2\n",
            "   5   2  17  73  17 204   5   2  19  55   2   2  92  66 104  14  20  93\n",
            "  76   2 151  33   4  58  12 188   2 151  12 215  69 224 142  73 237   6\n",
            "   2   7   2   2 188   2 103  14  31  10  10 451   7   2   5   2  80  91\n",
            "   2  30   2  34  14  20 151  50  26 131  49   2  84  46  50  37  80  79\n",
            "   6   2  46   7  14  20  10  10 470 158]\n"
          ]
        }
      ]
    },
    {
      "cell_type": "markdown",
      "source": [
        "* 샘플 앞뒤에 패딩이 없는 것으로 보아 첫번째 리뷰는 100개의 단어 이상으로 이루어져있었음을 예측가능"
      ],
      "metadata": {
        "id": "aheXl8h7EZpk"
      }
    },
    {
      "cell_type": "code",
      "source": [
        "print(train_input[0][-10:])"
      ],
      "metadata": {
        "colab": {
          "base_uri": "https://localhost:8080/"
        },
        "id": "VStOhZjXEigY",
        "outputId": "f8dd6b28-5bf4-4139-b9a3-e8adf1e3ade4"
      },
      "execution_count": 17,
      "outputs": [
        {
          "output_type": "stream",
          "name": "stdout",
          "text": [
            "[6, 2, 46, 7, 14, 20, 10, 10, 470, 158]\n"
          ]
        }
      ]
    },
    {
      "cell_type": "markdown",
      "source": [
        "* 실제 첫번째 리뷰의 마지막 10개의 토큰을 확인해봄\n",
        "* train_seq 의 마지막 10개의 토큰과 일치 \n",
        "\n",
        "  -> 길이를 맞추기위해 앞쪽을 자름\n",
        "* 일반적으로 시퀀스의 뒷부분이 더 유용한 정보가 많다고 생각하기에 앞쪽을 슬라이싱함\n",
        "* 만약, 뒤쪽을 자르고 싶으면 pad_sequences() 함수의 **truncating='post'**로 설정하면됨"
      ],
      "metadata": {
        "id": "F2yCHCKqEo7M"
      }
    },
    {
      "cell_type": "code",
      "source": [
        "print(train_seq[5])"
      ],
      "metadata": {
        "colab": {
          "base_uri": "https://localhost:8080/"
        },
        "id": "i1sKGxDJF8lY",
        "outputId": "f2dd1157-4c57-4b6f-af95-7da938ea8d50"
      },
      "execution_count": 19,
      "outputs": [
        {
          "output_type": "stream",
          "name": "stdout",
          "text": [
            "[  0   0   0   0   1   2 195  19  49   2   2 190   4   2 352   2 183  10\n",
            "  10  13  82  79   4   2  36  71 269   8   2  25  19  49   7   4   2   2\n",
            "   2   2   2  10  10  48  25  40   2  11   2   2  40   2   2   5   4   2\n",
            "   2  95  14 238  56 129   2  10  10  21   2  94 364 352   2   2  11 190\n",
            "  24 484   2   7  94 205 405  10  10  87   2  34  49   2   7   2   2   2\n",
            "   2   2 290   2  46  48  64  18   4   2]\n"
          ]
        }
      ]
    },
    {
      "cell_type": "markdown",
      "source": [
        "* 앞쪽에 0으로 패딩처리되있는 것을 보아 6번째 리뷰는 단어가 100개가 안됨\n",
        "* 만약 뒤쪽에 패딩을 추가하고싶으면 pad_sequences() 함수의 **padding='post'**로 설정하면 됨"
      ],
      "metadata": {
        "id": "WPqs1bumGEP1"
      }
    },
    {
      "cell_type": "code",
      "source": [
        "val_seq = pad_sequences(val_input,maxlen=100)"
      ],
      "metadata": {
        "id": "SGbrh8m6GZIB"
      },
      "execution_count": 20,
      "outputs": []
    },
    {
      "cell_type": "markdown",
      "source": [
        "* 검증데이터의 길이도 100으로 맞춰줌\n",
        "# 순환신경망 만들기"
      ],
      "metadata": {
        "id": "8eWQFCKoGgSv"
      }
    },
    {
      "cell_type": "code",
      "source": [
        "from tensorflow import keras\n",
        "model = keras.Sequential()\n",
        "model.add(keras.layers.SimpleRNN(8,input_shape=(100,500)))\n",
        "model.add(keras.layers.Dense(1,activation='sigmoid'))"
      ],
      "metadata": {
        "id": "cUem7WeOFjoE"
      },
      "execution_count": 22,
      "outputs": []
    },
    {
      "cell_type": "markdown",
      "source": [
        "* simpleRNN의 활성화함수는 tanh로 기본값 그대로 사용했다.\n",
        "* input_shape=(100,500)인 이유\n",
        "  * 100은 샘플의 길이를 100으로 맞췄기때문이다.\n",
        "  * 500은 imdb.load_data()에서 500개의 단어만 사용하도록 지정했기때문이다.\n",
        "   즉, 어휘사전에는 고유한 500개의 단어만 있음!!\n",
        "    * 이를 원핫인코딩으로 표현하려면 배열의 길이가 500이여야함 \n",
        "    * 500의 길이에 한개만 1 나머지는 0으로 표현"
      ],
      "metadata": {
        "id": "zISL-GquHjht"
      }
    },
    {
      "cell_type": "code",
      "source": [
        "train_oh = keras.utils.to_categorical(train_seq)"
      ],
      "metadata": {
        "id": "zLsH6nkRIXQV"
      },
      "execution_count": 23,
      "outputs": []
    },
    {
      "cell_type": "markdown",
      "source": [
        "* keras.utils.to_categorical을 이용해 원핫인코딩을 자동으로 만들어줌"
      ],
      "metadata": {
        "id": "T7OjyPh0I_RT"
      }
    },
    {
      "cell_type": "code",
      "source": [
        "print(train_oh.shape)"
      ],
      "metadata": {
        "colab": {
          "base_uri": "https://localhost:8080/"
        },
        "id": "pZNIgVDrJHuf",
        "outputId": "c4b1e1fd-96b5-4536-c4cf-8dafdc1c8ff3"
      },
      "execution_count": 24,
      "outputs": [
        {
          "output_type": "stream",
          "name": "stdout",
          "text": [
            "(20000, 100, 500)\n"
          ]
        }
      ]
    },
    {
      "cell_type": "markdown",
      "source": [
        "train_seq ->      train_oh\n",
        "\n",
        "(200000,100) -> (200000,100,500)"
      ],
      "metadata": {
        "id": "16Gao9upJQBv"
      }
    },
    {
      "cell_type": "code",
      "source": [
        "print(train_oh[0][0][:12])"
      ],
      "metadata": {
        "colab": {
          "base_uri": "https://localhost:8080/"
        },
        "id": "yX_ywI-tJmxM",
        "outputId": "87dcef4c-0e9a-4e97-8da6-dd87e3faa99c"
      },
      "execution_count": 25,
      "outputs": [
        {
          "output_type": "stream",
          "name": "stdout",
          "text": [
            "[0. 0. 0. 0. 0. 0. 0. 0. 0. 0. 1. 0.]\n"
          ]
        }
      ]
    },
    {
      "cell_type": "markdown",
      "source": [
        "* 첫번째 리뷰의 첫번째 단어가 원핫인코딩이 잘되었는지 확인"
      ],
      "metadata": {
        "id": "1SEZ9GOcJwiJ"
      }
    },
    {
      "cell_type": "code",
      "source": [
        "print(np.sum(train_oh[0][0]))"
      ],
      "metadata": {
        "colab": {
          "base_uri": "https://localhost:8080/"
        },
        "id": "f-phxJMOKCeK",
        "outputId": "54729f05-c5a8-435e-d9a6-d8b4690de821"
      },
      "execution_count": 26,
      "outputs": [
        {
          "output_type": "stream",
          "name": "stdout",
          "text": [
            "1.0\n"
          ]
        }
      ]
    },
    {
      "cell_type": "markdown",
      "source": [
        "* 원핫인코딩을 하면 1 한개에 나머지는 전부다 0이기때문에 sum을 하면 1이 나와야함"
      ],
      "metadata": {
        "id": "a30v028AKHol"
      }
    },
    {
      "cell_type": "code",
      "source": [
        "val_oh = keras.utils.to_categorical(val_seq)"
      ],
      "metadata": {
        "id": "4OI2EfATKZPs"
      },
      "execution_count": 27,
      "outputs": []
    },
    {
      "cell_type": "code",
      "source": [
        "model.summary()"
      ],
      "metadata": {
        "colab": {
          "base_uri": "https://localhost:8080/"
        },
        "id": "BvxyHWxKKf0t",
        "outputId": "d2e1dcfc-a974-4da5-da92-e55a34617c9c"
      },
      "execution_count": 28,
      "outputs": [
        {
          "output_type": "stream",
          "name": "stdout",
          "text": [
            "Model: \"sequential_1\"\n",
            "_________________________________________________________________\n",
            " Layer (type)                Output Shape              Param #   \n",
            "=================================================================\n",
            " simple_rnn_1 (SimpleRNN)    (None, 8)                 4072      \n",
            "                                                                 \n",
            " dense (Dense)               (None, 1)                 9         \n",
            "                                                                 \n",
            "=================================================================\n",
            "Total params: 4,081\n",
            "Trainable params: 4,081\n",
            "Non-trainable params: 0\n",
            "_________________________________________________________________\n"
          ]
        }
      ]
    },
    {
      "cell_type": "markdown",
      "source": [
        "# 순환신경망 훈련하기"
      ],
      "metadata": {
        "id": "568dhFiGLruQ"
      }
    },
    {
      "cell_type": "code",
      "source": [
        "rmsprop = keras.optimizers.RMSprop(learning_rate=1e-4)\n",
        "model.compile(optimizer=rmsprop,loss='binary_crossentropy',metrics=['accuracy'])\n",
        "checkpoint_cb = keras.callbacks.ModelCheckpoint('best-simplernn-model.h5',save_best_only=True)\n",
        "early_stopping_cb = keras.callbacks.EarlyStopping(patience=3,restore_best_weights=True)\n",
        "\n",
        "history = model.fit(train_oh,train_target,epochs=100,batch_size=64,validation_data=(val_oh,val_target),callbacks=[checkpoint_cb,early_stopping_cb])"
      ],
      "metadata": {
        "colab": {
          "base_uri": "https://localhost:8080/"
        },
        "id": "1BtJ2Rn8KiC-",
        "outputId": "135497e5-390a-44e1-b17d-c8ce02196f5e"
      },
      "execution_count": 29,
      "outputs": [
        {
          "output_type": "stream",
          "name": "stdout",
          "text": [
            "Epoch 1/100\n",
            "313/313 [==============================] - 15s 44ms/step - loss: 0.7028 - accuracy: 0.4964 - val_loss: 0.7005 - val_accuracy: 0.4924\n",
            "Epoch 2/100\n",
            "313/313 [==============================] - 21s 68ms/step - loss: 0.6976 - accuracy: 0.5058 - val_loss: 0.6970 - val_accuracy: 0.5024\n",
            "Epoch 3/100\n",
            "313/313 [==============================] - 22s 70ms/step - loss: 0.6936 - accuracy: 0.5176 - val_loss: 0.6938 - val_accuracy: 0.5106\n",
            "Epoch 4/100\n",
            "313/313 [==============================] - 20s 65ms/step - loss: 0.6896 - accuracy: 0.5340 - val_loss: 0.6898 - val_accuracy: 0.5344\n",
            "Epoch 5/100\n",
            "313/313 [==============================] - 19s 62ms/step - loss: 0.6772 - accuracy: 0.5817 - val_loss: 0.6691 - val_accuracy: 0.6056\n",
            "Epoch 6/100\n",
            "313/313 [==============================] - 15s 49ms/step - loss: 0.6563 - accuracy: 0.6387 - val_loss: 0.6533 - val_accuracy: 0.6346\n",
            "Epoch 7/100\n",
            "313/313 [==============================] - 14s 44ms/step - loss: 0.6375 - accuracy: 0.6671 - val_loss: 0.6326 - val_accuracy: 0.6720\n",
            "Epoch 8/100\n",
            "313/313 [==============================] - 22s 71ms/step - loss: 0.6178 - accuracy: 0.6936 - val_loss: 0.6197 - val_accuracy: 0.6828\n",
            "Epoch 9/100\n",
            "313/313 [==============================] - 20s 62ms/step - loss: 0.6013 - accuracy: 0.7089 - val_loss: 0.6053 - val_accuracy: 0.6976\n",
            "Epoch 10/100\n",
            "313/313 [==============================] - 12s 40ms/step - loss: 0.5867 - accuracy: 0.7207 - val_loss: 0.5928 - val_accuracy: 0.7054\n",
            "Epoch 11/100\n",
            "313/313 [==============================] - 13s 40ms/step - loss: 0.5737 - accuracy: 0.7310 - val_loss: 0.5815 - val_accuracy: 0.7140\n",
            "Epoch 12/100\n",
            "313/313 [==============================] - 13s 40ms/step - loss: 0.5618 - accuracy: 0.7380 - val_loss: 0.5798 - val_accuracy: 0.7142\n",
            "Epoch 13/100\n",
            "313/313 [==============================] - 13s 40ms/step - loss: 0.5514 - accuracy: 0.7430 - val_loss: 0.5651 - val_accuracy: 0.7236\n",
            "Epoch 14/100\n",
            "313/313 [==============================] - 13s 43ms/step - loss: 0.5418 - accuracy: 0.7495 - val_loss: 0.5542 - val_accuracy: 0.7304\n",
            "Epoch 15/100\n",
            "313/313 [==============================] - 13s 40ms/step - loss: 0.5355 - accuracy: 0.7508 - val_loss: 0.5539 - val_accuracy: 0.7252\n",
            "Epoch 16/100\n",
            "313/313 [==============================] - 13s 42ms/step - loss: 0.5267 - accuracy: 0.7572 - val_loss: 0.5430 - val_accuracy: 0.7368\n",
            "Epoch 17/100\n",
            "313/313 [==============================] - 12s 40ms/step - loss: 0.5170 - accuracy: 0.7635 - val_loss: 0.5461 - val_accuracy: 0.7354\n",
            "Epoch 18/100\n",
            "313/313 [==============================] - 13s 40ms/step - loss: 0.5112 - accuracy: 0.7677 - val_loss: 0.5287 - val_accuracy: 0.7470\n",
            "Epoch 19/100\n",
            "313/313 [==============================] - 13s 40ms/step - loss: 0.5051 - accuracy: 0.7705 - val_loss: 0.5315 - val_accuracy: 0.7442\n",
            "Epoch 20/100\n",
            "313/313 [==============================] - 13s 40ms/step - loss: 0.5003 - accuracy: 0.7738 - val_loss: 0.5227 - val_accuracy: 0.7488\n",
            "Epoch 21/100\n",
            "313/313 [==============================] - 13s 40ms/step - loss: 0.4947 - accuracy: 0.7769 - val_loss: 0.5207 - val_accuracy: 0.7526\n",
            "Epoch 22/100\n",
            "313/313 [==============================] - 12s 40ms/step - loss: 0.4913 - accuracy: 0.7787 - val_loss: 0.5159 - val_accuracy: 0.7528\n",
            "Epoch 23/100\n",
            "313/313 [==============================] - 12s 40ms/step - loss: 0.4855 - accuracy: 0.7821 - val_loss: 0.5161 - val_accuracy: 0.7516\n",
            "Epoch 24/100\n",
            "313/313 [==============================] - 13s 40ms/step - loss: 0.4823 - accuracy: 0.7842 - val_loss: 0.5136 - val_accuracy: 0.7556\n",
            "Epoch 25/100\n",
            "313/313 [==============================] - 13s 40ms/step - loss: 0.4786 - accuracy: 0.7858 - val_loss: 0.5079 - val_accuracy: 0.7572\n",
            "Epoch 26/100\n",
            "313/313 [==============================] - 13s 40ms/step - loss: 0.4762 - accuracy: 0.7868 - val_loss: 0.5066 - val_accuracy: 0.7576\n",
            "Epoch 27/100\n",
            "313/313 [==============================] - 13s 40ms/step - loss: 0.4716 - accuracy: 0.7909 - val_loss: 0.5061 - val_accuracy: 0.7642\n",
            "Epoch 28/100\n",
            "313/313 [==============================] - 13s 40ms/step - loss: 0.4684 - accuracy: 0.7909 - val_loss: 0.5010 - val_accuracy: 0.7668\n",
            "Epoch 29/100\n",
            "313/313 [==============================] - 13s 40ms/step - loss: 0.4654 - accuracy: 0.7940 - val_loss: 0.4978 - val_accuracy: 0.7684\n",
            "Epoch 30/100\n",
            "313/313 [==============================] - 12s 40ms/step - loss: 0.4631 - accuracy: 0.7951 - val_loss: 0.4965 - val_accuracy: 0.7674\n",
            "Epoch 31/100\n",
            "313/313 [==============================] - 14s 45ms/step - loss: 0.4599 - accuracy: 0.7970 - val_loss: 0.4924 - val_accuracy: 0.7688\n",
            "Epoch 32/100\n",
            "313/313 [==============================] - 13s 41ms/step - loss: 0.4571 - accuracy: 0.7987 - val_loss: 0.4899 - val_accuracy: 0.7724\n",
            "Epoch 33/100\n",
            "313/313 [==============================] - 13s 40ms/step - loss: 0.4551 - accuracy: 0.7997 - val_loss: 0.4926 - val_accuracy: 0.7698\n",
            "Epoch 34/100\n",
            "313/313 [==============================] - 13s 40ms/step - loss: 0.4523 - accuracy: 0.8009 - val_loss: 0.4857 - val_accuracy: 0.7732\n",
            "Epoch 35/100\n",
            "313/313 [==============================] - 13s 40ms/step - loss: 0.4495 - accuracy: 0.8026 - val_loss: 0.4850 - val_accuracy: 0.7726\n",
            "Epoch 36/100\n",
            "313/313 [==============================] - 13s 40ms/step - loss: 0.4479 - accuracy: 0.8035 - val_loss: 0.4804 - val_accuracy: 0.7768\n",
            "Epoch 37/100\n",
            "313/313 [==============================] - 13s 40ms/step - loss: 0.4455 - accuracy: 0.8044 - val_loss: 0.4836 - val_accuracy: 0.7770\n",
            "Epoch 38/100\n",
            "313/313 [==============================] - 13s 40ms/step - loss: 0.4429 - accuracy: 0.8052 - val_loss: 0.4766 - val_accuracy: 0.7792\n",
            "Epoch 39/100\n",
            "313/313 [==============================] - 13s 40ms/step - loss: 0.4401 - accuracy: 0.8084 - val_loss: 0.4780 - val_accuracy: 0.7792\n",
            "Epoch 40/100\n",
            "313/313 [==============================] - 13s 40ms/step - loss: 0.4378 - accuracy: 0.8091 - val_loss: 0.4766 - val_accuracy: 0.7786\n",
            "Epoch 41/100\n",
            "313/313 [==============================] - 13s 40ms/step - loss: 0.4363 - accuracy: 0.8104 - val_loss: 0.4693 - val_accuracy: 0.7846\n",
            "Epoch 42/100\n",
            "313/313 [==============================] - 13s 40ms/step - loss: 0.4346 - accuracy: 0.8110 - val_loss: 0.4674 - val_accuracy: 0.7854\n",
            "Epoch 43/100\n",
            "313/313 [==============================] - 13s 40ms/step - loss: 0.4327 - accuracy: 0.8120 - val_loss: 0.4754 - val_accuracy: 0.7756\n",
            "Epoch 44/100\n",
            "313/313 [==============================] - 13s 40ms/step - loss: 0.4306 - accuracy: 0.8120 - val_loss: 0.4660 - val_accuracy: 0.7870\n",
            "Epoch 45/100\n",
            "313/313 [==============================] - 13s 40ms/step - loss: 0.4296 - accuracy: 0.8117 - val_loss: 0.4632 - val_accuracy: 0.7886\n",
            "Epoch 46/100\n",
            "313/313 [==============================] - 13s 40ms/step - loss: 0.4275 - accuracy: 0.8149 - val_loss: 0.4657 - val_accuracy: 0.7848\n",
            "Epoch 47/100\n",
            "313/313 [==============================] - 13s 40ms/step - loss: 0.4269 - accuracy: 0.8146 - val_loss: 0.4641 - val_accuracy: 0.7864\n",
            "Epoch 48/100\n",
            "313/313 [==============================] - 13s 40ms/step - loss: 0.4255 - accuracy: 0.8152 - val_loss: 0.4628 - val_accuracy: 0.7876\n",
            "Epoch 49/100\n",
            "313/313 [==============================] - 13s 40ms/step - loss: 0.4242 - accuracy: 0.8161 - val_loss: 0.4607 - val_accuracy: 0.7902\n",
            "Epoch 50/100\n",
            "313/313 [==============================] - 13s 40ms/step - loss: 0.4228 - accuracy: 0.8166 - val_loss: 0.4594 - val_accuracy: 0.7906\n",
            "Epoch 51/100\n",
            "313/313 [==============================] - 13s 40ms/step - loss: 0.4211 - accuracy: 0.8181 - val_loss: 0.4611 - val_accuracy: 0.7902\n",
            "Epoch 52/100\n",
            "313/313 [==============================] - 13s 40ms/step - loss: 0.4204 - accuracy: 0.8178 - val_loss: 0.4579 - val_accuracy: 0.7886\n",
            "Epoch 53/100\n",
            "313/313 [==============================] - 13s 40ms/step - loss: 0.4195 - accuracy: 0.8178 - val_loss: 0.4611 - val_accuracy: 0.7864\n",
            "Epoch 54/100\n",
            "313/313 [==============================] - 13s 40ms/step - loss: 0.4189 - accuracy: 0.8190 - val_loss: 0.4562 - val_accuracy: 0.7918\n",
            "Epoch 55/100\n",
            "313/313 [==============================] - 13s 41ms/step - loss: 0.4174 - accuracy: 0.8181 - val_loss: 0.4552 - val_accuracy: 0.7926\n",
            "Epoch 56/100\n",
            "313/313 [==============================] - 13s 40ms/step - loss: 0.4168 - accuracy: 0.8196 - val_loss: 0.4553 - val_accuracy: 0.7926\n",
            "Epoch 57/100\n",
            "313/313 [==============================] - 13s 40ms/step - loss: 0.4156 - accuracy: 0.8206 - val_loss: 0.4597 - val_accuracy: 0.7886\n",
            "Epoch 58/100\n",
            "313/313 [==============================] - 13s 41ms/step - loss: 0.4144 - accuracy: 0.8205 - val_loss: 0.4617 - val_accuracy: 0.7856\n"
          ]
        }
      ]
    },
    {
      "cell_type": "code",
      "source": [
        "plt.plot(history.history['loss'])\n",
        "plt.plot(history.history['val_loss'])\n",
        "plt.xlabel('epochs')\n",
        "plt.ylabel('loss')\n",
        "plt.legend(['train','val'])\n",
        "plt.show()"
      ],
      "metadata": {
        "colab": {
          "base_uri": "https://localhost:8080/",
          "height": 279
        },
        "id": "wFlUIr6yM4To",
        "outputId": "5dff0f02-b680-49f1-9952-91fba3a9f0ab"
      },
      "execution_count": 30,
      "outputs": [
        {
          "output_type": "display_data",
          "data": {
            "image/png": "[encoded data removed]",
            "text/plain": [
              "<Figure size 432x288 with 1 Axes>"
            ]
          },
          "metadata": {
            "needs_background": "light"
          }
        }
      ]
    },
    {
      "cell_type": "code",
      "source": [
        "print(train_seq.nbytes,train_oh.nbytes)"
      ],
      "metadata": {
        "colab": {
          "base_uri": "https://localhost:8080/"
        },
        "id": "SCeDZQUONTjw",
        "outputId": "7a00cb8c-7fef-4cdc-ce57-c5fa21e69d98"
      },
      "execution_count": 31,
      "outputs": [
        {
          "output_type": "stream",
          "name": "stdout",
          "text": [
            "8000000 4000000000\n"
          ]
        }
      ]
    },
    {
      "cell_type": "markdown",
      "source": [
        "* 토큰 한개를 500차원으로 늘렸기때문에 대략 500배 커짐!!ㅠㅠ\n",
        "* 원핫인코딩 대신 더 좋은 단어 표현 방법 **단어 임베딩**사용가능\n",
        "# 단어 임베딩 사용하기"
      ],
      "metadata": {
        "id": "M6Vi0TYCNcOE"
      }
    },
    {
      "cell_type": "code",
      "source": [
        "model2 = keras.Sequential()\n",
        "model2.add(keras.layers.Embedding(500,16,input_length=100))\n",
        "model2.add(keras.layers.SimpleRNN(8))\n",
        "model2.add(keras.layers.Dense(1,activation='sigmoid'))"
      ],
      "metadata": {
        "id": "s8TVe2EKNtgq"
      },
      "execution_count": 34,
      "outputs": []
    },
    {
      "cell_type": "markdown",
      "source": [
        "Embedding\n",
        "* 첫번째 매개변수 500은 어휘사전의 크기이다.\n",
        "* 두번째 매개변수 16은 임베딩 벡터의 크기이다.\n",
        "* 세번째 매개변수 input_length은 입력 시퀀스의 길이이다.\n",
        " "
      ],
      "metadata": {
        "id": "bIMmf_btXjEn"
      }
    },
    {
      "cell_type": "code",
      "source": [
        "model2.summary()"
      ],
      "metadata": {
        "colab": {
          "base_uri": "https://localhost:8080/"
        },
        "id": "okxL17-EYPJK",
        "outputId": "153a81d7-d216-4a1e-f83d-34a0a767e48d"
      },
      "execution_count": 35,
      "outputs": [
        {
          "output_type": "stream",
          "name": "stdout",
          "text": [
            "Model: \"sequential_4\"\n",
            "_________________________________________________________________\n",
            " Layer (type)                Output Shape              Param #   \n",
            "=================================================================\n",
            " embedding_1 (Embedding)     (None, 100, 16)           8000      \n",
            "                                                                 \n",
            " simple_rnn_2 (SimpleRNN)    (None, 8)                 200       \n",
            "                                                                 \n",
            " dense_1 (Dense)             (None, 1)                 9         \n",
            "                                                                 \n",
            "=================================================================\n",
            "Total params: 8,209\n",
            "Trainable params: 8,209\n",
            "Non-trainable params: 0\n",
            "_________________________________________________________________\n"
          ]
        }
      ]
    },
    {
      "cell_type": "code",
      "source": [
        "rmsprop = keras.optimizers.RMSprop(learning_rate=1e-4)\n",
        "model2.compile(optimizer=rmsprop,loss='binary_crossentropy',metrics=['accuracy'])\n",
        "checkpoint_cb = keras.callbacks.ModelCheckpoint('best-embedding-model.h5',save_best_only=True)\n",
        "early_stopping_cb = keras.callbacks.EarlyStopping(patience=3,restore_best_weights=True)\n",
        "\n",
        "history = model2.fit(train_seq,train_target,epochs=100,validation_data=(val_seq,val_target),callbacks=[checkpoint_cb,early_stopping_cb])"
      ],
      "metadata": {
        "colab": {
          "base_uri": "https://localhost:8080/"
        },
        "id": "rzI8ilYdYlzo",
        "outputId": "33bc72b5-28be-49e6-cdda-d3b7187f4e51"
      },
      "execution_count": 36,
      "outputs": [
        {
          "output_type": "stream",
          "name": "stdout",
          "text": [
            "Epoch 1/100\n",
            "625/625 [==============================] - 15s 20ms/step - loss: 0.6930 - accuracy: 0.5152 - val_loss: 0.6918 - val_accuracy: 0.5222\n",
            "Epoch 2/100\n",
            "625/625 [==============================] - 21s 33ms/step - loss: 0.6897 - accuracy: 0.5396 - val_loss: 0.6906 - val_accuracy: 0.5248\n",
            "Epoch 3/100\n",
            "625/625 [==============================] - 21s 34ms/step - loss: 0.6863 - accuracy: 0.5541 - val_loss: 0.6897 - val_accuracy: 0.5264\n",
            "Epoch 4/100\n",
            "625/625 [==============================] - 16s 26ms/step - loss: 0.6825 - accuracy: 0.5638 - val_loss: 0.6892 - val_accuracy: 0.5314\n",
            "Epoch 5/100\n",
            "625/625 [==============================] - 20s 32ms/step - loss: 0.6781 - accuracy: 0.5779 - val_loss: 0.6887 - val_accuracy: 0.5330\n",
            "Epoch 6/100\n",
            "625/625 [==============================] - 15s 25ms/step - loss: 0.6690 - accuracy: 0.6094 - val_loss: 0.6722 - val_accuracy: 0.5976\n",
            "Epoch 7/100\n",
            "625/625 [==============================] - 12s 19ms/step - loss: 0.6438 - accuracy: 0.6799 - val_loss: 0.6421 - val_accuracy: 0.6744\n",
            "Epoch 8/100\n",
            "625/625 [==============================] - 14s 22ms/step - loss: 0.6084 - accuracy: 0.7229 - val_loss: 0.6100 - val_accuracy: 0.7122\n",
            "Epoch 9/100\n",
            "625/625 [==============================] - 12s 19ms/step - loss: 0.5732 - accuracy: 0.7532 - val_loss: 0.5801 - val_accuracy: 0.7408\n",
            "Epoch 10/100\n",
            "625/625 [==============================] - 12s 19ms/step - loss: 0.5420 - accuracy: 0.7686 - val_loss: 0.5549 - val_accuracy: 0.7436\n",
            "Epoch 11/100\n",
            "625/625 [==============================] - 12s 19ms/step - loss: 0.5147 - accuracy: 0.7822 - val_loss: 0.5320 - val_accuracy: 0.7624\n",
            "Epoch 12/100\n",
            "625/625 [==============================] - 12s 19ms/step - loss: 0.4916 - accuracy: 0.7921 - val_loss: 0.5139 - val_accuracy: 0.7660\n",
            "Epoch 13/100\n",
            "625/625 [==============================] - 12s 19ms/step - loss: 0.4729 - accuracy: 0.7994 - val_loss: 0.5004 - val_accuracy: 0.7740\n",
            "Epoch 14/100\n",
            "625/625 [==============================] - 13s 20ms/step - loss: 0.4564 - accuracy: 0.8054 - val_loss: 0.4876 - val_accuracy: 0.7758\n",
            "Epoch 15/100\n",
            "625/625 [==============================] - 12s 19ms/step - loss: 0.4441 - accuracy: 0.8084 - val_loss: 0.4805 - val_accuracy: 0.7780\n",
            "Epoch 16/100\n",
            "625/625 [==============================] - 12s 20ms/step - loss: 0.4330 - accuracy: 0.8156 - val_loss: 0.4751 - val_accuracy: 0.7778\n",
            "Epoch 17/100\n",
            "625/625 [==============================] - 12s 19ms/step - loss: 0.4242 - accuracy: 0.8187 - val_loss: 0.4755 - val_accuracy: 0.7784\n",
            "Epoch 18/100\n",
            "625/625 [==============================] - 12s 19ms/step - loss: 0.4162 - accuracy: 0.8210 - val_loss: 0.4714 - val_accuracy: 0.7802\n",
            "Epoch 19/100\n",
            "625/625 [==============================] - 12s 19ms/step - loss: 0.4108 - accuracy: 0.8217 - val_loss: 0.4655 - val_accuracy: 0.7802\n",
            "Epoch 20/100\n",
            "625/625 [==============================] - 12s 19ms/step - loss: 0.4054 - accuracy: 0.8249 - val_loss: 0.4645 - val_accuracy: 0.7836\n",
            "Epoch 21/100\n",
            "625/625 [==============================] - 12s 19ms/step - loss: 0.4006 - accuracy: 0.8264 - val_loss: 0.4656 - val_accuracy: 0.7840\n",
            "Epoch 22/100\n",
            "625/625 [==============================] - 12s 19ms/step - loss: 0.3963 - accuracy: 0.8304 - val_loss: 0.4678 - val_accuracy: 0.7830\n",
            "Epoch 23/100\n",
            "625/625 [==============================] - 12s 19ms/step - loss: 0.3932 - accuracy: 0.8302 - val_loss: 0.4626 - val_accuracy: 0.7852\n",
            "Epoch 24/100\n",
            "625/625 [==============================] - 12s 19ms/step - loss: 0.3904 - accuracy: 0.8324 - val_loss: 0.4612 - val_accuracy: 0.7832\n",
            "Epoch 25/100\n",
            "625/625 [==============================] - 12s 19ms/step - loss: 0.3870 - accuracy: 0.8348 - val_loss: 0.4658 - val_accuracy: 0.7826\n",
            "Epoch 26/100\n",
            "625/625 [==============================] - 12s 19ms/step - loss: 0.3838 - accuracy: 0.8365 - val_loss: 0.4633 - val_accuracy: 0.7828\n",
            "Epoch 27/100\n",
            "625/625 [==============================] - 12s 19ms/step - loss: 0.3817 - accuracy: 0.8362 - val_loss: 0.4707 - val_accuracy: 0.7820\n"
          ]
        }
      ]
    },
    {
      "cell_type": "code",
      "source": [
        "plt.plot(history.history['loss'])\n",
        "plt.plot(history.history['val_loss'])\n",
        "plt.xlabel('epochs')\n",
        "plt.ylabel('label')\n",
        "plt.legend(['train','val'])\n",
        "plt.show()"
      ],
      "metadata": {
        "colab": {
          "base_uri": "https://localhost:8080/",
          "height": 279
        },
        "id": "C-IMQRpXZg15",
        "outputId": "4c7d05df-742c-43b2-9893-45d4b4cd7315"
      },
      "execution_count": 37,
      "outputs": [
        {
          "output_type": "display_data",
          "data": {
            "image/png": "[encoded data removed]",
            "text/plain": [
              "<Figure size 432x288 with 1 Axes>"
            ]
          },
          "metadata": {
            "needs_background": "light"
          }
        }
      ]
    }
  ]
}