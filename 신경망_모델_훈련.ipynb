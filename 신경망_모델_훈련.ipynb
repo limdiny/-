{
  "nbformat": 4,
  "nbformat_minor": 0,
  "metadata": {
    "colab": {
      "name": "신경망 모델 훈련",
      "provenance": [],
      "collapsed_sections": [],
      "authorship_tag": "ABX9TyOYk9clfc2dbYwJ6HJja/sz",
      "include_colab_link": true
    },
    "kernelspec": {
      "name": "python3",
      "display_name": "Python 3"
    },
    "language_info": {
      "name": "python"
    }
  },
  "cells": [
    {
      "cell_type": "markdown",
      "metadata": {
        "id": "view-in-github",
        "colab_type": "text"
      },
      "source": [
        "<a href=\"https://colab.research.google.com/github/limdiny/ML/blob/main/%EC%8B%A0%EA%B2%BD%EB%A7%9D_%EB%AA%A8%EB%8D%B8_%ED%9B%88%EB%A0%A8.ipynb\" target=\"_parent\"><img src=\"https://colab.research.google.com/assets/colab-badge.svg\" alt=\"Open In Colab\"/></a>"
      ]
    },
    {
      "cell_type": "markdown",
      "source": [
        "# 신경망 모델 훈련\n",
        "* 드롭아웃\n",
        "\n",
        "은닉층에 있는 뉴런의 출력을 랜덤하게 꺼서 과대적합을 막는 기법이다. 드롭아웃은 훈련중에 적용되며 평가나 예측에서는 적용하지 않는다. 텐서플로에서는 자동으로 처리해준다.\n",
        "\n",
        "* 콜백\n",
        "\n",
        "케라스 모델을 훈련하는 도중 어떤 작업을 수행할 수 있도록 도와주는 도구이다. 대표적으로 최상의 모델을 자동으로 저장해주거나 검증 점수가 더 이상 향상되지않으면 일찍 종료할 수 있다.\n",
        "\n",
        "* 조기 종료\n",
        "\n",
        "검증점수가 더 이상 감소하지않고 상승하여 과대적합이 일어나면 훈련을 계속 진행하지않고 멈추는 기법이다. 이를 통해 계산 비용과 시간을 절약할 수 있다.\n",
        "## 손실 곡선"
      ],
      "metadata": {
        "id": "lFYGaev2-qfi"
      }
    },
    {
      "cell_type": "code",
      "execution_count": null,
      "metadata": {
        "id": "cx0UooWq-fPC"
      },
      "outputs": [],
      "source": [
        "from tensorflow import keras\n",
        "from sklearn.model_selection import train_test_split\n",
        "\n",
        "(train_input,train_target),(test_input,test_target) = keras.datasets.fashion_mnist.load_data()\n",
        "\n",
        "train_scaled = train_input/255.0\n",
        "train_scaled,val_scaled,train_target,val_target = train_test_split(train_scaled,train_target,test_size=0.2,random_state=42)"
      ]
    },
    {
      "cell_type": "code",
      "source": [
        "def model_fn(a_layer=None):\n",
        "  model=keras.Sequential()\n",
        "  model.add(keras.layers.Flatten(input_shape=(28,28)))\n",
        "  model.add(keras.layers.Dense(100,activation='relu'))\n",
        "  if a_layer:\n",
        "    model.add(a_layer)\n",
        "  model.add(keras.layers.Dense(10,activation='softmax'))\n",
        "  return model"
      ],
      "metadata": {
        "id": "DTiNE6FlBjzj"
      },
      "execution_count": null,
      "outputs": []
    },
    {
      "cell_type": "markdown",
      "source": [
        "* 기본 구조 : Flatten+Dense+Dense\n",
        "* 만약 또다른 layer가 있다면 추가하는 방식"
      ],
      "metadata": {
        "id": "I-jqCW_bFCOF"
      }
    },
    {
      "cell_type": "code",
      "source": [
        "model=model_fn()\n",
        "model.summary()"
      ],
      "metadata": {
        "colab": {
          "base_uri": "https://localhost:8080/"
        },
        "id": "81FZ5_E1FPf9",
        "outputId": "f86d3e41-2664-4dd6-c3a4-94a642953a45"
      },
      "execution_count": null,
      "outputs": [
        {
          "output_type": "stream",
          "name": "stdout",
          "text": [
            "Model: \"sequential\"\n",
            "_________________________________________________________________\n",
            " Layer (type)                Output Shape              Param #   \n",
            "=================================================================\n",
            " flatten (Flatten)           (None, 784)               0         \n",
            "                                                                 \n",
            " dense (Dense)               (None, 100)               78500     \n",
            "                                                                 \n",
            " dense_1 (Dense)             (None, 10)                1010      \n",
            "                                                                 \n",
            "=================================================================\n",
            "Total params: 79,510\n",
            "Trainable params: 79,510\n",
            "Non-trainable params: 0\n",
            "_________________________________________________________________\n"
          ]
        }
      ]
    },
    {
      "cell_type": "code",
      "source": [
        "model.compile(loss='sparse_categorical_crossentropy',metrics='accuracy')\n",
        "history=model.fit(train_scaled,train_target,epochs=5,verbose=0)"
      ],
      "metadata": {
        "id": "JuPDY3F8FYol"
      },
      "execution_count": null,
      "outputs": []
    },
    {
      "cell_type": "markdown",
      "source": [
        "* 훈련결과를 history 변수에 담음\n",
        "* history 객체에는 훈련 측정값이 담겨져있는 history 딕셔너리가 들어있음"
      ],
      "metadata": {
        "id": "Pb0__kF8F0Fm"
      }
    },
    {
      "cell_type": "code",
      "source": [
        "print(history.history.keys())\n",
        "\n",
        "import matplotlib.pyplot as plt\n",
        "\n",
        "plt.figure(figsize=(10,5))\n",
        "\n",
        "plt.subplot(1,2,1)\n",
        "plt.plot(history.history['loss'])\n",
        "plt.xlabel('epochs')\n",
        "plt.ylabel('loss')\n",
        "\n",
        "plt.subplot(1,2,2)\n",
        "plt.plot(history.history['accuracy'])\n",
        "plt.xlabel('epochs')\n",
        "plt.ylabel('accuracy')\n",
        "plt.show()"
      ],
      "metadata": {
        "id": "uGKE95xGF7i6",
        "colab": {
          "base_uri": "https://localhost:8080/",
          "height": 352
        },
        "outputId": "31bcfeea-6b34-43d0-edd5-bb2df2ec20bc"
      },
      "execution_count": null,
      "outputs": [
        {
          "output_type": "stream",
          "name": "stdout",
          "text": [
            "dict_keys(['loss', 'accuracy'])\n"
          ]
        },
        {
          "output_type": "display_data",
          "data": {
            "image/png": "[encoded data removed]",
            "text/plain": [
              "<Figure size 720x360 with 2 Axes>"
            ]
          },
          "metadata": {
            "needs_background": "light"
          }
        }
      ]
    },
    {
      "cell_type": "code",
      "source": [
        "model=model_fn()\n",
        "model.compile(loss='sparse_categorical_crossentropy',metrics='accuracy')\n",
        "history=model.fit(train_scaled,train_target,epochs=20,verbose=0)\n",
        "\n",
        "plt.plot(history.history['loss'])\n",
        "plt.xlabel('epochs')\n",
        "plt.ylabel('loss')\n",
        "plt.show()"
      ],
      "metadata": {
        "colab": {
          "base_uri": "https://localhost:8080/",
          "height": 281
        },
        "id": "Ii-VpxZaqJNV",
        "outputId": "5bca61eb-b06e-47f3-de1d-c1814be1b47b"
      },
      "execution_count": null,
      "outputs": [
        {
          "output_type": "display_data",
          "data": {
            "image/png": "[encoded data removed]",
            "text/plain": [
              "<Figure size 432x288 with 1 Axes>"
            ]
          },
          "metadata": {
            "needs_background": "light"
          }
        }
      ]
    },
    {
      "cell_type": "markdown",
      "source": [
        "* epochs 5-->20 늘림\n",
        "* 손실이 잘 감소하지만 과연 훈련이 잘된걸까??\n",
        "* 에포크에 따른 과대/과소 적합을 확인하려면 훈련세트뿐만아니라 검증세트에 대한 점수도 필요함\n",
        "# 검증 손실"
      ],
      "metadata": {
        "id": "hR4ZK43oqqjC"
      }
    },
    {
      "cell_type": "code",
      "source": [
        "model=model_fn()\n",
        "model.compile(loss='sparse_categorical_crossentropy',metrics='accuracy')\n",
        "history=model.fit(train_scaled,train_target,epochs=20,verbose=0,\n",
        "                  validation_data=(val_scaled,val_target))"
      ],
      "metadata": {
        "id": "gztdM4jErXAh"
      },
      "execution_count": null,
      "outputs": []
    },
    {
      "cell_type": "markdown",
      "source": [
        "* 에포크마다 검증 손실을 계산하기위해 fit() 메서드에 검증 데이터를 전달할 수 있다.\n"
      ],
      "metadata": {
        "id": "mEhJ0T6Is_2A"
      }
    },
    {
      "cell_type": "code",
      "source": [
        "print(history.history.keys())\n",
        "\n",
        "plt.plot(history.history['loss'])\n",
        "plt.plot(history.history['val_loss'])\n",
        "plt.xlabel('epochs')\n",
        "plt.ylabel('loss')\n",
        "plt.legend(['train','val'])\n",
        "plt.show()"
      ],
      "metadata": {
        "colab": {
          "base_uri": "https://localhost:8080/",
          "height": 297
        },
        "id": "cwMTRzJHtJxs",
        "outputId": "2f5cef37-09ab-49d2-ef7a-6ba8e6458cd8"
      },
      "execution_count": null,
      "outputs": [
        {
          "output_type": "stream",
          "name": "stdout",
          "text": [
            "dict_keys(['loss', 'accuracy', 'val_loss', 'val_accuracy'])\n"
          ]
        },
        {
          "output_type": "display_data",
          "data": {
            "image/png": "[encoded data removed]",
            "text/plain": [
              "<Figure size 432x288 with 1 Axes>"
            ]
          },
          "metadata": {
            "needs_background": "light"
          }
        }
      ]
    },
    {
      "cell_type": "markdown",
      "source": [
        "* 훈련 손실은 꾸준히 감소하기때문에 전형적인 **과대적합** 모델 이다.\n",
        "* 검증 손실이 상승하는 시점을 최대한 늦추면 good!"
      ],
      "metadata": {
        "id": "UrHVAg90t40B"
      }
    },
    {
      "cell_type": "code",
      "source": [
        "model=model_fn()\n",
        "model.compile(optimizer='adam',loss='sparse_categorical_crossentropy',metrics='accuracy')\n",
        "history=model.fit(train_scaled,train_target,epochs=20,verbose=0,\n",
        "                  validation_data=(val_scaled,val_target))\n",
        "\n",
        "plt.plot(history.history['loss'])\n",
        "plt.plot(history.history['val_loss'])\n",
        "plt.xlabel('epochs')\n",
        "plt.ylabel('loss')\n",
        "plt.legend(['train','val'])\n",
        "plt.show()"
      ],
      "metadata": {
        "colab": {
          "base_uri": "https://localhost:8080/",
          "height": 279
        },
        "id": "bTnpHWtUv-j5",
        "outputId": "4741b746-8ea0-44fc-e65a-7b65a5b7e101"
      },
      "execution_count": null,
      "outputs": [
        {
          "output_type": "display_data",
          "data": {
            "image/png": "[encoded data removed]",
            "text/plain": [
              "<Figure size 432x288 with 1 Axes>"
            ]
          },
          "metadata": {
            "needs_background": "light"
          }
        }
      ]
    },
    {
      "cell_type": "markdown",
      "source": [
        "* 과대적합을 줄이기위해 optimizer 설정 (RMSprop --> Adam)\n",
        "* Adam은 적응적 학습률을 사용\n",
        "# 드롭아웃\n",
        "\n",
        "훈련과정에서 층에 있는 일부 뉴런을 랜덤하게 꺼서 과대적합을 막는다."
      ],
      "metadata": {
        "id": "3ZUcnUQswVzu"
      }
    },
    {
      "cell_type": "code",
      "source": [
        "model=model_fn(keras.layers.Dropout(0.3))\n",
        "model.summary()"
      ],
      "metadata": {
        "colab": {
          "base_uri": "https://localhost:8080/"
        },
        "id": "iIaWlOfUw-_D",
        "outputId": "5263009d-90d0-44ee-cb7f-912f7930fe84"
      },
      "execution_count": null,
      "outputs": [
        {
          "output_type": "stream",
          "name": "stdout",
          "text": [
            "Model: \"sequential_4\"\n",
            "_________________________________________________________________\n",
            " Layer (type)                Output Shape              Param #   \n",
            "=================================================================\n",
            " flatten_4 (Flatten)         (None, 784)               0         \n",
            "                                                                 \n",
            " dense_8 (Dense)             (None, 100)               78500     \n",
            "                                                                 \n",
            " dropout (Dropout)           (None, 100)               0         \n",
            "                                                                 \n",
            " dense_9 (Dense)             (None, 10)                1010      \n",
            "                                                                 \n",
            "=================================================================\n",
            "Total params: 79,510\n",
            "Trainable params: 79,510\n",
            "Non-trainable params: 0\n",
            "_________________________________________________________________\n"
          ]
        }
      ]
    },
    {
      "cell_type": "code",
      "source": [
        "model.compile(optimizer='adam',loss='sparse_categorical_crossentropy',metrics='accuracy')\n",
        "history=model.fit(train_scaled,train_target,epochs=10,verbose=0,validation_data=(val_scaled,val_target))\n",
        "\n",
        "plt.plot(history.history['loss'])\n",
        "plt.plot(history.history['val_loss'])\n",
        "plt.xlabel('epochs')\n",
        "plt.ylabel('loss')\n",
        "plt.legend(['train','val'])\n",
        "plt.show()"
      ],
      "metadata": {
        "colab": {
          "base_uri": "https://localhost:8080/",
          "height": 282
        },
        "id": "DIeJ4u4tyUuu",
        "outputId": "5d02f4e0-c429-492d-b2e1-cf7152f8991f"
      },
      "execution_count": null,
      "outputs": [
        {
          "output_type": "display_data",
          "data": {
            "image/png": "[encoded data removed]",
            "text/plain": [
              "<Figure size 432x288 with 1 Axes>"
            ]
          },
          "metadata": {
            "needs_background": "light"
          }
        }
      ]
    },
    {
      "cell_type": "markdown",
      "source": [
        "* good!"
      ],
      "metadata": {
        "id": "0c7rB9iGzZ1a"
      }
    },
    {
      "cell_type": "code",
      "source": [
        "# 훈련된 모델의 파라미터를 저장하는 save_weights()\n",
        "model.save_weights('model-weights.h5')\n",
        "\n",
        "# 모델 구조와 모델 파라미터를 함께 저장하는 save()\n",
        "model.save('model-whole.h5')\n",
        "\n",
        "# 파일이 잘 만들어졌는지 확인\n",
        "!ls -al *.h5"
      ],
      "metadata": {
        "colab": {
          "base_uri": "https://localhost:8080/"
        },
        "id": "5AaKAnljzhSW",
        "outputId": "1b6e4fde-106b-4ce2-8190-78f897f60ad2"
      },
      "execution_count": null,
      "outputs": [
        {
          "output_type": "stream",
          "name": "stdout",
          "text": [
            "-rw-r--r-- 1 root root 333272 Feb  4 12:58 model-weights.h5\n",
            "-rw-r--r-- 1 root root 982568 Feb  4 12:58 model-whole.h5\n"
          ]
        }
      ]
    },
    {
      "cell_type": "markdown",
      "source": [
        "## 실험1: 훈련하지 않은 새로운 모델에 model-weights.h5 파일의 훈련된 모델 파라미터 사용하기"
      ],
      "metadata": {
        "id": "AD45vp7B0aXV"
      }
    },
    {
      "cell_type": "code",
      "source": [
        "model=model_fn(keras.layers.Dropout(0.3))\n",
        "model.load_weights('model-weights.h5')"
      ],
      "metadata": {
        "id": "dXNFwJBT0Gwe"
      },
      "execution_count": null,
      "outputs": []
    },
    {
      "cell_type": "markdown",
      "source": [
        "* save_weights - load_weights"
      ],
      "metadata": {
        "id": "IPao0z_m0_6f"
      }
    },
    {
      "cell_type": "code",
      "source": [
        "import numpy as np\n",
        "val_labels = np.argmax(model.predict(val_scaled),axis=-1)\n",
        "print(np.mean(val_labels == val_target))"
      ],
      "metadata": {
        "colab": {
          "base_uri": "https://localhost:8080/"
        },
        "id": "5mQ7hgE81QEz",
        "outputId": "6d63f444-6635-49f6-dc5f-4a085cac462f"
      },
      "execution_count": null,
      "outputs": [
        {
          "output_type": "stream",
          "name": "stdout",
          "text": [
            "0.8819166666666667\n"
          ]
        }
      ]
    },
    {
      "cell_type": "markdown",
      "source": [
        "* 검증 정확도 확인 \n",
        "* val 크기 (12000,10) 2차원\n",
        "* axis=-1 마지막차원은 1이기때문에 axis=1과 동일한 역할\n",
        "* val_label과 val_target이 같다면!! 평균하여 정확도를 측정함\n",
        "\n",
        "# 실험2: 모델 전체를 model-whole.h5 파일에서 읽은 후 정확도 출력하기"
      ],
      "metadata": {
        "id": "wWATWmuV1imZ"
      }
    },
    {
      "cell_type": "code",
      "source": [
        "model= keras.models.load_model('model-whole.h5')\n",
        "model.evaluate(val_scaled,val_target)"
      ],
      "metadata": {
        "colab": {
          "base_uri": "https://localhost:8080/"
        },
        "id": "dhIkzk0N4Tos",
        "outputId": "e1bfd33c-a4fa-480a-8249-58c13fc10a30"
      },
      "execution_count": null,
      "outputs": [
        {
          "output_type": "stream",
          "name": "stdout",
          "text": [
            "375/375 [==============================] - 1s 1ms/step - loss: 0.3263 - accuracy: 0.8819\n"
          ]
        },
        {
          "output_type": "execute_result",
          "data": {
            "text/plain": [
              "[0.3263416886329651, 0.8819166421890259]"
            ]
          },
          "metadata": {},
          "execution_count": 18
        }
      ]
    },
    {
      "cell_type": "markdown",
      "source": [
        "# 콜백"
      ],
      "metadata": {
        "id": "Bfbjwvpr4yyI"
      }
    },
    {
      "cell_type": "code",
      "source": [
        "model=model_fn(keras.layers.Dropout(0.3))\n",
        "model.compile(optimizer='adam',loss='sparse_categorical_crossentropy',metrics='accuracy')\n",
        "\n",
        "checkpoint_cb=keras.callbacks.ModelCheckpoint('best-model.h5',save_best_only=True)\n",
        "\n",
        "model.fit(train_scaled,train_target,epochs=20,verbose=0,\n",
        "          validation_data=(val_scaled,val_target),\n",
        "          callbacks=[checkpoint_cb])"
      ],
      "metadata": {
        "colab": {
          "base_uri": "https://localhost:8080/"
        },
        "id": "sULhoCo340eN",
        "outputId": "21c0aa98-b733-4385-a905-f4c6a7bc89bb"
      },
      "execution_count": null,
      "outputs": [
        {
          "output_type": "execute_result",
          "data": {
            "text/plain": [
              "<keras.callbacks.History at 0x7f18e0e507d0>"
            ]
          },
          "metadata": {},
          "execution_count": 20
        }
      ]
    },
    {
      "cell_type": "markdown",
      "source": [
        "* ModelCheckpoint 클래스의 객체 checkpoint_cb를 만들고 fit() 메서드의 callbacks 매개변수에 리스트로 감싸서 전달한다.\n",
        "* 모델 훈련 후 best-model.h5 파일에 최상의 검증 점수를 낸 모델이 저장된다."
      ],
      "metadata": {
        "id": "fO94NpRz548S"
      }
    },
    {
      "cell_type": "code",
      "source": [
        "model=keras.models.load_model('best-model.h5')\n",
        "model.evaluate(val_scaled,val_target)"
      ],
      "metadata": {
        "colab": {
          "base_uri": "https://localhost:8080/"
        },
        "id": "i4WkHej86ThS",
        "outputId": "63139c86-ed67-462f-f33e-f57c59375116"
      },
      "execution_count": null,
      "outputs": [
        {
          "output_type": "stream",
          "name": "stdout",
          "text": [
            "375/375 [==============================] - 1s 2ms/step - loss: 0.3229 - accuracy: 0.8798\n"
          ]
        },
        {
          "output_type": "execute_result",
          "data": {
            "text/plain": [
              "[0.3228980302810669, 0.8798333406448364]"
            ]
          },
          "metadata": {},
          "execution_count": 21
        }
      ]
    },
    {
      "cell_type": "code",
      "source": [
        "model=model_fn(keras.layers.Dropout(0.3))\n",
        "model.compile(optimizer='adam',loss='sparse_categorical_crossentropy',metrics='accuracy')\n",
        "\n",
        "checkpoint_cb = keras.callbacks.ModelCheckpoint('best-model.h5',save_best_only=True)\n",
        "\n",
        "early_stopping_cb = keras.callbacks.EarlyStopping(patience=2,restore_best_weights=True)\n",
        "\n",
        "history = model.fit(train_scaled,train_target,epochs=20,verbose=0,\n",
        "          validation_data=(val_scaled,val_target),\n",
        "          callbacks=[checkpoint_cb,early_stopping_cb])"
      ],
      "metadata": {
        "id": "fzD4M2ej-cnj"
      },
      "execution_count": null,
      "outputs": []
    },
    {
      "cell_type": "markdown",
      "source": [
        "* 조기종료 : 과대적합이 되기전에 훈련을 미리 중지 "
      ],
      "metadata": {
        "id": "3QkeqfFX_EME"
      }
    },
    {
      "cell_type": "code",
      "source": [
        "print(early_stopping_cb.stopped_epoch)"
      ],
      "metadata": {
        "colab": {
          "base_uri": "https://localhost:8080/"
        },
        "id": "8BZgGYbG_PCT",
        "outputId": "3c933ae7-ab38-4dc2-b64e-45d96e947086"
      },
      "execution_count": null,
      "outputs": [
        {
          "output_type": "stream",
          "name": "stdout",
          "text": [
            "7\n"
          ]
        }
      ]
    },
    {
      "cell_type": "markdown",
      "source": [
        "* 7에포크에서 조기 종료  "
      ],
      "metadata": {
        "id": "geiI3-EY_VXU"
      }
    },
    {
      "cell_type": "code",
      "source": [
        "plt.plot(history.history['loss'])\n",
        "plt.plot(history.history['val_loss'])\n",
        "plt.xlabel('epochs')\n",
        "plt.ylabel('loss')\n",
        "plt.legend(['train','val'])\n",
        "plt.show()"
      ],
      "metadata": {
        "colab": {
          "base_uri": "https://localhost:8080/",
          "height": 279
        },
        "id": "eaLOvob0_bLn",
        "outputId": "672db3b7-6463-4889-80e2-09377f254a7f"
      },
      "execution_count": null,
      "outputs": [
        {
          "output_type": "display_data",
          "data": {
            "image/png": "[encoded data removed]",
            "text/plain": [
              "<Figure size 432x288 with 1 Axes>"
            ]
          },
          "metadata": {
            "needs_background": "light"
          }
        }
      ]
    },
    {
      "cell_type": "code",
      "source": [
        "model.evaluate(val_scaled,val_target)"
      ],
      "metadata": {
        "colab": {
          "base_uri": "https://localhost:8080/"
        },
        "id": "AkEUwRLK_nrd",
        "outputId": "ec1363f8-73de-4b33-fb02-eb3bc1f8d305"
      },
      "execution_count": null,
      "outputs": [
        {
          "output_type": "stream",
          "name": "stdout",
          "text": [
            "375/375 [==============================] - 1s 2ms/step - loss: 0.3412 - accuracy: 0.8740\n"
          ]
        },
        {
          "output_type": "execute_result",
          "data": {
            "text/plain": [
              "[0.3412383198738098, 0.8740000128746033]"
            ]
          },
          "metadata": {},
          "execution_count": 25
        }
      ]
    }
  ]
}